{
 "cells": [
  {
   "cell_type": "markdown",
   "metadata": {},
   "source": [
    "### Resets all variables in the workspace"
   ]
  },
  {
   "cell_type": "code",
   "execution_count": 7,
   "metadata": {},
   "outputs": [],
   "source": [
    "%reset -f"
   ]
  },
  {
   "cell_type": "markdown",
   "metadata": {},
   "source": [
    "### Importing necessary libraries"
   ]
  },
  {
   "cell_type": "code",
   "execution_count": 8,
   "metadata": {},
   "outputs": [],
   "source": [
    "import os\n",
    "import numpy as np\n",
    "import pandas as pd\n",
    "import matplotlib as plt\n",
    "import pickle"
   ]
  },
  {
   "cell_type": "markdown",
   "metadata": {},
   "source": [
    "### Declaring functions"
   ]
  },
  {
   "cell_type": "code",
   "execution_count": 9,
   "metadata": {},
   "outputs": [],
   "source": [
    "#Function that reads all the pickle files in a folder, returns list of file names.\n",
    "def read_files_in_folder(folder_path: str) -> list[str]:\n",
    "\n",
    "    files = [f for f in os.listdir(folder_path) if f.endswith('.p')]\n",
    "    \n",
    "    return files"
   ]
  },
  {
   "cell_type": "code",
   "execution_count": 10,
   "metadata": {},
   "outputs": [],
   "source": [
    "#Function that reads all the pickle files in a folder, returns the unpacked transcrips as an array.\n",
    "def extract_transcripts(folder_path: str, ticker: str) -> np.ndarray: \n",
    "\n",
    "    file_path = os.path.join(folder_path, ticker) #File path.\n",
    "\n",
    "    with open(file_path, 'rb') as file: #Open file.\n",
    "\n",
    "        content = pickle.load(file) #Load content.\n",
    "        transcripts = np.empty(len(content), dtype=object) #Create empty array.\n",
    "\n",
    "        for i, entry in enumerate(content): #Iterate over the content.\n",
    "\n",
    "            transcripts[i] = entry[\"transcript\"] #Extract the transcript.\n",
    "            \n",
    "    return transcripts #Return the array of transcripts."
   ]
  },
  {
   "cell_type": "markdown",
   "metadata": {},
   "source": [
    "### Main function"
   ]
  },
  {
   "cell_type": "code",
   "execution_count": 11,
   "metadata": {},
   "outputs": [],
   "source": [
    "folder_path = 'tickers' #Path to the folder containing the pickle files.\n",
    "files = read_files_in_folder(folder_path) #List of all the pickle files in the folder.\n",
    "\n",
    "transcripts_list = [] #Initialize an empty list to store the transcripts.\n",
    "\n",
    "#Loop through all files and extract transcripts.\n",
    "for file in files:\n",
    "\n",
    "    transcripts = extract_transcripts(folder_path, file) #Extract the transcripts.\n",
    "    transcripts_list.append(transcripts) #Append the transcripts to the list.\n",
    "\n",
    "df_transcripts = pd.DataFrame(transcripts_list, index=files) #Create a DataFrame from the list.\n"
   ]
  }
 ],
 "metadata": {
  "kernelspec": {
   "display_name": "Python 3",
   "language": "python",
   "name": "python3"
  },
  "language_info": {
   "codemirror_mode": {
    "name": "ipython",
    "version": 3
   },
   "file_extension": ".py",
   "mimetype": "text/x-python",
   "name": "python",
   "nbconvert_exporter": "python",
   "pygments_lexer": "ipython3",
   "version": "3.11.9"
  }
 },
 "nbformat": 4,
 "nbformat_minor": 2
}
