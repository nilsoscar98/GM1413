{
 "cells": [
  {
   "cell_type": "markdown",
   "id": "53cd6837-a3b5-43d1-a79d-65cd690ae975",
   "metadata": {},
   "source": [
    "## <center><img src=\"./Data/GU-HHS-logo.jpg\"></center>\n",
    "\n",
    "<h1 style=\"font-size: 4em; text-align: center; font-weight: bold;\">Introduction to Python</font size></b></h1>\n",
    "<h1 style=\"font-family: Comic Sans MS; font-size: 3em; text-align: center; color: blue; font-style: italic;\">Lists<br<><br><br<><br></h1>\n",
    "    \n",
    "<div style=\"width: 100%; height: 20px; background: linear-gradient(to right, red, orange, yellow, green, blue, indigo, violet);\"></div>\n",
    "<div style=\"width: 100%; height: 20px; background: linear-gradient(to right, white, blue);\"></div>\n",
    "<hr style=\"border: 8px linear-gradient(to right, pink, yellow, cyan, lime) 1\">"
   ]
  },
  {
   "cell_type": "markdown",
   "id": "10a474a2-7994-4341-bc43-d421830c655f",
   "metadata": {},
   "source": [
    "<h1 style=\"font-family: Comic Sans MS; font-size: 4; color: blue; font-style: italic;\">... let's make a list of basics...</h1>"
   ]
  },
  {
   "cell_type": "code",
   "execution_count": null,
   "id": "b619b4bb-d2fe-439e-86d9-9862836fcff1",
   "metadata": {},
   "outputs": [],
   "source": [
    "# Lists\n",
    "# [1,2,3] # integer list !! can be almost anything e.g. string bool etc\n",
    "# Mutable == Changeable"
   ]
  },
  {
   "cell_type": "code",
   "execution_count": null,
   "id": "d398b4cd-1c87-480c-b016-060d499d6535",
   "metadata": {},
   "outputs": [],
   "source": [
    "int_list = [1, 2, 3]\n",
    "int_list"
   ]
  },
  {
   "cell_type": "code",
   "execution_count": null,
   "id": "3a117f54-209a-4834-abdb-fe1d5e936af3",
   "metadata": {},
   "outputs": [],
   "source": [
    "string_list = [\"one\", \"two\", \"three\"]\n",
    "string_list"
   ]
  },
  {
   "cell_type": "code",
   "execution_count": null,
   "id": "7e1bfa00-8d55-448d-bb62-b125a96b03e9",
   "metadata": {},
   "outputs": [],
   "source": [
    "mixed_list = [\"one\", 2, True]\n",
    "mixed_list"
   ]
  },
  {
   "cell_type": "code",
   "execution_count": null,
   "id": "3ef4d075-9470-4de3-a4db-e986e5a3ea7b",
   "metadata": {},
   "outputs": [],
   "source": [
    "my_portfolio = [\"APPL\", \"VOLCAR\", \"ERIC\", \"HM\"]"
   ]
  },
  {
   "cell_type": "code",
   "execution_count": null,
   "id": "1d5e211d-824c-42dd-9df2-e534d2295fef",
   "metadata": {},
   "outputs": [],
   "source": [
    "my_portfolio"
   ]
  },
  {
   "cell_type": "code",
   "execution_count": null,
   "id": "9fb658f4-10ef-4946-97e1-c56f61302a66",
   "metadata": {},
   "outputs": [],
   "source": [
    "print(my_portfolio[0])   # 0 first element"
   ]
  },
  {
   "cell_type": "code",
   "execution_count": null,
   "id": "0f754444-d557-41a5-99d2-a1f95ec50ca8",
   "metadata": {},
   "outputs": [],
   "source": [
    "# LAST element\n",
    "print(my_portfolio[-1])  # -1 last element"
   ]
  },
  {
   "cell_type": "code",
   "execution_count": null,
   "id": "30dc6412-11b2-445f-acf7-e8cb54731bff",
   "metadata": {},
   "outputs": [],
   "source": [
    "my_portfolio[3] = \"HMb\"   "
   ]
  },
  {
   "cell_type": "code",
   "execution_count": null,
   "id": "2d6e0c60-13e4-403e-a599-f0f9e5afaa6d",
   "metadata": {},
   "outputs": [],
   "source": [
    "my_portfolio"
   ]
  },
  {
   "cell_type": "code",
   "execution_count": null,
   "id": "d64bede7-16b4-4fc8-8cd0-b0aed9f13cca",
   "metadata": {},
   "outputs": [],
   "source": [
    "# Range of values...\n",
    "my_portfolio[0:3]   # 0, 1, 2 index"
   ]
  },
  {
   "cell_type": "markdown",
   "id": "a1c0d261-73ae-49eb-9412-2404668cd427",
   "metadata": {},
   "source": [
    "<h1 style=\"font-family: Comic Sans MS; font-size: 4; color: blue; font-style: italic;\">... how do we access and modify lists?</h1>"
   ]
  },
  {
   "cell_type": "code",
   "execution_count": null,
   "id": "7d8bada4-0ed5-41dd-a50a-a73d7b22e575",
   "metadata": {},
   "outputs": [],
   "source": [
    "# data types are also called OBJECTS\n",
    "\n",
    "new_stock = \"NVDA\""
   ]
  },
  {
   "cell_type": "code",
   "execution_count": null,
   "id": "f070fcc5-5690-4adc-9e43-9647dae104c7",
   "metadata": {},
   "outputs": [],
   "source": [
    "my_portfolio.append(new_stock)\n",
    "my_portfolio"
   ]
  },
  {
   "cell_type": "code",
   "execution_count": null,
   "id": "97c257be-2518-49b6-b307-ff74ae33750c",
   "metadata": {},
   "outputs": [],
   "source": [
    "# Whoops! not at the END\n",
    "\n",
    "my_portfolio.remove(\"NVDA\")\n",
    "my_portfolio"
   ]
  },
  {
   "cell_type": "code",
   "execution_count": null,
   "id": "2a5f9cf5-83fb-48dc-8d54-db0e85a1b967",
   "metadata": {},
   "outputs": [],
   "source": [
    "my_portfolio.append(new_stock) # need to replace it of course\n",
    "\n",
    "my_portfolio\n"
   ]
  },
  {
   "cell_type": "code",
   "execution_count": null,
   "id": "7618b817-696c-456d-ad8a-b0f0dcd10946",
   "metadata": {},
   "outputs": [],
   "source": [
    "del my_portfolio[4]\n",
    "\n",
    "my_portfolio"
   ]
  },
  {
   "cell_type": "code",
   "execution_count": null,
   "id": "7a346b2e-ea67-4231-8dd9-52d8547f69a9",
   "metadata": {},
   "outputs": [],
   "source": [
    "my_portfolio.insert(2, new_stock)\n",
    "\n",
    "print(my_portfolio)\n"
   ]
  },
  {
   "cell_type": "code",
   "execution_count": null,
   "id": "6252bfb3-dc37-4425-ba74-6d1abb341344",
   "metadata": {},
   "outputs": [],
   "source": [
    "# is something IN our list?\n",
    "\n",
    "print(\"APPL\" in my_portfolio) # returns a bool"
   ]
  },
  {
   "cell_type": "code",
   "execution_count": null,
   "id": "6e9778b9-7473-4c29-8ba7-106f30d2f88c",
   "metadata": {},
   "outputs": [],
   "source": [
    "print(\"MSFT\" in my_portfolio) # sold it ages ago!!"
   ]
  },
  {
   "cell_type": "code",
   "execution_count": null,
   "id": "f57e2d06-f1dc-4546-b283-c5adb50604c2",
   "metadata": {},
   "outputs": [],
   "source": [
    "print(len(my_portfolio))"
   ]
  },
  {
   "cell_type": "code",
   "execution_count": null,
   "id": "b6f16028-e4bb-4727-8485-71f5f3592626",
   "metadata": {},
   "outputs": [],
   "source": [
    "my_portfolio.clear()\n",
    "my_portfolio"
   ]
  },
  {
   "cell_type": "markdown",
   "id": "93ec301c-2136-4f63-86fd-21acb53683b8",
   "metadata": {},
   "source": [
    "<h1 style=\"font-family: Comic Sans MS; font-size: 4; color: blue; font-style: italic;\">... look's like we need to SORT this out...</h1>"
   ]
  },
  {
   "cell_type": "code",
   "execution_count": null,
   "id": "9924d076-9b39-436c-b727-afc3a365a5d0",
   "metadata": {},
   "outputs": [],
   "source": [
    "# sort()\n",
    "\n",
    "num_list = [2, 1, 8, 5, 3]\n",
    "\n",
    "num_list"
   ]
  },
  {
   "cell_type": "code",
   "execution_count": null,
   "id": "5a00039b-3169-4133-ba21-7a7003cc50f5",
   "metadata": {},
   "outputs": [],
   "source": [
    "# Sort in the defaulr ascending order.\n",
    "\n",
    "num_list.sort()\n",
    "\n",
    "num_list"
   ]
  },
  {
   "cell_type": "code",
   "execution_count": null,
   "id": "2da1dd3f-b674-490a-bebe-d89a5486ccc9",
   "metadata": {},
   "outputs": [],
   "source": [
    "# Now sort in descending order\n",
    "\n",
    "num_list.sort(reverse = True)  \n",
    "\n",
    "num_list\n"
   ]
  },
  {
   "cell_type": "code",
   "execution_count": null,
   "id": "c37666d6-56f6-43f1-8910-0c6df238ea38",
   "metadata": {},
   "outputs": [],
   "source": [
    "# .... look at the \"key\" parameter! it allow us to to all sorts of useful things...\n",
    "\n",
    "numbers = [-10, 5, -3, 2, -8]\n",
    "\n",
    "# Sort by the absolute value of each number\n",
    "numbers.sort(key=abs)\n",
    "\n",
    "print(numbers)"
   ]
  },
  {
   "cell_type": "code",
   "execution_count": null,
   "id": "3ee14408-bc45-45db-b1a6-6756c1c55e86",
   "metadata": {},
   "outputs": [],
   "source": [
    "# List of transaction IDs with varying lengths\n",
    "transaction_ids = [\n",
    "    \"TXN12345\",\n",
    "    \"TXN123456789\",\n",
    "    \"TXN12\",\n",
    "    \"TXN1234567\",\n",
    "    \"TXN123\"\n",
    "]\n",
    "\n",
    "# Sort the transaction IDs by their length\n",
    "transaction_ids.sort(key=len)\n",
    "\n",
    "print(transaction_ids)"
   ]
  },
  {
   "cell_type": "code",
   "execution_count": null,
   "id": "89426260-ffd1-4671-934a-e793dc4e5860",
   "metadata": {},
   "outputs": [],
   "source": [
    " # restore the unsorted list\n",
    "\n",
    "num_list = [2, 1, 8, 5, 3]   \n",
    "\n",
    "print(num_list)"
   ]
  },
  {
   "cell_type": "code",
   "execution_count": null,
   "id": "9eef2e8c-8575-4e9b-a30f-ff0e1959c13a",
   "metadata": {},
   "outputs": [],
   "source": [
    "# Use the sorted() function to display a sorted list without changing the original...\n",
    "\n",
    "print(sorted(num_list))"
   ]
  },
  {
   "cell_type": "code",
   "execution_count": null,
   "id": "f904e119-0395-432a-ac0b-6525170bbd86",
   "metadata": {},
   "outputs": [],
   "source": [
    "# and print it again to see if it's been altered...\n",
    "num_list"
   ]
  },
  {
   "cell_type": "code",
   "execution_count": null,
   "id": "c5937e7b-43d7-43eb-9506-4f09f3dc7aa0",
   "metadata": {},
   "outputs": [],
   "source": [
    "# The reverse method() reverses the order of the elements in a list ...\n",
    "# ... it DOES NOT sort them...\n",
    "\n",
    "num_list.reverse()\n",
    "\n",
    "print(num_list)\n"
   ]
  },
  {
   "cell_type": "markdown",
   "id": "24a9eb80-7f7f-4bd8-8ec9-d9e2c8b203d0",
   "metadata": {},
   "source": [
    "<h1 style=\"font-family: Comic Sans MS; font-size: 4; color: blue; font-style: italic;\">... loop the loop....</h1>"
   ]
  },
  {
   "cell_type": "code",
   "execution_count": null,
   "id": "bcc1bdb3-92a9-4565-b4b6-6890bd73b95b",
   "metadata": {},
   "outputs": [],
   "source": [
    "# for .............. loops\n",
    "\n",
    "my_portfolio = [\"APPL\", \"VOLCAR\",\"NVDA\", \"ERIC\", \"HMb\"]   # remember, we cleared this erlier ;-)\n",
    "\n",
    "for tic in my_portfolio:\n",
    "    print(tic)\t\n"
   ]
  },
  {
   "cell_type": "code",
   "execution_count": null,
   "id": "499843fa-e44a-4911-8e25-1d78151d9e97",
   "metadata": {},
   "outputs": [],
   "source": [
    "# Numerical lists - range()\n",
    "\n",
    "\n",
    "for i in range(1, 5):\n",
    "    print(f\"\\t{i}\")\n",
    "    \n",
    "print(\"\\n...this, unindented, statement denotes the end of the FOR loop\")\n"
   ]
  },
  {
   "cell_type": "code",
   "execution_count": null,
   "id": "7f90cbc8-634f-4edf-b471-09d997cd69bc",
   "metadata": {},
   "outputs": [],
   "source": [
    "# range() example: Loan interest program\n",
    "\n",
    "principal = float(input(\"Please input the the loan principal amount\"))\n",
    "interest = float(input(\"Please input the fixed interest rate: \"))\n",
    "year = int(input(\"Please provide the loan tenor (years): \"))\n",
    "\n",
    "interest_payments = []\n",
    "\n",
    "for value in range(1, year + 1):\n",
    "     interest_payments.append(principal * interest)\n",
    "    \n",
    "print(\"\\nPayments schedule\", interest_payments) # by year\n",
    "print(\"Total interest payments over\", year, \"years will be\", sum(interest_payments), \"USD\")\n"
   ]
  },
  {
   "cell_type": "code",
   "execution_count": null,
   "id": "aa6bcedb-c7bc-4616-aa46-ff5d6431ab5b",
   "metadata": {},
   "outputs": [],
   "source": [
    "# Creating lists with the range() function ...\n",
    "\n",
    "num_list = list(range(1,6))\n",
    "\n",
    "num_list\n"
   ]
  },
  {
   "cell_type": "code",
   "execution_count": null,
   "id": "80ab774a-25a4-4f78-995e-f6a4511faccf",
   "metadata": {},
   "outputs": [],
   "source": [
    "# step  ...\n",
    "\n",
    "odd_numbers = list(range(1, 10, 2))\n",
    "\n",
    "print(odd_numbers)\n"
   ]
  },
  {
   "cell_type": "code",
   "execution_count": null,
   "id": "d4fe5f8e-9192-4940-96dd-82eeb2673b66",
   "metadata": {},
   "outputs": [],
   "source": [
    "# list comprehension\n",
    "\n",
    "# Principal investment amount (initial deposit) \n",
    "P = 1000 # $1000 \n",
    "\n",
    "# Annual interest rate (as a decimal)\n",
    "r = 0.05 # 5% \n",
    "\n",
    "# Number of years money is invested \n",
    "years = 10\n",
    "\n",
    "# Calculate future values for each year using a list comprehension \n",
    "future_values = [P * (1 + r * t) for t in range(1, years + 1)]\n",
    "print(future_values)\n",
    "\n"
   ]
  },
  {
   "cell_type": "markdown",
   "id": "9fa1f20a-0a67-4189-955c-0585465568b1",
   "metadata": {},
   "source": [
    "<h1 style=\"font-family: Comic Sans MS; font-size: 4; color: blue; font-style: italic;\">... Slice 'n Dice...</h1>"
   ]
  },
  {
   "cell_type": "code",
   "execution_count": 341,
   "id": "799742a5-ae49-4429-b9b1-ea1fda349dee",
   "metadata": {},
   "outputs": [
    {
     "name": "stdout",
     "output_type": "stream",
     "text": [
      "['APPL', 'VOLCAR', 'NVDA', 'ERIC', 'HMb', 'DIS']\n",
      "\n",
      "Slice of first 4 stocks is:  ['APPL', 'VOLCAR', 'NVDA', 'ERIC']\n"
     ]
    }
   ],
   "source": [
    "# SLICING lists\n",
    "# [first index : last index +1]\n",
    "\n",
    "print(my_portfolio)\n",
    "print(\"\\nSlice of first 4 stocks is: \", my_portfolio[0:4])\n"
   ]
  },
  {
   "cell_type": "code",
   "execution_count": 343,
   "id": "02454164-b503-4d2f-912a-574c8555a6d3",
   "metadata": {},
   "outputs": [
    {
     "name": "stdout",
     "output_type": "stream",
     "text": [
      "['VOLCAR']\n"
     ]
    }
   ],
   "source": [
    "print(my_portfolio[1:2])"
   ]
  },
  {
   "cell_type": "code",
   "execution_count": 345,
   "id": "7cfa1fe3-175a-4d3d-a3dd-1342cf76a5c6",
   "metadata": {},
   "outputs": [
    {
     "name": "stdout",
     "output_type": "stream",
     "text": [
      "['APPL', 'VOLCAR']\n"
     ]
    }
   ],
   "source": [
    "# slice from 0\n",
    "\n",
    "print(my_portfolio[:2])"
   ]
  },
  {
   "cell_type": "code",
   "execution_count": 347,
   "id": "83e15d35-0f76-4c22-b76a-15d4a7dbdadb",
   "metadata": {},
   "outputs": [
    {
     "name": "stdout",
     "output_type": "stream",
     "text": [
      "['VOLCAR', 'NVDA', 'ERIC', 'HMb', 'DIS']\n"
     ]
    }
   ],
   "source": [
    "# slice to end of list\n",
    "\n",
    "print(my_portfolio[1:])"
   ]
  },
  {
   "cell_type": "code",
   "execution_count": 353,
   "id": "c0c6368c-99f3-4362-af66-7a30d4820a41",
   "metadata": {},
   "outputs": [
    {
     "name": "stdout",
     "output_type": "stream",
     "text": [
      "['ERIC', 'HMb']\n"
     ]
    }
   ],
   "source": [
    "# -ive index\n",
    "\n",
    "print(my_portfolio[-2:]) # last 2 elements"
   ]
  },
  {
   "cell_type": "markdown",
   "id": "8e57bdf2-9ed6-4527-b30f-0266fe2e791d",
   "metadata": {},
   "source": [
    "<h1 style=\"font-family: Comic Sans MS; font-size: 4; color: blue; font-style: italic;\">Copying lists ... The Good .. the Bad (...and the Ugly)</h1>"
   ]
  },
  {
   "cell_type": "code",
   "execution_count": 351,
   "id": "e2cceefc-ade2-42a7-87fd-453ed498e4c6",
   "metadata": {},
   "outputs": [],
   "source": [
    "# Ways to copy lists 1: SLICING\n",
    "my_portfolio = [\"APPL\", \"VOLCAR\",\"NVDA\", \"ERIC\", \"HMb\"]\n",
    "\n",
    "my_original_portfolio = my_portfolio[:]"
   ]
  },
  {
   "cell_type": "code",
   "execution_count": null,
   "id": "029c4c04-eb84-42be-bf13-26b086ed73d7",
   "metadata": {},
   "outputs": [],
   "source": [
    "# Ways to copy lists 2: .copy() method\n",
    "\n",
    "my_original_portfolio = my_portfolio.copy()"
   ]
  },
  {
   "cell_type": "code",
   "execution_count": 355,
   "id": "a1c3c058-a36e-4d40-8f41-39a4b63cf7ca",
   "metadata": {},
   "outputs": [],
   "source": [
    "# Ways to copy lists 3: list() contructor\n",
    "\n",
    "my_original_portfolio = list(my_portfolio)"
   ]
  },
  {
   "cell_type": "code",
   "execution_count": 357,
   "id": "68c1f44d-be56-4633-b088-f5b287eeab74",
   "metadata": {},
   "outputs": [
    {
     "name": "stdout",
     "output_type": "stream",
     "text": [
      "This is my original portfolio  ['APPL', 'VOLCAR', 'NVDA', 'ERIC', 'HMb']\n",
      "This is my current portfolio  ['APPL', 'VOLCAR', 'NVDA', 'ERIC', 'HMb']\n"
     ]
    }
   ],
   "source": [
    "print(\"This is my original portfolio \", my_original_portfolio)\n",
    "print(\"This is my current portfolio \", my_portfolio)\n"
   ]
  },
  {
   "cell_type": "code",
   "execution_count": 359,
   "id": "8aa2f4a9-bc12-4fe6-a203-5a73e7c2954c",
   "metadata": {},
   "outputs": [],
   "source": [
    "# New stock from Disney\n",
    "\n",
    "my_portfolio.append(\"DIS\")"
   ]
  },
  {
   "cell_type": "code",
   "execution_count": 361,
   "id": "b64d6fcb-83f4-40f2-8274-545d682caaba",
   "metadata": {},
   "outputs": [
    {
     "name": "stdout",
     "output_type": "stream",
     "text": [
      "This is my original portfolio  ['APPL', 'VOLCAR', 'NVDA', 'ERIC', 'HMb']\n",
      "This is my current portfolio  ['APPL', 'VOLCAR', 'NVDA', 'ERIC', 'HMb', 'DIS']\n"
     ]
    }
   ],
   "source": [
    "print(\"This is my original portfolio \", my_original_portfolio)\n",
    "print(\"This is my current portfolio \", my_portfolio)\n",
    "\n",
    "# you see that ONLY my current portfolio has changed ... as requested!"
   ]
  },
  {
   "cell_type": "code",
   "execution_count": 363,
   "id": "22d1a9e5-9f1a-4ab4-896b-e31765093349",
   "metadata": {},
   "outputs": [],
   "source": [
    "# and now ...... the BAD and UGLY ...\n",
    "my_portfolio = [\"APPL\", \"VOLCAR\",\"NVDA\", \"ERIC\", \"HMb\"]\n",
    "\n",
    "my_original_portfolio = my_portfolio\n",
    "\n",
    "my_portfolio.append(\"DIS\")\n",
    "\n",
    "# we have inadvertently changed BOTH lists"
   ]
  },
  {
   "cell_type": "code",
   "execution_count": 365,
   "id": "2d7ceb24-ff88-4a31-a030-ba9c36ad074a",
   "metadata": {},
   "outputs": [
    {
     "name": "stdout",
     "output_type": "stream",
     "text": [
      "This is my original portfolio  ['APPL', 'VOLCAR', 'NVDA', 'ERIC', 'HMb', 'DIS']\n",
      "This is my current portfolio  ['APPL', 'VOLCAR', 'NVDA', 'ERIC', 'HMb', 'DIS']\n"
     ]
    }
   ],
   "source": [
    "print(\"This is my original portfolio \", my_original_portfolio)\n",
    "print(\"This is my current portfolio \", my_portfolio)\n"
   ]
  },
  {
   "cell_type": "markdown",
   "id": "d0fc6401-7ba5-465f-88ca-4b93e2426707",
   "metadata": {},
   "source": [
    "<h1 style=\"font-family: Comic Sans MS; font-size: 4; color: blue; font-style: italic;\">... The Immutable Tuple...</h1>"
   ]
  },
  {
   "cell_type": "code",
   "execution_count": 367,
   "id": "ae6d8671-1f05-481c-b037-b9b0f16a3038",
   "metadata": {},
   "outputs": [],
   "source": [
    "# Tuples\n",
    "# IMMUTABLE collections - like list but cannot be modified\n",
    "# ()\n",
    "\n",
    "historical_price = (\"2024-10-01\", 148.00, 151.00, 147.50, 150.25)  # fixed record"
   ]
  },
  {
   "cell_type": "code",
   "execution_count": 369,
   "id": "f8e72b30-aa49-428c-838b-0f9bbe946004",
   "metadata": {},
   "outputs": [
    {
     "ename": "TypeError",
     "evalue": "'tuple' object does not support item assignment",
     "output_type": "error",
     "traceback": [
      "\u001b[1;31m---------------------------------------------------------------------------\u001b[0m",
      "\u001b[1;31mTypeError\u001b[0m                                 Traceback (most recent call last)",
      "Cell \u001b[1;32mIn[369], line 1\u001b[0m\n\u001b[1;32m----> 1\u001b[0m historical_price[\u001b[38;5;241m1\u001b[39m] \u001b[38;5;241m=\u001b[39m \u001b[38;5;241m148.5\u001b[39m\n",
      "\u001b[1;31mTypeError\u001b[0m: 'tuple' object does not support item assignment"
     ]
    }
   ],
   "source": [
    "historical_price[1] = 148.5"
   ]
  },
  {
   "cell_type": "code",
   "execution_count": 371,
   "id": "b6fb2539-341f-4bb6-935e-6fbea128c5d5",
   "metadata": {},
   "outputs": [],
   "source": [
    "historical_price = (\"2025-10-01\", 148.50, 151.00, 147.50, 150.25)"
   ]
  },
  {
   "cell_type": "code",
   "execution_count": 373,
   "id": "30473f35-7396-488d-98c8-52dd2df53161",
   "metadata": {},
   "outputs": [
    {
     "data": {
      "text/plain": [
       "('2025-10-01', 148.5, 151.0, 147.5, 150.25)"
      ]
     },
     "execution_count": 373,
     "metadata": {},
     "output_type": "execute_result"
    }
   ],
   "source": [
    "historical_price"
   ]
  },
  {
   "cell_type": "code",
   "execution_count": null,
   "id": "979e2d43-0d0c-4171-84d6-c353ac8381d6",
   "metadata": {},
   "outputs": [],
   "source": []
  }
 ],
 "metadata": {
  "kernelspec": {
   "display_name": "Python 3 (ipykernel)",
   "language": "python",
   "name": "python3"
  },
  "language_info": {
   "codemirror_mode": {
    "name": "ipython",
    "version": 3
   },
   "file_extension": ".py",
   "mimetype": "text/x-python",
   "name": "python",
   "nbconvert_exporter": "python",
   "pygments_lexer": "ipython3",
   "version": "3.11.7"
  }
 },
 "nbformat": 4,
 "nbformat_minor": 5
}
