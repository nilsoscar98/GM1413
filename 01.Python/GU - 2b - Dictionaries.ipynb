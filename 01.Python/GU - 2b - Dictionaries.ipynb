{
 "cells": [
  {
   "cell_type": "markdown",
   "id": "53cd6837-a3b5-43d1-a79d-65cd690ae975",
   "metadata": {},
   "source": [
    "## <center><img src=\"./Data/GU-HHS-logo.jpg\"></center>\n",
    "\n",
    "<h1 style=\"font-size: 4em; text-align: center; font-weight: bold;\">Introduction to Python</font size></b></h1>\n",
    "<h1 style=\"font-family: Comic Sans MS; font-size: 3em; text-align: center; color: blue; font-style: italic;\">Dictionaries<br<><br><br<><br></h1>\n",
    "    \n",
    "<div style=\"width: 100%; height: 20px; background: linear-gradient(to right, red, orange, yellow, green, blue, indigo, violet);\"></div>\n",
    "<div style=\"width: 100%; height: 20px; background: linear-gradient(to right, white, blue);\"></div>\n",
    "<hr style=\"border: 8px linear-gradient(to right, pink, yellow, cyan, lime) 1\">"
   ]
  },
  {
   "cell_type": "markdown",
   "id": "819a12d1-675b-4568-a5c2-8daaff566e0d",
   "metadata": {},
   "source": [
    "<h1 style=\"font-family: Comic Sans MS; font-size: 4; color: blue; font-style: italic;\">Dictionaries are formed through Key – value pairs...</h1>"
   ]
  },
  {
   "cell_type": "code",
   "execution_count": 2,
   "id": "92dfacf9-ca67-4f2f-8537-3f85e901e872",
   "metadata": {},
   "outputs": [],
   "source": [
    "stock_1 = {'ticker': \"APPL\", 'shares':  25, 'price': 250}  # Dicts use { }   Lists use []"
   ]
  },
  {
   "cell_type": "code",
   "execution_count": 4,
   "id": "429ada78-97d7-4096-907a-bf7c792c40ff",
   "metadata": {},
   "outputs": [
    {
     "name": "stdout",
     "output_type": "stream",
     "text": [
      "{'ticker': 'APPL', 'shares': 25, 'price': 250}\n"
     ]
    }
   ],
   "source": [
    "print(stock_1)"
   ]
  },
  {
   "cell_type": "markdown",
   "id": "73aea203-b45a-4bdc-8757-11266390deb2",
   "metadata": {},
   "source": [
    "<h1 style=\"font-family: Comic Sans MS; font-size: 4; color: blue; font-style: italic;\">how do we access dictionary items?</h1>"
   ]
  },
  {
   "cell_type": "code",
   "execution_count": 6,
   "id": "673af8d2-528e-4b0b-bf34-98d76f58d167",
   "metadata": {},
   "outputs": [
    {
     "name": "stdout",
     "output_type": "stream",
     "text": [
      "APPL\n"
     ]
    }
   ],
   "source": [
    "print(stock_1['ticker'])"
   ]
  },
  {
   "cell_type": "code",
   "execution_count": 8,
   "id": "6aeb9042-fe10-4a80-b279-81020832ca94",
   "metadata": {},
   "outputs": [
    {
     "name": "stdout",
     "output_type": "stream",
     "text": [
      "APPL\n"
     ]
    }
   ],
   "source": [
    "stock_1 = {1: \"APPL\", 'shares':  25, 'price': 250}\n",
    "print(stock_1[1])\n"
   ]
  },
  {
   "cell_type": "markdown",
   "id": "398536f1-9491-43de-bc4f-d2f033ca85c9",
   "metadata": {},
   "source": [
    "<h1 style=\"font-family: Comic Sans MS; font-size: 4; color: blue; font-style: italic;\">... how does the system respond if we try to access a non-existent key in a dictionary?</h1>"
   ]
  },
  {
   "cell_type": "code",
   "execution_count": 10,
   "id": "728c6a98-8205-48ee-9e21-f2ff3d4c0509",
   "metadata": {},
   "outputs": [
    {
     "ename": "KeyError",
     "evalue": "0",
     "output_type": "error",
     "traceback": [
      "\u001b[1;31m---------------------------------------------------------------------------\u001b[0m",
      "\u001b[1;31mKeyError\u001b[0m                                  Traceback (most recent call last)",
      "Cell \u001b[1;32mIn[10], line 1\u001b[0m\n\u001b[1;32m----> 1\u001b[0m stock_1[\u001b[38;5;241m0\u001b[39m]\n",
      "\u001b[1;31mKeyError\u001b[0m: 0"
     ]
    }
   ],
   "source": [
    "stock_1[0]"
   ]
  },
  {
   "cell_type": "code",
   "execution_count": 19,
   "id": "0d839961-bb83-47fd-bb0d-341e269ad5bb",
   "metadata": {},
   "outputs": [
    {
     "ename": "SyntaxError",
     "evalue": "invalid character '‘' (U+2018) (2518806690.py, line 1)",
     "output_type": "error",
     "traceback": [
      "\u001b[1;36m  Cell \u001b[1;32mIn[19], line 1\u001b[1;36m\u001b[0m\n\u001b[1;33m    stock_1[‘date’]\u001b[0m\n\u001b[1;37m            ^\u001b[0m\n\u001b[1;31mSyntaxError\u001b[0m\u001b[1;31m:\u001b[0m invalid character '‘' (U+2018)\n"
     ]
    }
   ],
   "source": [
    "stock_1[‘date’]"
   ]
  },
  {
   "cell_type": "markdown",
   "id": "a7a15a03-d6fb-432f-bced-7fa770847bb6",
   "metadata": {},
   "source": [
    "<h1 style=\"font-family: Comic Sans MS; color: blue; font-style: italic;\">so, let's trap the error with get() method...</h1>"
   ]
  },
  {
   "cell_type": "code",
   "execution_count": 14,
   "id": "68c0f666-ca72-4dfa-9385-70383582cda3",
   "metadata": {},
   "outputs": [
    {
     "name": "stdout",
     "output_type": "stream",
     "text": [
      "The key, 'date' was not found\n",
      "{1: 'APPL', 'shares': 25, 'price': 250}\n"
     ]
    }
   ],
   "source": [
    "print(stock_1.get('date', \"The key, 'date' was not found\"))\n",
    "\n",
    "print(stock_1)\n"
   ]
  },
  {
   "cell_type": "markdown",
   "id": "d773c8e0-8dfa-4940-a530-6513f78daf95",
   "metadata": {},
   "source": [
    "<h1 style=\"font-family: Comic Sans MS; font-size: 4; color: blue; font-style: italic;\">Add, delete and update dictionary elements...</h1>"
   ]
  },
  {
   "cell_type": "code",
   "execution_count": 24,
   "id": "ee510e80-ce99-427e-a110-3d2a8e3d4f17",
   "metadata": {},
   "outputs": [],
   "source": [
    "# add a date\n",
    "\n",
    "stock_1['date'] = \"2024-07-16\""
   ]
  },
  {
   "cell_type": "code",
   "execution_count": 26,
   "id": "ec9cdc11-79c2-45d9-bbba-8e1d26b26d2a",
   "metadata": {},
   "outputs": [
    {
     "name": "stdout",
     "output_type": "stream",
     "text": [
      "{1: 'APPL', 'shares': 25, 'price': 300, 'date': '2024-07-16'}\n"
     ]
    }
   ],
   "source": [
    "# change a value\n",
    "\n",
    "stock_1['price'] = 300\n",
    "\n",
    "print(stock_1)"
   ]
  },
  {
   "cell_type": "code",
   "execution_count": 28,
   "id": "4369dd03-5bfb-4c12-b2bf-df87203d54e1",
   "metadata": {},
   "outputs": [
    {
     "name": "stdout",
     "output_type": "stream",
     "text": [
      "{1: 'APPL', 'shares': 10, 'price': 300, 'date': '2024-07-16'}\n"
     ]
    }
   ],
   "source": [
    "# update() method\n",
    "\n",
    "stock_1.update({'shares': 10})\n",
    "\n",
    "print(stock_1)"
   ]
  },
  {
   "cell_type": "code",
   "execution_count": 30,
   "id": "c3277936-6cff-42d0-b7b0-c01228226e44",
   "metadata": {},
   "outputs": [
    {
     "name": "stdout",
     "output_type": "stream",
     "text": [
      "{1: 'APPL', 'shares': 30, 'price': 340, 'date': '2024-07-16'}\n"
     ]
    }
   ],
   "source": [
    "# update() is very useful when we want to update many values at a time!\n",
    "stock_1.update({'shares': 30, 'price': 340})   #Note use of both () together with {}\n",
    "\n",
    "print(stock_1)\n"
   ]
  },
  {
   "cell_type": "code",
   "execution_count": 35,
   "id": "d657faa6-10a9-48b9-b8c6-91c310731605",
   "metadata": {},
   "outputs": [
    {
     "data": {
      "text/plain": [
       "{1: 'APPL', 'shares': 30, 'price': 340}"
      ]
     },
     "execution_count": 35,
     "metadata": {},
     "output_type": "execute_result"
    }
   ],
   "source": [
    "# Delete a key-value pair\n",
    "\n",
    "del stock_1['date']\n",
    "\n",
    "stock_1"
   ]
  },
  {
   "cell_type": "code",
   "execution_count": 37,
   "id": "08c0e6b9-e186-473a-8687-04ae3f22d87d",
   "metadata": {},
   "outputs": [],
   "source": [
    "# Restore the date\n",
    "\n",
    "stock_1['date'] = \"2024-07-16\""
   ]
  },
  {
   "cell_type": "code",
   "execution_count": 39,
   "id": "d1eb45b3-d5d4-4b5c-a79c-377cfcf92c72",
   "metadata": {},
   "outputs": [
    {
     "name": "stdout",
     "output_type": "stream",
     "text": [
      "{1: 'APPL', 'price': 340, 'date': '2024-07-16'}\n",
      "30\n"
     ]
    }
   ],
   "source": [
    "# The pop() method\n",
    "\n",
    "share_amount = stock_1.pop('shares')\n",
    "\n",
    "print(stock_1)\n",
    "\n",
    "print(share_amount)\n"
   ]
  },
  {
   "cell_type": "code",
   "execution_count": 41,
   "id": "2187638f-11e9-401f-84f5-0477015fce0b",
   "metadata": {},
   "outputs": [],
   "source": [
    "# restore the shares\n",
    "\n",
    "stock_1['shares']= 25"
   ]
  },
  {
   "cell_type": "markdown",
   "id": "f7108537-ec2a-48f8-9ca8-b8b447fa4061",
   "metadata": {},
   "source": [
    "<h1 style=\"font-family: Comic Sans MS; font-size: 4; color: blue; font-style: italic;\">Looping through dictionaries</h1>"
   ]
  },
  {
   "cell_type": "code",
   "execution_count": 44,
   "id": "8cf82e96-aa9d-4a5a-9fc4-a12d9471e5a8",
   "metadata": {},
   "outputs": [
    {
     "name": "stdout",
     "output_type": "stream",
     "text": [
      "dict_keys([1, 'price', 'date', 'shares'])\n",
      "dict_values(['APPL', 340, '2024-07-16', 25])\n",
      "dict_items([(1, 'APPL'), ('price', 340), ('date', '2024-07-16'), ('shares', 25)])\n"
     ]
    }
   ],
   "source": [
    "# First, we look at how to access individual components:\n",
    "\n",
    "print(stock_1.keys())\n",
    "\n",
    "print(stock_1.values())\n",
    "\n",
    "print(stock_1.items())    # for both keys and values PAIRS\n"
   ]
  },
  {
   "cell_type": "code",
   "execution_count": 46,
   "id": "a00fc04e-39fa-4824-a19e-5946f75e9c9f",
   "metadata": {},
   "outputs": [
    {
     "name": "stdout",
     "output_type": "stream",
     "text": [
      "1\n",
      "price\n",
      "date\n",
      "shares\n"
     ]
    }
   ],
   "source": [
    "# without using a METHOD it will just loop through the keys:\n",
    "\n",
    "for key in stock_1 :\n",
    "\tprint(key)\n"
   ]
  },
  {
   "cell_type": "code",
   "execution_count": 48,
   "id": "ac116c4b-7993-4f58-a4e8-d1e07b0b336f",
   "metadata": {},
   "outputs": [
    {
     "name": "stdout",
     "output_type": "stream",
     "text": [
      "1 APPL\n",
      "price 340\n",
      "date 2024-07-16\n",
      "shares 25\n"
     ]
    }
   ],
   "source": [
    "# to also get value we use items:\n",
    "\n",
    "for key, value in stock_1.items():\n",
    "\tprint(key, value)\n"
   ]
  },
  {
   "cell_type": "markdown",
   "id": "d8616e96-208b-45d1-aabf-cb02015407e5",
   "metadata": {},
   "source": [
    "<h1 style=\"font-family: Comic Sans MS; font-size: 4; color: blue; font-style: italic;\">Suppose you are analyzing the quarterly sales data of different products in a company.</h1>"
   ]
  },
  {
   "cell_type": "code",
   "execution_count": 51,
   "id": "0def5bde-12df-4766-b138-32501803ae81",
   "metadata": {},
   "outputs": [],
   "source": [
    "# Dictionary of quarterly sales data\n",
    "sales_data = {\n",
    "    'Product A': 15000,\n",
    "    'Product B': 23000,\n",
    "    'Product C': 12000,\n",
    "    'Product D': 19000\n",
    "}\n"
   ]
  },
  {
   "cell_type": "code",
   "execution_count": 53,
   "id": "58c72fbb-230c-4194-aa3e-cc4d9b80b32c",
   "metadata": {},
   "outputs": [
    {
     "name": "stdout",
     "output_type": "stream",
     "text": [
      "Product A's Q1 sales total is 15000.\n",
      "Product B's Q1 sales total is 23000.\n",
      "Product C's Q1 sales total is 12000.\n",
      "Product D's Q1 sales total is 19000.\n"
     ]
    }
   ],
   "source": [
    "# loop through and produce a meaning output for the data:\n",
    "\n",
    "for product, sales in sales_data.items():\n",
    "    print(f\"{product.title()}'s Q1 sales total is {sales}.\")\n"
   ]
  },
  {
   "cell_type": "code",
   "execution_count": 55,
   "id": "647d1860-3fe4-48f0-826c-410379767f5d",
   "metadata": {},
   "outputs": [
    {
     "name": "stdout",
     "output_type": "stream",
     "text": [
      "dict_values([15000, 23000, 12000, 19000])\n"
     ]
    }
   ],
   "source": [
    "# Using the .values() method to get the sales figures:\n",
    "\n",
    "sales_values = sales_data.values()\n",
    "print(sales_values)\n",
    "\n",
    "# Note the type of sales_values is also a dict.\n"
   ]
  },
  {
   "cell_type": "code",
   "execution_count": 57,
   "id": "70116feb-951a-4efc-a957-68fd7d6550b6",
   "metadata": {},
   "outputs": [
    {
     "data": {
      "text/plain": [
       "69000"
      ]
     },
     "execution_count": 57,
     "metadata": {},
     "output_type": "execute_result"
    }
   ],
   "source": [
    "# Calculate total sales for the quarter:\n",
    "\n",
    "total_sales = sum(sales_values)\n",
    "total_sales\n"
   ]
  },
  {
   "cell_type": "code",
   "execution_count": 59,
   "id": "a9ce41da-88eb-40c0-a3f5-c4acd57493fa",
   "metadata": {},
   "outputs": [
    {
     "data": {
      "text/plain": [
       "17250.0"
      ]
     },
     "execution_count": 59,
     "metadata": {},
     "output_type": "execute_result"
    }
   ],
   "source": [
    "# Calculate average sales per product:\n",
    "\n",
    "average_sales = total_sales / len(sales_values)\n",
    "average_sales\n"
   ]
  },
  {
   "cell_type": "code",
   "execution_count": 61,
   "id": "01e98713-3dc3-4fae-9456-630b9245d35b",
   "metadata": {},
   "outputs": [
    {
     "name": "stdout",
     "output_type": "stream",
     "text": [
      "Total Sales: $69000\n",
      "Average Sales per Product: $17250.00\n"
     ]
    }
   ],
   "source": [
    "# now summarise:\n",
    "\n",
    "print(f\"Total Sales: ${total_sales}\")\n",
    "print(f\"Average Sales per Product: ${average_sales:.2f}\")\n"
   ]
  },
  {
   "cell_type": "markdown",
   "id": "e7ad8a39-d372-4bac-b57f-f6521f243615",
   "metadata": {},
   "source": [
    "<h1 style=\"font-family: Comic Sans MS; font-size: 4; color: blue; font-style: italic;\">Nesting Dictionaries</h1>"
   ]
  },
  {
   "cell_type": "code",
   "execution_count": 64,
   "id": "8d0d57d6-c753-4523-a38b-919763b451b7",
   "metadata": {},
   "outputs": [
    {
     "data": {
      "text/plain": [
       "[{'ticker': 'AAPL',\n",
       "  'shares': 50,\n",
       "  ' purchase_price': 145.3,\n",
       "  'current_price': 150.0},\n",
       " {'ticker': 'MSFT',\n",
       "  'shares': 20,\n",
       "  'purchase_price': 299.0,\n",
       "  'current_price': 305.5},\n",
       " {'ticker': 'GOOGL',\n",
       "  'shares': 10,\n",
       "  'purchase_price': 2520.0,\n",
       "  'current_price': 2580.0}]"
      ]
     },
     "execution_count": 64,
     "metadata": {},
     "output_type": "execute_result"
    }
   ],
   "source": [
    "# build a list of stocks to comprise our portfolio as follows:\n",
    "\n",
    "my_portfolio = [\n",
    "    {'ticker':\"AAPL\", 'shares': 50, ' purchase_price': 145.30, 'current_price': 150.00},\n",
    "    {'ticker':\"MSFT\",  'shares': 20, 'purchase_price': 299.00, 'current_price': 305.50},\n",
    "    {'ticker':\"GOOGL\", 'shares': 10, 'purchase_price': 2520.00, 'current_price': 2580.00}\n",
    "]\n",
    "\n",
    "my_portfolio\n"
   ]
  },
  {
   "cell_type": "code",
   "execution_count": 66,
   "id": "335df4e6-38e9-45d1-b327-e7d90b624596",
   "metadata": {},
   "outputs": [
    {
     "name": "stdout",
     "output_type": "stream",
     "text": [
      "Total value of all stocks: 3035.5\n"
     ]
    }
   ],
   "source": [
    "# calculate the total value of the portfolio:\n",
    "\n",
    "total_value = 0\n",
    "\n",
    "for stock in my_portfolio:\n",
    "    total_value += stock[\"current_price\"]\n",
    "    \n",
    "# Print the total value\n",
    "print(\"Total value of all stocks:\", total_value)\n"
   ]
  },
  {
   "cell_type": "markdown",
   "id": "07c38727-0c0a-49d5-9bf5-92f263e19482",
   "metadata": {},
   "source": [
    "<h1 style=\"font-family: Comic Sans MS; font-size: 4; color: blue; font-style: italic;\">create and use a dictionary of LISTS...</h1>"
   ]
  },
  {
   "cell_type": "code",
   "execution_count": 70,
   "id": "047fd9b5-9425-4c08-a5cb-3bef3b13ce43",
   "metadata": {},
   "outputs": [],
   "source": [
    "# Create three types of holdings: stocks, bonds and mutual funds.\n",
    "\n",
    "# Each of these will be a LIST which contains its own portfolio of holdings. \n",
    "# These are also created  as dictionaries: \n",
    "\n",
    "my_portfolio = {\n",
    "    'stocks': [\n",
    "        {'ticker': 'AAPL', 'shares': 50, 'purchase_price': 145.30},\n",
    "        {'ticker': 'MSFT', 'shares': 30, 'purchase_price': 250.75}\n",
    "    ],\n",
    "    'bonds': [\n",
    "        {'issuer': 'US Treasury', 'face_value': 1000, 'coupon_rate': 1.5, 'maturity_date': '2030-01-01'},\n",
    "        {'issuer': 'Corporate Bond A', 'face_value': 5000, 'coupon_rate': 3.0, 'maturity_date': '2025-06-01'}\n",
    "    ],\n",
    "    'mutual_funds': [\n",
    "        {'name': 'Fund A', 'shares': 100, 'purchase_price': 25.50},\n",
    "        {'name': 'Fund B', 'shares': 200, 'purchase_price': 40.75}\n",
    "    ]\n",
    "}\n"
   ]
  },
  {
   "cell_type": "code",
   "execution_count": 72,
   "id": "8c86caa8-5dff-43a4-a7b1-ef0aa3f75d17",
   "metadata": {},
   "outputs": [
    {
     "name": "stdout",
     "output_type": "stream",
     "text": [
      "\n",
      "Your portfolio has the following holdings:\n",
      "\n",
      "\n",
      "Stocks:\n",
      "\n",
      "  {'ticker': 'AAPL', 'shares': 50, 'purchase_price': 145.3}\n",
      "  {'ticker': 'MSFT', 'shares': 30, 'purchase_price': 250.75}\n",
      "\n",
      "Bonds:\n",
      "\n",
      "  {'issuer': 'US Treasury', 'face_value': 1000, 'coupon_rate': 1.5, 'maturity_date': '2030-01-01'}\n",
      "  {'issuer': 'Corporate Bond A', 'face_value': 5000, 'coupon_rate': 3.0, 'maturity_date': '2025-06-01'}\n",
      "\n",
      "Mutual_funds:\n",
      "\n",
      "  {'name': 'Fund A', 'shares': 100, 'purchase_price': 25.5}\n",
      "  {'name': 'Fund B', 'shares': 200, 'purchase_price': 40.75}\n"
     ]
    }
   ],
   "source": [
    "# loop through this and present our extended portfolio \n",
    "\n",
    "print(f\"\\nYour portfolio has the following holdings:\\n\") \n",
    "for category, holdings in my_portfolio.items():\n",
    "    print(f\"\\n{category.capitalize()}:\\n\")\n",
    "    for holding in holdings:\n",
    "        print(f\"  {holding}\")\n"
   ]
  },
  {
   "cell_type": "markdown",
   "id": "807b764a-21a7-4662-bb26-80c155268739",
   "metadata": {},
   "source": [
    "<h1 style=\"font-family: Comic Sans MS; font-size: 4; color: blue; font-style: italic;\">Sorting Dictionaries</h1>"
   ]
  },
  {
   "cell_type": "code",
   "execution_count": 75,
   "id": "a8d23e0e-ac2f-4358-91e1-4a14051f91fc",
   "metadata": {},
   "outputs": [],
   "source": [
    "# Start by re-creating our sales data in a rather random fashion:\n",
    "\n",
    "sales_data = {\n",
    "    'Product D': 15000,\n",
    "    'Product A': 23000,\n",
    "    'Product C': 12000,\n",
    "    'Product B': 19000\n",
    "}\n"
   ]
  },
  {
   "cell_type": "code",
   "execution_count": 77,
   "id": "ecebc0c1-2304-4558-adb3-84590823bb86",
   "metadata": {},
   "outputs": [
    {
     "name": "stdout",
     "output_type": "stream",
     "text": [
      "{'Product A': 23000, 'Product B': 19000, 'Product C': 12000, 'Product D': 15000}\n"
     ]
    }
   ],
   "source": [
    "# You can sort a dictionary by its keys using the sorted() function. \n",
    "# This function, used on a dictionary using .items() method returns \n",
    "# a list of tuples (key, values) sorted by keys.\n",
    "\n",
    "# Sort by KEYS:\n",
    "sorted_by_keys = dict(sorted(sales_data.items()))\n",
    "print(sorted_by_keys)\n"
   ]
  },
  {
   "cell_type": "code",
   "execution_count": 79,
   "id": "f199a11d-7ba8-47f1-9645-32d75a4481ca",
   "metadata": {},
   "outputs": [
    {
     "name": "stdout",
     "output_type": "stream",
     "text": [
      "{'Product A': 23000, 'Product B': 19000, 'Product D': 15000, 'Product C': 12000}\n"
     ]
    }
   ],
   "source": [
    "# Sort by VALUES\n",
    "\n",
    "sorted_by_values = dict(sorted(sales_data.items(), key=lambda item: item[1], reverse = True))\n",
    "print(sorted_by_values)\n"
   ]
  },
  {
   "cell_type": "code",
   "execution_count": null,
   "id": "25db5f5d-e35e-446f-94c3-f4824f065f6e",
   "metadata": {},
   "outputs": [],
   "source": []
  }
 ],
 "metadata": {
  "kernelspec": {
   "display_name": "Python 3 (ipykernel)",
   "language": "python",
   "name": "python3"
  },
  "language_info": {
   "codemirror_mode": {
    "name": "ipython",
    "version": 3
   },
   "file_extension": ".py",
   "mimetype": "text/x-python",
   "name": "python",
   "nbconvert_exporter": "python",
   "pygments_lexer": "ipython3",
   "version": "3.11.7"
  }
 },
 "nbformat": 4,
 "nbformat_minor": 5
}
