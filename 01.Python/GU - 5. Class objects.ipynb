{
 "cells": [
  {
   "cell_type": "markdown",
   "id": "235b30dc-60d5-4c95-9827-89a0232aff15",
   "metadata": {
    "tags": []
   },
   "source": [
    "<center><img src=\"./Data/GU-HHS-logo.jpg\"></center>\n",
    "\n",
    "<h1><center><b><font size=\"6\">Introduction to Python</font size></b></center></h1>\n",
    "<h1><center><b><font size=\"7\">Object Oriented Progamming</font size></b></center></h1>\n",
    "\n",
    "# <span style=color:blue><center><font size=\"6\">Classes</center></span>\n",
    "<div style=\"width: 100%; height: 20px; background: linear-gradient(to right, red, orange, yellow, green, blue, indigo, violet);\"></div>\n",
    "<div style=\"width: 100%; height: 20px; background: linear-gradient(to right, white, blue);\"></div>\n",
    "<hr style=\"border: 8px linear-gradient(to right, pink, yellow, cyan, lime) 1\">"
   ]
  },
  {
   "cell_type": "code",
   "execution_count": 2,
   "id": "4372ec9b-4664-4c56-9186-8f091c082881",
   "metadata": {},
   "outputs": [
    {
     "name": "stdout",
     "output_type": "stream",
     "text": [
      "<class 'bool'>\n"
     ]
    }
   ],
   "source": [
    "stock = True\n",
    "print(type(stock))\n"
   ]
  },
  {
   "cell_type": "code",
   "execution_count": 3,
   "id": "6f0212c7-2af7-4d65-8421-018d9c899c17",
   "metadata": {},
   "outputs": [
    {
     "name": "stdout",
     "output_type": "stream",
     "text": [
      "<class 'function'>\n"
     ]
    }
   ],
   "source": [
    "def buy_stock(stock):\n",
    "    print(f'You just sold {stock}')\n",
    "print(type(buy_stock))\n"
   ]
  },
  {
   "cell_type": "code",
   "execution_count": 4,
   "id": "0763c253-9881-482a-a50d-a8e98816c0f9",
   "metadata": {},
   "outputs": [],
   "source": [
    "# What if we don't use CLASS?\n",
    "\n",
    "client1_name = 'Anja'\n",
    "client1_balance = 10000 \n",
    "client1_interest_rate = 0.05 \n"
   ]
  },
  {
   "cell_type": "code",
   "execution_count": 5,
   "id": "00e5f0d6-a412-405c-b21f-300a4d50df5d",
   "metadata": {},
   "outputs": [],
   "source": [
    "client2_name = 'Björn'\n",
    "client2_balance = 20000 \n",
    "client2_interest_rate = 0.04 \n"
   ]
  },
  {
   "cell_type": "code",
   "execution_count": 6,
   "id": "99a93dc0-64a5-4cf3-a822-a3bfb34025f0",
   "metadata": {},
   "outputs": [],
   "source": [
    "def apply_interest(balance, rate): \n",
    " \treturn balance + (balance * rate) \n"
   ]
  },
  {
   "cell_type": "code",
   "execution_count": 7,
   "id": "80223ddc-d967-45ab-9112-d6053f1a927a",
   "metadata": {},
   "outputs": [],
   "source": [
    "client1_balance = apply_interest(client1_balance, client1_interest_rate)\n",
    "client2_balance = apply_interest(client2_balance, client2_interest_rate)\n"
   ]
  },
  {
   "cell_type": "code",
   "execution_count": 8,
   "id": "125073ea-e66a-4089-91ce-dcdc578fb847",
   "metadata": {},
   "outputs": [
    {
     "name": "stdout",
     "output_type": "stream",
     "text": [
      "10500.0\n",
      "20800.0\n"
     ]
    }
   ],
   "source": [
    "print(client1_balance)\n",
    "print(client2_balance)\n"
   ]
  },
  {
   "cell_type": "code",
   "execution_count": 9,
   "id": "70c9aea5-2b28-4b77-89be-c7ebd91f1723",
   "metadata": {},
   "outputs": [],
   "source": [
    "# Using a Class\n",
    "\n",
    "class Client: \n",
    "    def __init__(self, name, balance, interest_rate): \n",
    "        self.name = name \n",
    "        self.balance = balance \n",
    "        self.interest_rate = interest_rate \n",
    "        \n",
    "    def apply_interest(self): \n",
    "        self.balance += self.balance * self.interest_rate \n"
   ]
  },
  {
   "cell_type": "code",
   "execution_count": 10,
   "id": "9241d5e3-8b08-479d-8224-b3d3b600f2d8",
   "metadata": {},
   "outputs": [],
   "source": [
    "# Create our client info in one line\n",
    "client1 = Client('Anja', 10000, 0.05) \n",
    "client2 = Client('Björn', 20000, 0.04) \n"
   ]
  },
  {
   "cell_type": "code",
   "execution_count": 11,
   "id": "a33cdcae-e8f6-4bcc-b988-5dcf4a7d2a18",
   "metadata": {},
   "outputs": [],
   "source": [
    "# Now apply the necessary interest\n",
    "client1.apply_interest()\n",
    "client2.apply_interest()\n"
   ]
  },
  {
   "cell_type": "code",
   "execution_count": 12,
   "id": "f01a81cd-7019-4c52-b3a5-947576d31630",
   "metadata": {},
   "outputs": [],
   "source": [
    "# Create a BOND Class\n",
    "\n",
    "class Bond:\n",
    "    pass\n"
   ]
  },
  {
   "cell_type": "code",
   "execution_count": 13,
   "id": "b01ead5d-76d1-4fd5-a8d5-4dad2b240599",
   "metadata": {},
   "outputs": [],
   "source": [
    "# INSTANCES\n",
    "\n",
    "# INSTANCES of the 10 and 10 year US treasury note BONDS...\n",
    "US10YT = Bond()\n",
    "US30YT = Bond()\n"
   ]
  },
  {
   "cell_type": "code",
   "execution_count": 14,
   "id": "e12f3ae8-a96e-425e-a729-43faa768e93c",
   "metadata": {},
   "outputs": [
    {
     "name": "stdout",
     "output_type": "stream",
     "text": [
      "<__main__.Bond object at 0x000001E47723DE90>\n",
      "<__main__.Bond object at 0x000001E47723E090>\n"
     ]
    }
   ],
   "source": [
    "print(US10YT)\n",
    "print(US30YT)\n"
   ]
  },
  {
   "cell_type": "code",
   "execution_count": 15,
   "id": "a1161cb1-3105-4632-8d74-465d7bd256c9",
   "metadata": {},
   "outputs": [],
   "source": [
    "US10YT.face_value = 1000\n",
    "US10YT.coupon_rate = 3\n",
    "US10YT.years_to_maturity = 8\n"
   ]
  },
  {
   "cell_type": "code",
   "execution_count": 16,
   "id": "25c94939-250b-4de0-ad13-dbf6c09c35a3",
   "metadata": {},
   "outputs": [],
   "source": [
    "US30YT.face_value = 1000\n",
    "US30YT.coupon_rate = 5.5\n",
    "US30YT.years_to_maturity = 20 \n"
   ]
  },
  {
   "cell_type": "code",
   "execution_count": 17,
   "id": "d241fb2b-6f03-4416-b0c2-a6f80c068091",
   "metadata": {},
   "outputs": [
    {
     "name": "stdout",
     "output_type": "stream",
     "text": [
      "3\n",
      "5.5\n"
     ]
    }
   ],
   "source": [
    "print(US10YT.coupon_rate)\n",
    "print(US30YT.coupon_rate)\n"
   ]
  },
  {
   "cell_type": "code",
   "execution_count": 18,
   "id": "00a2609c-de45-4ef9-bc5c-bfbbef1c5139",
   "metadata": {},
   "outputs": [],
   "source": [
    "class Bond:\n",
    "\n",
    "    def __init__(self, face_value, coupon_rate, years_to_maturity):\n",
    "        self.face_value = face_value\n",
    "        self.coupon_rate = coupon_rate\n",
    "        self.years_to_maturity = years_to_maturity\n",
    "\n",
    "    def calculate_annual_coupon(self):\n",
    "        # Calculate the annual coupon payment\n",
    "        return self.face_value * (self.coupon_rate / 100)\n",
    "\n",
    "    def total_coupon_payments(self):\n",
    "        # Calculate the total coupon payments over the bond's life\n",
    "        return self.calculate_annual_coupon() * self.years_to_maturity\n",
    "\n",
    "    def __str__(self):\n",
    "        return (f\" Bond face value: ${self.face_value:.2f},\\n \"\n",
    "                f\"Coupon rate: {self.coupon_rate:.2f},%\\n \"\n",
    "                f\"Years to maturity: {self.years_to_maturity},\\n \"\n",
    "                f\"Annual coupon: ${self.calculate_annual_coupon():.2f},\\n \"\n",
    "                f\"Total coupon payments: ${self.total_coupon_payments():.2f}\")\n",
    "\n"
   ]
  },
  {
   "cell_type": "code",
   "execution_count": 19,
   "id": "4a565746-6e05-4992-aaea-7ce36a90ae8b",
   "metadata": {},
   "outputs": [],
   "source": [
    "US10YT = Bond(1000, 3, 7)\n",
    "US30YT = Bond(1000,5.5, 21)\n"
   ]
  },
  {
   "cell_type": "code",
   "execution_count": 20,
   "id": "097d965e-b836-4b50-8267-af064701c121",
   "metadata": {
    "scrolled": true
   },
   "outputs": [
    {
     "name": "stdout",
     "output_type": "stream",
     "text": [
      " Bond face value: $1000.00,\n",
      " Coupon rate: 3.00,%\n",
      " Years to maturity: 7,\n",
      " Annual coupon: $30.00,\n",
      " Total coupon payments: $210.00\n"
     ]
    }
   ],
   "source": [
    "print(US10YT)"
   ]
  },
  {
   "cell_type": "code",
   "execution_count": 21,
   "id": "4a1fe44d-e22a-4367-ad73-dd404074551b",
   "metadata": {},
   "outputs": [],
   "source": [
    "# CLASS VARIABLES\n",
    "\n",
    "class Bond:\n",
    "\n",
    "    market_rate_government = 2.5  # Class variable for government bond market rate\n",
    "    market_rate_commercial = 3.5  # Class variable for commercial bond market rate\n",
    "    total_bonds_created = 0  # Class variable to keep track of the number of bonds created\n",
    "\n",
    "    def __init__(self, bond_name, bond_type_code, face_value, coupon_rate, years_to_maturity):\n",
    "        self.bond_name = bond_name  # Instance variable to store the bond's name\n",
    "        self.bond_type = \"government\" if bond_type_code == 0 else \"commercial\"\n",
    "        self.face_value = face_value\n",
    "        self.coupon_rate = coupon_rate\n",
    "        self.years_to_maturity = years_to_maturity\n",
    "        Bond.total_bonds_created += 1  # Increment the class variable each time a new bond is created\n",
    "   \n",
    "    def calculate_annual_coupon(self):\n",
    "        # Calculate the annual coupon payment\n",
    "        return self.face_value * (self.coupon_rate / 100)\n",
    "\n",
    "    def total_coupon_payments(self):\n",
    "        # Calculate the total coupon payments over the bond's life\n",
    "        return self.calculate_annual_coupon() * self.years_to_maturity\n",
    "\n",
    "    def calculate_price(self):\n",
    "        # Select market rate based on bond type\n",
    "        market_rate = Bond.market_rate_government if self.bond_type == \"government\" else Bond.market_rate_commercial\n",
    "        # Discount the bond's cash flows (coupon payments) and principal using the market rate\n",
    "        bond_price = 0\n",
    "        for year in range(1, self.years_to_maturity + 1):\n",
    "            bond_price += (self.face_value * (self.coupon_rate / 100)) / ((1 + market_rate / 100) ** year)\n",
    "        \n",
    "        # Add the discounted face value at maturity\n",
    "        bond_price += self.face_value / ((1 + market_rate / 100) ** self.years_to_maturity)\n",
    "        \n",
    "        return bond_price\n",
    "\n",
    "    def calculate_current_yield(self):\n",
    "        return self.calculate_annual_coupon()/self.calculate_price() * 100\n",
    "\n",
    "\n",
    "    def __str__(self):\n",
    "        bond_price = self.calculate_price()\n",
    "        market_rate = Bond.market_rate_government if self.bond_type == \"government\" else Bond.market_rate_commercial\n",
    "        return (f\"Bond Summary:\\n\\n\"\n",
    "                f\"Bond Name: {self.bond_name}\\n\"\n",
    "                f\"Type: {self.bond_type.capitalize()} Bond\\n\"\n",
    "                f\"Face Value: ${self.face_value}\\n\"\n",
    "                f\"Coupon Rate: {self.coupon_rate}%\\n\"\n",
    "                f\"Maturity: {self.years_to_maturity} years\\n\"\n",
    "                f\"Market Rate: {market_rate}%\\n\"\n",
    "                f\"Current Yield: {self.calculate_current_yield():.2f}%\\n\"\n",
    "                f\"Annual Coupon Payment: ${self.calculate_annual_coupon():.2f}\\n\"\n",
    "                f\"Total Coupon Payments: ${self.total_coupon_payments():.2f}\\n\"\n",
    "                f\"Current Bond Price: ${bond_price:.2f}\\n\"\n",
    "                f\"Total Bonds Created: {Bond.total_bonds_created}\")\n",
    "\n",
    "\n"
   ]
  },
  {
   "cell_type": "code",
   "execution_count": 22,
   "id": "4717c316-5cb2-43df-aba7-9a3aaa0498bd",
   "metadata": {},
   "outputs": [],
   "source": [
    "US10YT = Bond('US Treasury bond – 10 year', 0, 1000, 3, 7)"
   ]
  },
  {
   "cell_type": "code",
   "execution_count": 23,
   "id": "54877fbd-c33d-454a-91d4-7aaaf8a0cc2f",
   "metadata": {},
   "outputs": [
    {
     "name": "stdout",
     "output_type": "stream",
     "text": [
      "Bond Summary:\n",
      "\n",
      "Bond Name: US Treasury bond – 10 year\n",
      "Type: Government Bond\n",
      "Face Value: $1000\n",
      "Coupon Rate: 3%\n",
      "Maturity: 7 years\n",
      "Market Rate: 2.5%\n",
      "Current Yield: 2.91%\n",
      "Annual Coupon Payment: $30.00\n",
      "Total Coupon Payments: $210.00\n",
      "Current Bond Price: $1031.75\n",
      "Total Bonds Created: 1\n"
     ]
    }
   ],
   "source": [
    "print(US10YT)"
   ]
  },
  {
   "cell_type": "code",
   "execution_count": 24,
   "id": "c192a615-a6bd-413c-bbe4-415570802a06",
   "metadata": {},
   "outputs": [
    {
     "name": "stdout",
     "output_type": "stream",
     "text": [
      "Bond Summary:\n",
      "\n",
      "Bond Name: Hapaq Lloyd - EUR\n",
      "Type: Commercial Bond\n",
      "Face Value: $1000\n",
      "Coupon Rate: 5.5%\n",
      "Maturity: 21 years\n",
      "Market Rate: 3.5%\n",
      "Current Yield: 4.25%\n",
      "Annual Coupon Payment: $55.00\n",
      "Total Coupon Payments: $1155.00\n",
      "Current Bond Price: $1293.96\n",
      "Total Bonds Created: 2\n"
     ]
    }
   ],
   "source": [
    "HLE = Bond('Hapaq Lloyd - EUR', 1, 1000,5.5, 21)\n",
    "print(HLE)\n"
   ]
  },
  {
   "cell_type": "code",
   "execution_count": null,
   "id": "4e418b57-06b0-4f47-976a-1ee6a420e2ac",
   "metadata": {},
   "outputs": [],
   "source": []
  }
 ],
 "metadata": {
  "kernelspec": {
   "display_name": "Python 3 (ipykernel)",
   "language": "python",
   "name": "python3"
  },
  "language_info": {
   "codemirror_mode": {
    "name": "ipython",
    "version": 3
   },
   "file_extension": ".py",
   "mimetype": "text/x-python",
   "name": "python",
   "nbconvert_exporter": "python",
   "pygments_lexer": "ipython3",
   "version": "3.11.7"
  }
 },
 "nbformat": 4,
 "nbformat_minor": 5
}
