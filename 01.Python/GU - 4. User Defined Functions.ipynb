{
 "cells": [
  {
   "cell_type": "markdown",
   "id": "aeb538bf-b6cb-4a7f-92c3-3c1d90658c27",
   "metadata": {},
   "source": [
    "<center><img src=\"./Data/GU-HHS-logo.jpg\"></center>\n",
    "\n",
    "<h1><center><b><font size=\"6\">Introduction to Python</font size></b></center></h1>\n",
    "<h1><center><b><font size=\"7\">User Defined Functions</font size></b></center></h1>\n",
    "\n",
    "<div style=\"width: 100%; height: 20px; background: linear-gradient(to right, red, orange, yellow, green, blue, indigo, violet);\"></div>\n",
    "<div style=\"width: 100%; height: 20px; background: linear-gradient(to right, white, blue);\"></div>\n",
    "<hr style=\"border: 8px linear-gradient(to right, pink, yellow, cyan, lime) 1\">"
   ]
  },
  {
   "cell_type": "code",
   "execution_count": 2,
   "id": "5dcc23ad-dbc6-47d4-8742-35a02a84bc08",
   "metadata": {},
   "outputs": [
    {
     "name": "stdin",
     "output_type": "stream",
     "text": [
      "Please selected the name of the market:  London\n"
     ]
    },
    {
     "name": "stdout",
     "output_type": "stream",
     "text": [
      "London\n"
     ]
    }
   ],
   "source": [
    "print(input(\"Please selected the name of the market: \"))"
   ]
  },
  {
   "cell_type": "code",
   "execution_count": 3,
   "id": "dfc9a05e-d45f-493f-b138-c01c6dfdd099",
   "metadata": {},
   "outputs": [],
   "source": [
    "def open_london_exchange():\n",
    "    print(\"The London exchange is open. Trading with end at 17:00\")\n",
    "\n",
    "# PEP 8 recommends"
   ]
  },
  {
   "cell_type": "code",
   "execution_count": 4,
   "id": "9c88d29a-80b1-4712-b6c6-2c4442a4c641",
   "metadata": {},
   "outputs": [
    {
     "name": "stdout",
     "output_type": "stream",
     "text": [
      "The London exchange is open. Trading with end at 17:00\n"
     ]
    }
   ],
   "source": [
    "open_london_exchange()       # Note: we always need the parentheses "
   ]
  },
  {
   "cell_type": "code",
   "execution_count": 5,
   "id": "5ed4c22f-0a7d-495b-94f2-2f104ea1f785",
   "metadata": {},
   "outputs": [],
   "source": [
    "def open_exchange(location, close):\n",
    "    print(f\"The {location} exchange is open. Trading will close at {close} local time.\")\n",
    "\n",
    "\n",
    "    "
   ]
  },
  {
   "cell_type": "code",
   "execution_count": 6,
   "id": "42e0e2e9-e8b2-4398-bce4-4a524311726e",
   "metadata": {},
   "outputs": [
    {
     "name": "stdout",
     "output_type": "stream",
     "text": [
      "The New York(NYSE) exchange is open. Trading will close at 18:00 local time.\n"
     ]
    }
   ],
   "source": [
    "open_exchange(\"New York(NYSE)\", \"18:00\")"
   ]
  },
  {
   "cell_type": "code",
   "execution_count": 7,
   "id": "7273dcfb-af16-4df1-9643-632742727d73",
   "metadata": {},
   "outputs": [
    {
     "ename": "TypeError",
     "evalue": "open_exchange() missing 1 required positional argument: 'close'",
     "output_type": "error",
     "traceback": [
      "\u001b[1;31m---------------------------------------------------------------------------\u001b[0m",
      "\u001b[1;31mTypeError\u001b[0m                                 Traceback (most recent call last)",
      "Cell \u001b[1;32mIn[7], line 1\u001b[0m\n\u001b[1;32m----> 1\u001b[0m open_exchange(\u001b[38;5;124m\"\u001b[39m\u001b[38;5;124mNew York(NYSE)\u001b[39m\u001b[38;5;124m\"\u001b[39m)\n",
      "\u001b[1;31mTypeError\u001b[0m: open_exchange() missing 1 required positional argument: 'close'"
     ]
    }
   ],
   "source": [
    "open_exchange(\"New York(NYSE)\")"
   ]
  },
  {
   "cell_type": "markdown",
   "id": "2c37fb24-338f-4a89-b9d4-b5eaabe6b9e3",
   "metadata": {},
   "source": [
    "Now, in programming we have two types of functions. \n",
    "\n",
    "1.\tFunctions that perform a task and….\n",
    "2.\tfunctions that calculate and return a value.\n"
   ]
  },
  {
   "cell_type": "code",
   "execution_count": 20,
   "id": "c0e9f199-c797-4cdc-bd01-9653c5fcfc6a",
   "metadata": {},
   "outputs": [
    {
     "data": {
      "text/plain": [
       "8"
      ]
     },
     "execution_count": 20,
     "metadata": {},
     "output_type": "execute_result"
    }
   ],
   "source": [
    "len(\"New York\")"
   ]
  },
  {
   "cell_type": "code",
   "execution_count": 22,
   "id": "5bddb905-180c-4d7a-8314-a08deb80484f",
   "metadata": {},
   "outputs": [],
   "source": [
    "def calculate_simple_interest(principal, rate, time):\n",
    "    interest = (principal * rate * time) / 100\n",
    "    return interest\n",
    "\n",
    "    "
   ]
  },
  {
   "cell_type": "code",
   "execution_count": 24,
   "id": "79d8b8c8-164b-4686-8fbb-b62436e0420f",
   "metadata": {},
   "outputs": [],
   "source": [
    "my_interest = calculate_simple_interest(100, 5, 3)"
   ]
  },
  {
   "cell_type": "code",
   "execution_count": 26,
   "id": "612eef57-fb23-45ac-89a3-69d05da819c3",
   "metadata": {},
   "outputs": [
    {
     "name": "stdout",
     "output_type": "stream",
     "text": [
      "The interest due on your capital investment, over the period provided is 15.0 USD\n"
     ]
    }
   ],
   "source": [
    "print(f\"The interest due on your capital investment, over the period provided is {my_interest} USD\") "
   ]
  },
  {
   "cell_type": "code",
   "execution_count": 28,
   "id": "ff1f703e-a894-44be-8dcb-73eb42349049",
   "metadata": {},
   "outputs": [],
   "source": [
    "my_interest = calculate_simple_interest(100, rate = 5, time = 3) # Using keyword arguments"
   ]
  },
  {
   "cell_type": "code",
   "execution_count": 30,
   "id": "f45f2082-5cef-4bbc-86f8-9629a7c07e9e",
   "metadata": {},
   "outputs": [
    {
     "name": "stdout",
     "output_type": "stream",
     "text": [
      "15.0\n"
     ]
    }
   ],
   "source": [
    "print(my_interest)"
   ]
  },
  {
   "cell_type": "code",
   "execution_count": 32,
   "id": "ee75d27f-cfa8-45f0-8634-acfb090cab82",
   "metadata": {},
   "outputs": [],
   "source": [
    "def calculate_simple_interest(principal, time, rate = 3):  # Fixed defult rate\n",
    "    interest = (principal * rate * time) / 100\n",
    "    return interest\n"
   ]
  },
  {
   "cell_type": "code",
   "execution_count": 34,
   "id": "6e61600a-b576-4c31-8d37-0673ba1f8e23",
   "metadata": {},
   "outputs": [
    {
     "name": "stdout",
     "output_type": "stream",
     "text": [
      "3.0\n"
     ]
    }
   ],
   "source": [
    "print(calculate_simple_interest(100, 1))   # note the use of only 2 arguments"
   ]
  },
  {
   "cell_type": "code",
   "execution_count": 36,
   "id": "e0e50eed-9c5b-48b0-afd9-43af50ca8121",
   "metadata": {},
   "outputs": [
    {
     "name": "stdout",
     "output_type": "stream",
     "text": [
      "4.0\n"
     ]
    }
   ],
   "source": [
    "# Added risk so add 1%\n",
    "print(calculate_simple_interest(100, 1, 4))   "
   ]
  },
  {
   "cell_type": "code",
   "execution_count": 38,
   "id": "5db0eaa2-3b40-446f-b075-2383cb0bc673",
   "metadata": {},
   "outputs": [
    {
     "ename": "SyntaxError",
     "evalue": "non-default argument follows default argument (604217608.py, line 1)",
     "output_type": "error",
     "traceback": [
      "\u001b[1;36m  Cell \u001b[1;32mIn[38], line 1\u001b[1;36m\u001b[0m\n\u001b[1;33m    def calculate_simple_interest(principal, time, rate = 3, customer):\u001b[0m\n\u001b[1;37m                                                             ^\u001b[0m\n\u001b[1;31mSyntaxError\u001b[0m\u001b[1;31m:\u001b[0m non-default argument follows default argument\n"
     ]
    }
   ],
   "source": [
    "def calculate_simple_interest(principal, time, rate = 3, customer):\n",
    "print(calculate_simple_interest(100, 1, \"Lund\"))   # Note the error\n"
   ]
  },
  {
   "cell_type": "code",
   "execution_count": 40,
   "id": "683f1a46-f204-42cf-8a0f-af6d4ecd1332",
   "metadata": {},
   "outputs": [],
   "source": [
    "# Variable number of arguments\n",
    "\n",
    "def calculate_average_return(a, b):\n",
    "    total_return = a + b \n",
    "    number_of_returns = 2\n",
    "    average_return = total_return / number_of_returns\n",
    "    return average_return\n"
   ]
  },
  {
   "cell_type": "code",
   "execution_count": 42,
   "id": "0694aa93-9a18-44eb-b12f-f247d1b94408",
   "metadata": {},
   "outputs": [
    {
     "ename": "TypeError",
     "evalue": "calculate_average_return() takes 2 positional arguments but 3 were given",
     "output_type": "error",
     "traceback": [
      "\u001b[1;31m---------------------------------------------------------------------------\u001b[0m",
      "\u001b[1;31mTypeError\u001b[0m                                 Traceback (most recent call last)",
      "Cell \u001b[1;32mIn[42], line 5\u001b[0m\n\u001b[0;32m      2\u001b[0m return2 \u001b[38;5;241m=\u001b[39m \u001b[38;5;241m7.5\u001b[39m   \u001b[38;5;66;03m# Return from investment B (in percentage)\u001b[39;00m\n\u001b[0;32m      3\u001b[0m return3 \u001b[38;5;241m=\u001b[39m \u001b[38;5;241m3.0\u001b[39m   \u001b[38;5;66;03m# Return from investment C (in percentage)\u001b[39;00m\n\u001b[1;32m----> 5\u001b[0m average_return \u001b[38;5;241m=\u001b[39m calculate_average_return(return1, return2, return3)\n\u001b[0;32m      6\u001b[0m \u001b[38;5;28mprint\u001b[39m(\u001b[38;5;124m\"\u001b[39m\u001b[38;5;124mThe average return is:\u001b[39m\u001b[38;5;124m\"\u001b[39m, average_return)\n",
      "\u001b[1;31mTypeError\u001b[0m: calculate_average_return() takes 2 positional arguments but 3 were given"
     ]
    }
   ],
   "source": [
    "return1 = 5.0   # Return from investment A (in percentage)\n",
    "return2 = 7.5   # Return from investment B (in percentage)\n",
    "return3 = 3.0   # Return from investment C (in percentage)\n",
    "\n",
    "average_return = calculate_average_return(return1, return2, return3)\n",
    "print(\"The average return is:\", average_return)\n"
   ]
  },
  {
   "cell_type": "code",
   "execution_count": 44,
   "id": "f1fba54b-43fd-4235-9189-36f369e97ff4",
   "metadata": {},
   "outputs": [],
   "source": [
    "def calculate_average_return(*args):   # many arguments\n",
    "    total_return = sum(args)\n",
    "    number_of_returns = len(args)\n",
    "    average_return = total_return / number_of_returns\n",
    "    return average_return\n"
   ]
  },
  {
   "cell_type": "code",
   "execution_count": 46,
   "id": "ed877ae4-c66f-4095-afbc-56178c4f52a6",
   "metadata": {},
   "outputs": [
    {
     "name": "stdout",
     "output_type": "stream",
     "text": [
      "The average return is: 5\n"
     ]
    }
   ],
   "source": [
    "average_return = calculate_average_return(return1, return2, return3)\n",
    "print(\"The average return is:\", round(average_return))\n"
   ]
  },
  {
   "cell_type": "code",
   "execution_count": 48,
   "id": "60e337f1-c236-4513-848e-5450f440d5e5",
   "metadata": {},
   "outputs": [],
   "source": [
    "# ** KW args   KEY WORD args\n",
    "\n",
    "def display_portfolio_details(**kwargs):\n",
    "    return(kwargs)\n"
   ]
  },
  {
   "cell_type": "code",
   "execution_count": 50,
   "id": "faf11b71-ece5-47be-912d-d98d8cdc3508",
   "metadata": {},
   "outputs": [],
   "source": [
    "arguments = display_portfolio_details(stocks=5000, bonds=3000, real_estate=7000, \n",
    "                          investor_name=\"Astrid\", portfolio_manager=\"Björn\", \n",
    "                          gold=2000)\n"
   ]
  },
  {
   "cell_type": "code",
   "execution_count": 52,
   "id": "852f7706-364f-4ffb-993b-b4929cbf8aa7",
   "metadata": {},
   "outputs": [
    {
     "name": "stdout",
     "output_type": "stream",
     "text": [
      "{'stocks': 5000, 'bonds': 3000, 'real_estate': 7000, 'investor_name': 'Astrid', 'portfolio_manager': 'Björn', 'gold': 2000}\n"
     ]
    },
    {
     "data": {
      "text/plain": [
       "dict"
      ]
     },
     "execution_count": 52,
     "metadata": {},
     "output_type": "execute_result"
    }
   ],
   "source": [
    "print(arguments)\n",
    "type(arguments)\n"
   ]
  },
  {
   "cell_type": "code",
   "execution_count": 54,
   "id": "a7bb64b9-54ec-40b9-a8b1-31d9abd0bfeb",
   "metadata": {},
   "outputs": [],
   "source": [
    "def display_portfolio_details(**kwargs):\n",
    "    \n",
    "    total_investment = 0\n",
    "    \n",
    "    print(\"Portfolio Details:\")\n",
    "   \n",
    "    for key, value in kwargs.items():   # for each key-value pair\n",
    "        if isinstance(value, (int, float)):  # Check if the value is numeric\n",
    "            total_investment += value\n",
    "            print(f\" - {key} (Investment): {value} (type: {type(value)})\")\n",
    "        else:\n",
    "            print(f\" - {key} (Info): {value} (type: {type(value)})\")\n",
    "    \n",
    "    print(f\"\\nTotal Investment Value: {total_investment}\")\n"
   ]
  },
  {
   "cell_type": "code",
   "execution_count": 56,
   "id": "24079359-a94b-4b1e-8771-2792f6090719",
   "metadata": {},
   "outputs": [
    {
     "name": "stdout",
     "output_type": "stream",
     "text": [
      "Portfolio Details:\n",
      " - stocks (Investment): 5000 (type: <class 'int'>)\n",
      " - bonds (Investment): 3000 (type: <class 'int'>)\n",
      " - real_estate (Investment): 7000 (type: <class 'int'>)\n",
      " - investor_name (Info): Astrid (type: <class 'str'>)\n",
      " - portfolio_manager (Info): Björn (type: <class 'str'>)\n",
      " - gold (Investment): 2000 (type: <class 'int'>)\n",
      "\n",
      "Total Investment Value: 17000\n"
     ]
    }
   ],
   "source": [
    "display_portfolio_details(stocks=5000, bonds=3000, real_estate=7000, \n",
    "                          investor_name=\"Astrid\", portfolio_manager=\"Björn\", \n",
    "                          gold=2000)\n"
   ]
  },
  {
   "cell_type": "code",
   "execution_count": 66,
   "id": "f23b2b95-c969-4b31-a6a3-fcdde605a198",
   "metadata": {},
   "outputs": [],
   "source": [
    "# SCOPE   of variables\n",
    "\n",
    "def calculate_simple_interest(principal, rate, time):\n",
    "    interest = (principal * rate * time) / 100    # LOCAL variable\n",
    "    return interest\n",
    " # the interest variable only exists here"
   ]
  },
  {
   "cell_type": "code",
   "execution_count": 68,
   "id": "37de6fb6-452c-4d6b-a9ba-2f67b1d55551",
   "metadata": {},
   "outputs": [
    {
     "ename": "NameError",
     "evalue": "name 'interest' is not defined",
     "output_type": "error",
     "traceback": [
      "\u001b[1;31m---------------------------------------------------------------------------\u001b[0m",
      "\u001b[1;31mNameError\u001b[0m                                 Traceback (most recent call last)",
      "Cell \u001b[1;32mIn[68], line 1\u001b[0m\n\u001b[1;32m----> 1\u001b[0m interest\n",
      "\u001b[1;31mNameError\u001b[0m: name 'interest' is not defined"
     ]
    }
   ],
   "source": [
    "interest"
   ]
  },
  {
   "cell_type": "code",
   "execution_count": 70,
   "id": "ac2615de-f14e-4422-8c6c-ed5c5801ee1a",
   "metadata": {},
   "outputs": [
    {
     "ename": "NameError",
     "evalue": "name 'principal' is not defined",
     "output_type": "error",
     "traceback": [
      "\u001b[1;31m---------------------------------------------------------------------------\u001b[0m",
      "\u001b[1;31mNameError\u001b[0m                                 Traceback (most recent call last)",
      "Cell \u001b[1;32mIn[70], line 1\u001b[0m\n\u001b[1;32m----> 1\u001b[0m \u001b[38;5;28mprint\u001b[39m(principal)\n",
      "\u001b[1;31mNameError\u001b[0m: name 'principal' is not defined"
     ]
    }
   ],
   "source": [
    "print(principal)"
   ]
  },
  {
   "cell_type": "code",
   "execution_count": 72,
   "id": "263f65e5-6963-4d4b-9248-efd3f5f4ee0c",
   "metadata": {},
   "outputs": [],
   "source": [
    "def add_risk_premium(interest):\n",
    "    final_interest = interest + 1\n",
    "    return(final_interest)\n"
   ]
  },
  {
   "cell_type": "code",
   "execution_count": 74,
   "id": "ad044fa3-ebbc-43c5-8869-fc17b70bae00",
   "metadata": {},
   "outputs": [
    {
     "ename": "NameError",
     "evalue": "name 'interest' is not defined",
     "output_type": "error",
     "traceback": [
      "\u001b[1;31m---------------------------------------------------------------------------\u001b[0m",
      "\u001b[1;31mNameError\u001b[0m                                 Traceback (most recent call last)",
      "Cell \u001b[1;32mIn[74], line 1\u001b[0m\n\u001b[1;32m----> 1\u001b[0m interest\n",
      "\u001b[1;31mNameError\u001b[0m: name 'interest' is not defined"
     ]
    }
   ],
   "source": [
    "interest"
   ]
  },
  {
   "cell_type": "code",
   "execution_count": 76,
   "id": "c5cb4b69-1a2a-4d72-8f46-6dc01d378429",
   "metadata": {},
   "outputs": [
    {
     "ename": "NameError",
     "evalue": "name 'final_interest' is not defined",
     "output_type": "error",
     "traceback": [
      "\u001b[1;31m---------------------------------------------------------------------------\u001b[0m",
      "\u001b[1;31mNameError\u001b[0m                                 Traceback (most recent call last)",
      "Cell \u001b[1;32mIn[76], line 1\u001b[0m\n\u001b[1;32m----> 1\u001b[0m final_interest\n",
      "\u001b[1;31mNameError\u001b[0m: name 'final_interest' is not defined"
     ]
    }
   ],
   "source": [
    "final_interest"
   ]
  },
  {
   "cell_type": "code",
   "execution_count": 78,
   "id": "7e331e76-cfe3-4682-9bfc-14d35f64cca6",
   "metadata": {},
   "outputs": [
    {
     "data": {
      "text/plain": [
       "2.5"
      ]
     },
     "execution_count": 78,
     "metadata": {},
     "output_type": "execute_result"
    }
   ],
   "source": [
    "add_risk_premium(1.5)"
   ]
  },
  {
   "cell_type": "code",
   "execution_count": 80,
   "id": "b9502d8e-ccbd-4320-a443-d1296e3d2d7d",
   "metadata": {},
   "outputs": [],
   "source": [
    "# GLOBAL variables  AVOID\n",
    "\n",
    "interest = 100"
   ]
  },
  {
   "cell_type": "code",
   "execution_count": 82,
   "id": "95ec040a-9e8e-4f91-a9d8-33bbb25fd666",
   "metadata": {},
   "outputs": [
    {
     "data": {
      "text/plain": [
       "100"
      ]
     },
     "execution_count": 82,
     "metadata": {},
     "output_type": "execute_result"
    }
   ],
   "source": [
    "interest"
   ]
  },
  {
   "cell_type": "code",
   "execution_count": 84,
   "id": "be0fa202-a691-4dd5-9d95-8fdf33ac8cd4",
   "metadata": {},
   "outputs": [
    {
     "data": {
      "text/plain": [
       "5.0"
      ]
     },
     "execution_count": 84,
     "metadata": {},
     "output_type": "execute_result"
    }
   ],
   "source": [
    "calculate_simple_interest(100,5,1)"
   ]
  },
  {
   "cell_type": "code",
   "execution_count": 86,
   "id": "8e88aa40-075e-4fb1-8046-cdb8e0e69dd6",
   "metadata": {},
   "outputs": [
    {
     "data": {
      "text/plain": [
       "100"
      ]
     },
     "execution_count": 86,
     "metadata": {},
     "output_type": "execute_result"
    }
   ],
   "source": [
    "interest        # GLOBAL did not change!!!\n"
   ]
  },
  {
   "cell_type": "code",
   "execution_count": 88,
   "id": "b9f20a6e-d2fb-4227-9953-1f0c308b1184",
   "metadata": {},
   "outputs": [],
   "source": [
    "def calculate_simple_interest(principal, rate, time):\n",
    "    global interest                              # DO NOT DO THIS\n",
    "    interest = (principal * rate * time) / 100\n",
    "    return interest\n"
   ]
  },
  {
   "cell_type": "code",
   "execution_count": 90,
   "id": "5fc552d6-4545-4007-a1b0-043e80da9a7c",
   "metadata": {},
   "outputs": [
    {
     "data": {
      "text/plain": [
       "30.0"
      ]
     },
     "execution_count": 90,
     "metadata": {},
     "output_type": "execute_result"
    }
   ],
   "source": [
    "calculate_simple_interest(200,5,3)"
   ]
  },
  {
   "cell_type": "code",
   "execution_count": 92,
   "id": "d4b030a5-ba82-454f-ba4e-89fe1c41107f",
   "metadata": {},
   "outputs": [
    {
     "data": {
      "text/plain": [
       "30.0"
      ]
     },
     "execution_count": 92,
     "metadata": {},
     "output_type": "execute_result"
    }
   ],
   "source": [
    "interest"
   ]
  },
  {
   "cell_type": "code",
   "execution_count": 94,
   "id": "991d833d-699d-49ff-9d82-9b3c7da046aa",
   "metadata": {},
   "outputs": [],
   "source": [
    "# lambda functions (anonymous)\n",
    "\n",
    "def calculate_roi(investment):\n",
    "    initial_investment, final_return = investment\n",
    "    return ((final_return - initial_investment) / initial_investment) * 100\n"
   ]
  },
  {
   "cell_type": "code",
   "execution_count": 96,
   "id": "8b89dde1-2a0f-426c-87af-b0f63f69c447",
   "metadata": {},
   "outputs": [],
   "source": [
    "# Define the investments (initial investment, final return)\n",
    "investments = [\n",
    "    (1000, 1200),  # Invested $1000, got back $1200\n",
    "    (1500, 1800),  # Invested $1500, got back $1800\n",
    "    (2000, 2200),  # Invested $2000, got back $2200\n",
    "    (2500, 2700)   # Invested $2500, got back $2700\n",
    "]\n"
   ]
  },
  {
   "cell_type": "code",
   "execution_count": 98,
   "id": "7fb11818-9586-45ec-92ae-6ae3fe20f70f",
   "metadata": {},
   "outputs": [
    {
     "name": "stdout",
     "output_type": "stream",
     "text": [
      "ROIs for each investment: [20.0, 20.0, 10.0, 8.0]\n"
     ]
    }
   ],
   "source": [
    "# Create an empty list to store the ROI values\n",
    "roi_list = []\n",
    "\n",
    "#Loop through each investment and calculate ROI\n",
    "for investment in investments:\n",
    "    roi = calculate_roi(investment)\n",
    "    roi_list.append(roi)\n",
    "\n",
    "# Display the ROIs\n",
    "print(\"ROIs for each investment:\", roi_list)\n"
   ]
  },
  {
   "cell_type": "code",
   "execution_count": 100,
   "id": "7d29c6c7-5492-4148-b89c-97bfd82f42ca",
   "metadata": {},
   "outputs": [
    {
     "name": "stdout",
     "output_type": "stream",
     "text": [
      "ROIs for each investment: [20.0, 20.0, 10.0, 8.0]\n"
     ]
    }
   ],
   "source": [
    "# Use map() and lambda to calculate ROI for each investment\n",
    "roi_list = list(map(lambda inv: ((inv[1] - inv[0]) / inv[0]) * 100, investments))\n",
    "\n",
    "# Display the ROIs\n",
    "print(\"ROIs for each investment:\", roi_list)\n"
   ]
  },
  {
   "cell_type": "code",
   "execution_count": 102,
   "id": "714c0413-f108-4faa-ae31-58a0fce99ff5",
   "metadata": {},
   "outputs": [],
   "source": [
    "def square(x):\n",
    "    return x**2\n"
   ]
  },
  {
   "cell_type": "code",
   "execution_count": 106,
   "id": "b2202388-6d4f-471d-9c16-6780dce43354",
   "metadata": {},
   "outputs": [
    {
     "data": {
      "text/plain": [
       "<function __main__.<lambda>(x)>"
      ]
     },
     "execution_count": 106,
     "metadata": {},
     "output_type": "execute_result"
    }
   ],
   "source": [
    "lambda x: x**2          # input   :   output"
   ]
  },
  {
   "cell_type": "code",
   "execution_count": 108,
   "id": "8751deea-1084-4f3c-8bfb-420bb70af85e",
   "metadata": {},
   "outputs": [
    {
     "data": {
      "text/plain": [
       "16"
      ]
     },
     "execution_count": 108,
     "metadata": {},
     "output_type": "execute_result"
    }
   ],
   "source": [
    "my_lam = lambda x: x**2   # you see, he does have a soft side 😉\n",
    "my_lam(4)\n"
   ]
  },
  {
   "cell_type": "code",
   "execution_count": 110,
   "id": "6a68a867-5429-4723-a7f1-b1eb35a9e1c5",
   "metadata": {},
   "outputs": [
    {
     "data": {
      "text/plain": [
       "<function __main__.<lambda>(x, y)>"
      ]
     },
     "execution_count": 110,
     "metadata": {},
     "output_type": "execute_result"
    }
   ],
   "source": [
    "lambda x, y: x + y"
   ]
  },
  {
   "cell_type": "code",
   "execution_count": 112,
   "id": "95322310-4674-4211-b52a-60692f5bf791",
   "metadata": {},
   "outputs": [
    {
     "name": "stdout",
     "output_type": "stream",
     "text": [
      "Today’s dish of the day is, a Porcupine sandwich!\n"
     ]
    }
   ],
   "source": [
    "my_lunch = lambda dish: f\"Today’s dish of the day is, {dish}!\"\n",
    "\n",
    "print(my_lunch(\"a Porcupine sandwich\"))\n"
   ]
  },
  {
   "cell_type": "code",
   "execution_count": 114,
   "id": "14ebf50e-2715-4e28-8660-ff04e515a807",
   "metadata": {},
   "outputs": [],
   "source": [
    "biggest = lambda x, y : x if x > y else y   # note the change in the if ….else ….. construct "
   ]
  },
  {
   "cell_type": "code",
   "execution_count": 116,
   "id": "aa1f7870-64d2-4914-9b85-9cf51c7e6b05",
   "metadata": {},
   "outputs": [
    {
     "data": {
      "text/plain": [
       "10"
      ]
     },
     "execution_count": 116,
     "metadata": {},
     "output_type": "execute_result"
    }
   ],
   "source": [
    "biggest(10,9)"
   ]
  },
  {
   "cell_type": "code",
   "execution_count": 124,
   "id": "20a020dd-6967-4021-9083-702752296aa1",
   "metadata": {},
   "outputs": [],
   "source": [
    "# Sort simple quick non-reusable code - lambdas"
   ]
  },
  {
   "cell_type": "code",
   "execution_count": 126,
   "id": "74e0a560-00f5-4efa-95eb-eac197eb0cf4",
   "metadata": {},
   "outputs": [],
   "source": [
    "# lambdas with map() filter() sorted()"
   ]
  },
  {
   "cell_type": "code",
   "execution_count": 128,
   "id": "e004d084-d5ee-4c58-833c-2d9a1e70722c",
   "metadata": {},
   "outputs": [
    {
     "name": "stdout",
     "output_type": "stream",
     "text": [
      "[1, 4, 9, 16, 25]\n"
     ]
    }
   ],
   "source": [
    "my_list = [1,2,3,4,5]\n",
    "\n",
    "print(list(map(lambda my_list: my_list**2, my_list)))\n"
   ]
  },
  {
   "cell_type": "code",
   "execution_count": 130,
   "id": "bc133c12-5039-4011-85cf-3d55d03fbd2e",
   "metadata": {},
   "outputs": [
    {
     "name": "stdout",
     "output_type": "stream",
     "text": [
      "[3, 4, 5]\n"
     ]
    }
   ],
   "source": [
    "my_list = [1,2,3,4,5]\n",
    "\n",
    "print(list(filter(lambda my_list: my_list >= 3, my_list)))\n"
   ]
  },
  {
   "cell_type": "code",
   "execution_count": 132,
   "id": "3a15e758-9db4-4a02-b9ea-cfef9efae32c",
   "metadata": {},
   "outputs": [],
   "source": [
    "# Sorting\n",
    "\n",
    "stocks = [('AAPL', 150), ('GOOGL', 2700), ('MSFT', 300), ('AMZN', 3500), ('TSLA', 900)]\n",
    "\n",
    "# Sort the list by PRICE using a lambda function\n",
    "sorted_stocks = sorted(stocks, key = lambda stock: stock[1])\n"
   ]
  },
  {
   "cell_type": "code",
   "execution_count": 134,
   "id": "312bb344-1173-44d4-b81a-2b8e069bf39c",
   "metadata": {},
   "outputs": [
    {
     "name": "stdout",
     "output_type": "stream",
     "text": [
      "Sorted Stocks by Price: [('AAPL', 150), ('MSFT', 300), ('TSLA', 900), ('GOOGL', 2700), ('AMZN', 3500)]\n",
      "Lowest Priced Stock: ('AAPL', 150)\n",
      "Highest Priced Stock: ('AMZN', 3500)\n"
     ]
    }
   ],
   "source": [
    "# Display the sorted stocks\n",
    "print(\"Sorted Stocks by Price:\", sorted_stocks)\n",
    "\n",
    "# Find the lowest priced stock\n",
    "print(\"Lowest Priced Stock:\", sorted_stocks[0])\n",
    "\n",
    "# Find the highest priced stock\n",
    "print(\"Highest Priced Stock:\", sorted_stocks[-1])\n"
   ]
  },
  {
   "cell_type": "code",
   "execution_count": 136,
   "id": "a94861bf-fb4c-4762-b796-18d33c6ee6dc",
   "metadata": {},
   "outputs": [],
   "source": [
    "import string\n",
    "\n",
    "sentences = [\"Well, we’ve come to the end of our USER DEFINED functions lecture!\",\n",
    "             \"REMEMBER to continue delving deeper into the subjecT by referring to the plethora of on-line resources.\",\n",
    "             \"Bye for NoW!\"]\n",
    "\n",
    "# Lambda function to convert to lowercase and remove punctuation\n",
    "process_sentence = lambda s: s.lower().translate(str.maketrans('', '', string.punctuation))\n"
   ]
  },
  {
   "cell_type": "code",
   "execution_count": 138,
   "id": "dc4890a1-4ecd-4718-ba4e-71808354128c",
   "metadata": {},
   "outputs": [],
   "source": [
    "# Apply the lambda function to each sentence\n",
    "processed_sentences = list(map(process_sentence, sentences))\n"
   ]
  },
  {
   "cell_type": "code",
   "execution_count": 140,
   "id": "fdc1d160-d49c-447c-bc3b-dbbf91d06931",
   "metadata": {},
   "outputs": [
    {
     "name": "stdout",
     "output_type": "stream",
     "text": [
      "['well we’ve come to the end of our user defined functions lecture', 'remember to continue delving deeper into the subject by referring to the plethora of online resources', 'bye for now']\n"
     ]
    }
   ],
   "source": [
    "print(processed_sentences)"
   ]
  },
  {
   "cell_type": "code",
   "execution_count": null,
   "id": "ed73541c-14e9-4f4c-bcdf-62d4f9ed6aa3",
   "metadata": {},
   "outputs": [],
   "source": [
    "# END"
   ]
  }
 ],
 "metadata": {
  "kernelspec": {
   "display_name": "Python 3 (ipykernel)",
   "language": "python",
   "name": "python3"
  },
  "language_info": {
   "codemirror_mode": {
    "name": "ipython",
    "version": 3
   },
   "file_extension": ".py",
   "mimetype": "text/x-python",
   "name": "python",
   "nbconvert_exporter": "python",
   "pygments_lexer": "ipython3",
   "version": "3.11.7"
  }
 },
 "nbformat": 4,
 "nbformat_minor": 5
}
