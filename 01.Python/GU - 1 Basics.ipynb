{
 "cells": [
  {
   "cell_type": "markdown",
   "id": "1fdf8fa7-c146-4f97-8d51-6bf225489b4e",
   "metadata": {},
   "source": [
    "<center><img src=\"./Data/GU-HHS-logo.jpg\"></center>\n",
    "\n",
    "<h1 style=\"font-size: 4em; text-align: center; font-weight: bold;\">Introduction to Python</font size></b></h1>\n",
    "<h1 style=\"font-family: Comic Sans MS; font-size: 3em; text-align: center; color: blue; font-style: italic;\">Basic Programming<br<><br><br<><br></h1>\n",
    "\n",
    "<div style=\"width: 100%; height: 20px; background: linear-gradient(to right, red, orange, yellow, green, blue, indigo, violet);\"></div>\n",
    "<div style=\"width: 100%; height: 20px; background: linear-gradient(to right, white, blue);\"></div>\n",
    "<hr style=\"border: 8px linear-gradient(to right, pink, yellow, cyan, lime) 1\">"
   ]
  },
  {
   "cell_type": "markdown",
   "id": "6d72b87a-e803-43b6-a0dd-79c27c94873f",
   "metadata": {},
   "source": [
    "<h1 style=\"font-size: 2em; color: blue;\">Hello! & Welcome"
   ]
  },
  {
   "cell_type": "code",
   "execution_count": null,
   "id": "66e8a57d-ef8e-4bbb-9354-060fc0a3a43e",
   "metadata": {},
   "outputs": [],
   "source": [
    "print(\"Welcome to the GU Intro to Python course\")  # prints a string"
   ]
  },
  {
   "cell_type": "code",
   "execution_count": null,
   "id": "e9153ca1-7892-4368-88d4-e8dde4e9d777",
   "metadata": {},
   "outputs": [],
   "source": [
    "print(\"Spotify's market cap is up.\")\t# See the error!  we used 3 quotes, hence the error ... \"unterminated string literal\""
   ]
  },
  {
   "cell_type": "markdown",
   "id": "b7ed1abb-59ee-4f86-ab9c-fc1d530d4907",
   "metadata": {},
   "source": [
    "<h1 style=\"font-size: 2em; color: blue;\">Primitive Variables"
   ]
  },
  {
   "cell_type": "code",
   "execution_count": null,
   "id": "6ad0c99c-9d7d-44c1-be32-5bffad477013",
   "metadata": {},
   "outputs": [],
   "source": [
    "# Declare a variable\n",
    "\n",
    "name = \"Mark\"\t# remember, we click to the left of the cell and type \"b\" to create a new cell below the current one "
   ]
  },
  {
   "cell_type": "code",
   "execution_count": null,
   "id": "d6212927-7ecf-43e0-a061-97ecc2c8fe79",
   "metadata": {},
   "outputs": [],
   "source": [
    "print(\"name\")   # WHOOPS ....  do not put quotes aound string variable labels"
   ]
  },
  {
   "cell_type": "code",
   "execution_count": null,
   "id": "258e6ebf-e0d8-46b2-9e5a-82544ed04305",
   "metadata": {},
   "outputs": [],
   "source": [
    "print(name)"
   ]
  },
  {
   "cell_type": "code",
   "execution_count": null,
   "id": "35c07610-3471-4f65-a7c4-833dcddb26a6",
   "metadata": {},
   "outputs": [],
   "source": [
    "age = 21            # integer\n",
    "height = 1.91       # float\n",
    "\n",
    "type(height)"
   ]
  },
  {
   "cell_type": "code",
   "execution_count": null,
   "id": "7ef6cf4f-e18b-4c74-87b0-70e1934b7cae",
   "metadata": {},
   "outputs": [],
   "source": [
    "age = 22\n",
    "print(age)\n",
    "height = 1.91\n",
    "age = 42\n",
    "print(age)\n"
   ]
  },
  {
   "cell_type": "code",
   "execution_count": null,
   "id": "17559d0d-083e-4928-b649-55949db46691",
   "metadata": {},
   "outputs": [],
   "source": [
    "ticket_price = 2000  # SEK"
   ]
  },
  {
   "cell_type": "code",
   "execution_count": null,
   "id": "e21a3f93-1bf5-43fb-8050-c27667ed83c8",
   "metadata": {},
   "outputs": [],
   "source": [
    "# bool: valid values are  . .. True    or      False"
   ]
  },
  {
   "cell_type": "code",
   "execution_count": null,
   "id": "8159dfe0-abd7-45c4-a2b1-0f37c0bf3919",
   "metadata": {},
   "outputs": [],
   "source": [
    "def is_high_risk (volatility, threshold = 0.3):\n",
    "    return volatility > threshold  # return a bool\n",
    "\n",
    "investment_approved = is_high_risk(0.4)\n",
    "investment_approved\n"
   ]
  },
  {
   "cell_type": "code",
   "execution_count": null,
   "id": "fa4bc852-263b-43a7-ab44-089c76cb02a2",
   "metadata": {},
   "outputs": [],
   "source": [
    "is_active_customer = False"
   ]
  },
  {
   "cell_type": "markdown",
   "id": "4c8c4777-cc6d-48bb-a956-508ab4472d63",
   "metadata": {},
   "source": [
    "<h1 style=\"font-size: 2em; color: blue;\">Handling user input"
   ]
  },
  {
   "cell_type": "code",
   "execution_count": null,
   "id": "aa542208-ac39-48c8-8594-53f31839803a",
   "metadata": {},
   "outputs": [],
   "source": [
    "# User input\n",
    "\n",
    "customer_name = input(\"Please enter the customer name: \") \n"
   ]
  },
  {
   "cell_type": "code",
   "execution_count": null,
   "id": "bf2557bd-762e-4790-8cac-d4b5792a21e7",
   "metadata": {},
   "outputs": [],
   "source": [
    "print(\"New customer \" + customer_name + \" has been created.\")"
   ]
  },
  {
   "cell_type": "code",
   "execution_count": null,
   "id": "97223b4e-4da9-4f79-82a3-c76896dc39c2",
   "metadata": {},
   "outputs": [],
   "source": [
    "# Type conversion\n",
    "\n",
    "yob = input(\"Please enter the customers year of birth : \")   # WARNING: this returns a string \n",
    "\n",
    "age = 2024 - yob\n"
   ]
  },
  {
   "cell_type": "code",
   "execution_count": null,
   "id": "c86cd7fe-daf7-478f-9e61-aa8ac7cf0ca1",
   "metadata": {},
   "outputs": [],
   "source": [
    "yob = input(\"Please enter the customers year of birth : \")\n",
    "\n",
    "age = 2024 - int(yob)  # Convert string to intgeger\n",
    "\n",
    "print(age)\n"
   ]
  },
  {
   "cell_type": "code",
   "execution_count": null,
   "id": "41d41556-0b5c-4f23-b1fc-747e63af30e9",
   "metadata": {},
   "outputs": [],
   "source": [
    "# float() Python function\n",
    "\n",
    "x = \"12.34\"\n",
    "result = float(x)\n",
    "\n",
    "print(type(result))\n",
    "print(result)  # Output: 12.34\n",
    "\n",
    "x = 5\n",
    "result = float(x)\n",
    "\n",
    "print(type(result))\n",
    "print(result)  # Output: 5.0\n",
    "\n",
    "x = \"3.14e-10\"\n",
    "result = float(x)\n",
    "\n",
    "print(type(result))\n",
    "print(result)  # Output: 3.14e-10"
   ]
  },
  {
   "cell_type": "code",
   "execution_count": null,
   "id": "65836294-10f1-4bcd-b431-559cb865c882",
   "metadata": {},
   "outputs": [],
   "source": [
    "# str() Python function\n",
    "\n",
    "pi = 3.142    \n",
    "pi_str = str(pi)\n",
    "\n",
    "print(type(pi_str))\n",
    "print(\"let's concatenate these string and give pi as a text: \" + pi_str, \"\\n\")\n",
    "\n",
    "answer = True\n",
    "answer_str = str(answer)\n",
    "\n",
    "print(type(answer_str))\n",
    "print(\"This conversion to string was successful .... \" + answer_str)"
   ]
  },
  {
   "cell_type": "code",
   "execution_count": null,
   "id": "617bb9d8-12cb-4b86-a3b9-79de187aa60c",
   "metadata": {},
   "outputs": [],
   "source": [
    "# bool() Python function\n",
    "x = 0\n",
    "result = bool(x)\n",
    "\n",
    "print(type(result))\n",
    "print(result)  # Output: False\n",
    "\n",
    "x = 15\n",
    "result = bool(x)\n",
    "\n",
    "print(type(result))\n",
    "print(result)  # Output: True\n",
    "\n",
    "x = \"\"\n",
    "result = bool(x)\n",
    "\n",
    "print(type(result))\n",
    "print(result)  # Output: False\n",
    "\n",
    "x = \"Liverpool are so much better than Man Utd\"\n",
    "result = bool(x)\n",
    "\n",
    "print(type(result))\n",
    "print(result)  # Output: True"
   ]
  },
  {
   "cell_type": "markdown",
   "id": "4494c35a-f087-4f1e-b52a-0b908336bbfc",
   "metadata": {},
   "source": [
    "<h1 style=\"font-family: Comic Sans MS; font-size: 3em; color: purple; font-style: italic;\">Exercise:<br><h1 style=\"font-family: Comic Sans MS; color: purple; font-style: italic;\">Write some code for a basic calculator to multiply two numeric variable (quantity and price of a product for a customer order), which are both input from the user terminal and print the solution.<br><br>HINT: It’ll take max. 4 lines of code. "
   ]
  },
  {
   "cell_type": "markdown",
   "id": "47e974df-f429-41b8-b8fd-31088a06d5c4",
   "metadata": {},
   "source": [
    "<h1 style=\"font-family: Comic Sans MS; color: purple; font-style: italic;\">Solution:"
   ]
  },
  {
   "cell_type": "code",
   "execution_count": null,
   "id": "ff158538-0343-4276-93ec-861ccc2aa1e5",
   "metadata": {},
   "outputs": [],
   "source": [
    "# Simple solution\n",
    "\n",
    "order_quantity = float(input(\"Number of widgets: \"))\n",
    "price = float(input(\"Unit price: \"))\n",
    "order_cost = order_quantity * price\n",
    "print(\"Total cost of order: \" + str(order_cost))\n"
   ]
  },
  {
   "cell_type": "code",
   "execution_count": null,
   "id": "3c2b5470-f70b-42da-aa27-fde00174e230",
   "metadata": {},
   "outputs": [],
   "source": [
    "# It can be done in one line of code BUT arguably much less readable ....\n",
    "\n",
    "print(\"Total cost of order: \" + str(float(input(\"Number of widgets: \")) * float(input(\"Unit price: \"))))\n"
   ]
  },
  {
   "cell_type": "markdown",
   "id": "38795cac-09c8-4355-b992-c40b3bf479e8",
   "metadata": {},
   "source": [
    "<h1 style=\"font-size: 2em; color: blue;\">Operators"
   ]
  },
  {
   "cell_type": "code",
   "execution_count": null,
   "id": "aabf116d-6560-4b49-ab39-e6d68bbda1a0",
   "metadata": {},
   "outputs": [],
   "source": [
    "2 + 3     "
   ]
  },
  {
   "cell_type": "code",
   "execution_count": null,
   "id": "aed8b50b-863c-46e0-a530-44b4f90138ac",
   "metadata": {},
   "outputs": [],
   "source": [
    "2 * 3"
   ]
  },
  {
   "cell_type": "code",
   "execution_count": null,
   "id": "b30c973a-3ba3-48b6-b7b2-ea642b24a230",
   "metadata": {},
   "outputs": [],
   "source": [
    "2 / 3"
   ]
  },
  {
   "cell_type": "code",
   "execution_count": null,
   "id": "36c8d74a-943c-41ab-8501-adf16ecf0c14",
   "metadata": {},
   "outputs": [],
   "source": [
    "2 - 3"
   ]
  },
  {
   "cell_type": "code",
   "execution_count": null,
   "id": "24139bcd-39b9-4b1d-9c92-5942a7d3e429",
   "metadata": {},
   "outputs": [],
   "source": [
    "# Integer or Floor division\n",
    "\n",
    "7 // 2    # rounded"
   ]
  },
  {
   "cell_type": "code",
   "execution_count": null,
   "id": "9d47b402-28db-4e74-95f4-c75b2000e540",
   "metadata": {},
   "outputs": [],
   "source": [
    "# Modulus\n",
    "\n",
    "5 % 2.55  # remainder"
   ]
  },
  {
   "cell_type": "code",
   "execution_count": null,
   "id": "5af3c82f-8216-4975-82e0-becfc8dd65d7",
   "metadata": {},
   "outputs": [],
   "source": [
    "# Exponent\n",
    "\n",
    "2 ** 3  # 2 x 2 x 2"
   ]
  },
  {
   "cell_type": "code",
   "execution_count": null,
   "id": "21ad452a-df41-4f4e-99e0-db74c656ce3c",
   "metadata": {},
   "outputs": [],
   "source": [
    "# Augmented assignment\n",
    "\n",
    "x  =  20\n",
    "x  =  x + 2\n",
    "\n",
    "x"
   ]
  },
  {
   "cell_type": "code",
   "execution_count": null,
   "id": "c227deca-9b41-4f8c-a802-c1dc34088557",
   "metadata": {},
   "outputs": [],
   "source": [
    "x  =  20\n",
    "x  += 2   # augmented\n",
    "\n",
    "x"
   ]
  },
  {
   "cell_type": "code",
   "execution_count": null,
   "id": "04965f92-08bd-4c32-a45f-53ca898f58ae",
   "metadata": {},
   "outputs": [],
   "source": [
    "x -= 4\n",
    "\n",
    "x"
   ]
  },
  {
   "cell_type": "code",
   "execution_count": null,
   "id": "f3679539-a37f-4d3c-9f94-2422e293a932",
   "metadata": {},
   "outputs": [],
   "source": [
    "x *= 2\n",
    "\n",
    "x"
   ]
  },
  {
   "cell_type": "code",
   "execution_count": null,
   "id": "07829160-90e9-4433-992b-cbc77402e6fe",
   "metadata": {},
   "outputs": [],
   "source": [
    "# OPERATOR PRECIDENCE\n",
    "\n",
    "x = 10 - 2 * 4 + 2   # */ first  ... then +-\n",
    "\n",
    "x"
   ]
  },
  {
   "cell_type": "code",
   "execution_count": null,
   "id": "2797f3ac-bcf9-4bbf-9c97-a1d5f9080d5f",
   "metadata": {},
   "outputs": [],
   "source": [
    "# Force the precidence with parentheses\n",
    "\n",
    "x = (10 - 2 ) * 4 + 2\n",
    "\n",
    "x"
   ]
  },
  {
   "cell_type": "code",
   "execution_count": null,
   "id": "fdb1d28d-aa19-447f-9976-3276ea0b461f",
   "metadata": {},
   "outputs": [],
   "source": [
    "# Comparison operators\n",
    "\n",
    "y = 10 > 9\n",
    "\n",
    "print(y)\t# this returns a BOOLEAN. In this case True\n"
   ]
  },
  {
   "cell_type": "code",
   "execution_count": null,
   "id": "6f8ad4a4-86b4-4681-8a59-aaab3e5781b3",
   "metadata": {},
   "outputs": [],
   "source": [
    "print (1 >= 2)\n",
    "print (1 < 2)\n",
    "print (2 <= 1)"
   ]
  },
  {
   "cell_type": "code",
   "execution_count": null,
   "id": "5d7b78a8-dc7c-4134-b893-540e6e00d2f5",
   "metadata": {},
   "outputs": [],
   "source": [
    "# What do you think the result of this is? Why?\n",
    "\n",
    "print(\"fact\" > \"fiction\")  #????    code for 'a' < code for 'i'"
   ]
  },
  {
   "cell_type": "code",
   "execution_count": null,
   "id": "1dbd44f5-ad21-4a00-a157-63960bd5eabf",
   "metadata": {},
   "outputs": [],
   "source": [
    "# Test for equality\n",
    "\n",
    "print(1 == 2)  # doesn't assign ONLY compares"
   ]
  },
  {
   "cell_type": "code",
   "execution_count": null,
   "id": "9868855b-da50-40db-beb1-fb3a2466b8e2",
   "metadata": {},
   "outputs": [],
   "source": [
    "x = 2 == 3   #??  x is result of is 2 equal to 3\n",
    "\n",
    "x"
   ]
  },
  {
   "cell_type": "code",
   "execution_count": null,
   "id": "1e3b00f3-5c93-4456-9dc7-975594eb96e3",
   "metadata": {},
   "outputs": [],
   "source": [
    "# Inequality test\n",
    "\n",
    "print(100 != 99)  # NOT EQUAL TO"
   ]
  },
  {
   "cell_type": "markdown",
   "id": "64b4a734-e2ec-4599-b782-7abb9a456c6b",
   "metadata": {},
   "source": [
    "<h1 style=\"font-size: 2em; color: blue;\">Logical Operators"
   ]
  },
  {
   "cell_type": "code",
   "execution_count": null,
   "id": "7c9e4de6-9aff-4c87-a407-6357afb38483",
   "metadata": {},
   "outputs": [],
   "source": [
    "# Programming logic\n",
    "\n",
    "#                   AND .... to be ... OR ...  NOT ....to be?"
   ]
  },
  {
   "cell_type": "code",
   "execution_count": null,
   "id": "ebed6675-2e08-43b8-abdc-b60f8fedc6ca",
   "metadata": {},
   "outputs": [],
   "source": [
    "# Create our 3 boolean variables\n",
    "\n",
    "x = True\n",
    "y = False\n",
    "z = True\n"
   ]
  },
  {
   "cell_type": "code",
   "execution_count": null,
   "id": "c4075218-685d-4c8a-bd7d-8d96de0a0f7a",
   "metadata": {},
   "outputs": [],
   "source": [
    "# Question: are BOTH x and y TRUE?\n",
    "print (\"BOTH x AND y are TRUE ....\", x and y)  # ONLY True if BOTH are True"
   ]
  },
  {
   "cell_type": "code",
   "execution_count": null,
   "id": "fa0b0563-1033-4458-8ce0-08c2e92a2268",
   "metadata": {},
   "outputs": [],
   "source": [
    "# Question: is at least one of x or y FALSE\n",
    "print (\"AT LEAST one of x AND y are FALSE ....\", not (x and y))  # ONLY True if AT LEAST one is False"
   ]
  },
  {
   "cell_type": "code",
   "execution_count": null,
   "id": "6c2aa884-e37e-4ab3-ae0f-01162810e328",
   "metadata": {},
   "outputs": [],
   "source": [
    "# Question: is at least one of the values TRUE?\n",
    "print (\"EITHER x OR y is TRUE ....\", x or y)   # True if EITHER is True"
   ]
  },
  {
   "cell_type": "code",
   "execution_count": null,
   "id": "ac72d933-349a-4f6f-a4d0-84bf14a282d4",
   "metadata": {},
   "outputs": [],
   "source": [
    "# Question: are both x AND y FALSE\n",
    "print (\"BOTH x AND y are FALSE ....\", not (x or y))   # ONLY True if BOTH are False"
   ]
  },
  {
   "cell_type": "code",
   "execution_count": null,
   "id": "bdadb152-973d-4101-8b81-318444b0eadf",
   "metadata": {},
   "outputs": [],
   "source": [
    "# Try to process this example ............\n",
    "print(\"\\nThe result of (x AND y) OR z   is   ....\",(x and y) or z)"
   ]
  },
  {
   "cell_type": "code",
   "execution_count": null,
   "id": "549d3003-00e0-491c-beab-3b4f39a5abb9",
   "metadata": {},
   "outputs": [],
   "source": [
    "\n",
    "# Current portfolio composition - Pretend this has been read in from a file\n",
    "\n",
    "stocks_percentage = 90                        # % of the portfolio is in stocks\n",
    "bonds_percentage = 100 - stocks_percentage    # % of the portfolio is in bonds\n",
    "\n",
    "\n",
    "\n",
    "# Portfolio rebalancing thresholds\n",
    "\n",
    "max_stocks_percentage = int(input(\"Please enter the current company threshold for the maximum share compostion: \"))         # Maximum allowed percentage for stocks\n",
    "min_bonds_percentage = int(input(\"Please enter the current company threshold for the minimum bond compostion: \"))           # Minimum required percentage for bonds\n",
    "\n",
    "threshold_total = max_stocks_percentage + min_bonds_percentage\n",
    "\n",
    "# Eror checking - First check for MAX and MIN settings is correct using the NOT with the AND operator\n",
    "threshold_error =  not ((min_bonds_percentage >= 30) and (max_stocks_percentage <= 70 ) and (threshold_total == 100) )\n",
    "\n",
    "if threshold_error:  # ... is True\n",
    "    print(\"\\nThresholds are NOT in line with policy. Please re-enter. \")\n",
    "\n",
    "else:  # no error\n",
    "    # Check if rebalancing is needed using OR operator\n",
    "    needs_rebalancing = (stocks_percentage > max_stocks_percentage) or (bonds_percentage < min_bonds_percentage)\n",
    "    \n",
    "    print(\"\\nPortfolio needs rebalancing: \", needs_rebalancing)\n",
    "\n"
   ]
  },
  {
   "cell_type": "markdown",
   "id": "3e1bd0d7-eb78-40cf-a0d5-0c1754790a80",
   "metadata": {},
   "source": [
    "<h1 style=\"font-size: 2em; color: blue;\">Conditional statements"
   ]
  },
  {
   "cell_type": "code",
   "execution_count": null,
   "id": "cf92a659-8bfa-44bf-9772-e0ede4bc9f02",
   "metadata": {},
   "outputs": [],
   "source": [
    "stock_price = 150"
   ]
  },
  {
   "cell_type": "code",
   "execution_count": 109,
   "id": "f45e6e84-cf98-4389-b3d6-41dcc54a1d85",
   "metadata": {},
   "outputs": [
    {
     "name": "stdout",
     "output_type": "stream",
     "text": [
      "Your Volvo stock price is currently  3\n",
      "\n",
      "\tURGENT: This stock has fallen to junk level!\n"
     ]
    }
   ],
   "source": [
    "# There's been an incident ......\n",
    "\n",
    "stock_price = 3  # USD\n",
    "\n",
    "print(\"Your Volvo stock price is currently \", stock_price)\n",
    "\n",
    "if stock_price < 10:\n",
    "    print(\"\\n\\tURGENT: This stock has fallen to junk level!\" )\n"
   ]
  },
  {
   "cell_type": "code",
   "execution_count": 111,
   "id": "9b903ac0-d55a-41ad-ae0b-c0570cb2fea6",
   "metadata": {},
   "outputs": [
    {
     "name": "stdout",
     "output_type": "stream",
     "text": [
      "Your Volvo stock price is currently  3\n",
      "\n",
      "\tURGENT: This stock has fallen to junk level!\n",
      "\tReconsider your trading strategy \n",
      "\t ...and perhaps put any money you may have left into a savings account.\n"
     ]
    }
   ],
   "source": [
    "\n",
    "\n",
    "print(\"Your Volvo stock price is currently \", stock_price)\n",
    "\n",
    "if stock_price < 10:\n",
    "    print(\"\\n\\tURGENT: This stock has fallen to junk level!\" )\n",
    "    print(\"\\tReconsider your trading strategy \\n\\t ...and perhaps put any money you may have left into a savings account.\")\n",
    "\n"
   ]
  },
  {
   "cell_type": "code",
   "execution_count": 113,
   "id": "435f7b29-d344-48a3-b3ef-4f2a18e71b24",
   "metadata": {},
   "outputs": [
    {
     "name": "stdout",
     "output_type": "stream",
     "text": [
      "Your Volvo stock price is currently  100\n",
      "\n",
      "\n",
      "\n",
      "IF conditional blocks ended \n"
     ]
    }
   ],
   "source": [
    "\n",
    "stock_price = 100\n",
    "\n",
    "print(\"Your Volvo stock price is currently \", stock_price)\n",
    "\n",
    "if stock_price < 10:\n",
    "    print(\"\\n\\tURGENT: This stock has fallen to junk level!\" )\n",
    "    print(\"\\tReconsider your trading strategy \\n\\t ...and perhaps put any money you may have left into a savings account.\")\n",
    "\n",
    "print(\"\\n\\n\\nIF conditional blocks ended \")"
   ]
  },
  {
   "cell_type": "code",
   "execution_count": 115,
   "id": "afbc77c7-ba00-496d-b97f-5133bfa9d44f",
   "metadata": {},
   "outputs": [
    {
     "name": "stdout",
     "output_type": "stream",
     "text": [
      "Your Volvo stock price is currently  45\n",
      "\n",
      "\tThe stock price has fallen below 50 USD\n",
      "\tIf fall was only due to systemic conditions, revise the fundamentals and \n",
      "\t....consider buying more of this stock if evidence supports.\n",
      "\n",
      "IF conditional blocks ended \n"
     ]
    }
   ],
   "source": [
    "stock_price = 45\n",
    "\n",
    "print(\"Your Volvo stock price is currently \", stock_price)\n",
    "\n",
    "if stock_price < 10:\n",
    "    \n",
    "    print(\"\\n\\tURGENT: This stock has fallen to junk level!\" )\n",
    "    print(\"\\tReconsider your trading strategy \\n\\t ...and perhaps put any money you may have left into a savings account.\")\n",
    "\n",
    "\n",
    "elif (stock_price > 10 and stock_price < 50)  : # ELSE IF:\n",
    "    \n",
    "\tprint(\"\\n\\tThe stock price has fallen below 50 USD\")\n",
    "\tprint(\"\\tIf fall was only due to systemic conditions, revise the fundamentals and \\n\\t....consider buying more of this stock if evidence supports.\")\n",
    "\n",
    "print(\"\\nIF conditional blocks ended \")"
   ]
  },
  {
   "cell_type": "code",
   "execution_count": 117,
   "id": "dcc7a098-2f5e-4373-8d7e-48aa31266300",
   "metadata": {},
   "outputs": [
    {
     "name": "stdout",
     "output_type": "stream",
     "text": [
      "Your Volvo stock price is currently  1200\n",
      "\n",
      "\tThe stock price has increased by  1100 USD \n",
      "\tConsider some stock taking and order that Aston Martin Vantage\n",
      "\n",
      "IF conditional blocks ended \n"
     ]
    }
   ],
   "source": [
    "stock_price = 1200\n",
    "\n",
    "print(\"Your Volvo stock price is currently \", stock_price)\n",
    "\n",
    "if stock_price < 10:\n",
    "    \n",
    "    print(\"\\n\\tURGENT: This stock has fallen to junk level!\" )\n",
    "    print(\"\\tReconsider your trading strategy \\n\\t ...and perhaps put any money you may have left into a savings account.\")\n",
    "\n",
    "elif (stock_price > 10) and stock_price < 50  : # ELSE IF:\n",
    "    \n",
    "\tprint(\"\\n\\tThe stock price has fallen below 50 USD\")\n",
    "\tprint(\"\\tYou’re advised to research the reasons and re-examine your portfolio\")\n",
    "    \n",
    "elif stock_price > 1000:\n",
    "    \n",
    "    print(\"\\n\\tThe stock price has increased by \", stock_price - 100, \"USD \")\n",
    "    print(\"\\tConsider some stock taking and order that Aston Martin Vantage\")\n",
    "\n",
    "print(\"\\nIF conditional blocks ended \")"
   ]
  },
  {
   "cell_type": "code",
   "execution_count": 119,
   "id": "0e6c5922-aebd-4645-b672-47a583233281",
   "metadata": {},
   "outputs": [
    {
     "name": "stdout",
     "output_type": "stream",
     "text": [
      "Your Volvo stock price is currently  300\n",
      "\n",
      "\tAll's calm, go back to bed.\n",
      "\n",
      "IF conditional blocks ended \n"
     ]
    }
   ],
   "source": [
    "stock_price = 300\n",
    "\n",
    "print(\"Your Volvo stock price is currently \", stock_price)\n",
    "\n",
    "if stock_price < 10:\n",
    "    \n",
    "    print(\"\\n\\tURGENT: This stock has fallen to junk level!\" )\n",
    "    print(\"\\tReconsider your trading strategy \\n\\t ...and perhaps put any money you may have left into a savings account.\")\n",
    "\n",
    "elif (stock_price > 10) and stock_price < 50  : # ELSE IF:\n",
    "    \n",
    "\tprint(\"\\n\\tThe stock price has fallen below 50 USD\")\n",
    "\tprint(\"\\tYou’re advised to research the reasons and re-examine your portfolio\")\n",
    "    \n",
    "elif stock_price > 1000:\n",
    "    \n",
    "    print(\"\\n\\The stock price has increased by \", stock_price - 100, \"USD \")\n",
    "    print(\"\\tConsider some stock taking and order that Aston Martin Vantage\")\n",
    "\n",
    "else:\n",
    "    print(\"\\n\\tAll's calm, go back to bed.\")\n",
    "\n",
    "print(\"\\nIF conditional blocks ended \")"
   ]
  },
  {
   "cell_type": "markdown",
   "id": "1eeac50f-8cfd-4bac-821f-ac8bcbfb60df",
   "metadata": {},
   "source": [
    "<h1 style=\"font-size: 2em; color: blue;\">While loops"
   ]
  },
  {
   "cell_type": "code",
   "execution_count": 121,
   "id": "78c2ca83-3e6f-4c67-be09-c5ad744d71bf",
   "metadata": {},
   "outputs": [
    {
     "name": "stdout",
     "output_type": "stream",
     "text": [
      "1\n",
      "2\n",
      "3\n",
      "4\n",
      "5\n",
      "loop completed\n"
     ]
    }
   ],
   "source": [
    "i = 1    #initialise a control variable\n",
    "\n",
    "while i <=  5:      # while the pre-defined event has NOT occurred\n",
    "      print(i)\n",
    "      i += 1\n",
    "\n",
    "print(\"loop completed\")\n"
   ]
  },
  {
   "cell_type": "code",
   "execution_count": 127,
   "id": "c5e4c980-969c-47b4-9b73-82a5547eda4b",
   "metadata": {},
   "outputs": [
    {
     "name": "stdin",
     "output_type": "stream",
     "text": [
      "Enter your password:  111\n"
     ]
    },
    {
     "name": "stdout",
     "output_type": "stream",
     "text": [
      "Password incorrect! You have 2 attempts remaining\n"
     ]
    },
    {
     "name": "stdin",
     "output_type": "stream",
     "text": [
      "Enter your password:  333\n"
     ]
    },
    {
     "name": "stdout",
     "output_type": "stream",
     "text": [
      "Password incorrect! You have 1 attempts remaining\n"
     ]
    },
    {
     "name": "stdin",
     "output_type": "stream",
     "text": [
      "Enter your password:  1223\n"
     ]
    },
    {
     "name": "stdout",
     "output_type": "stream",
     "text": [
      "You have exceeded the max number of attempts. Please contact your bank.\n"
     ]
    }
   ],
   "source": [
    "# First record the correct password\n",
    "password = \"123\"   # silly password\n",
    "\n",
    "# Initialize a variable to store the user's input\n",
    "user_input = \"\"\n",
    "\n",
    "attempts = 1\n",
    "max_attempts = 3\n",
    "\n",
    "# Loop until the max password attempts\n",
    "while attempts <= max_attempts:\n",
    "    # Ask the user to enter the password\n",
    "    user_input = input(\"Enter your password: \")\n",
    "\n",
    "    # Check the entered password\n",
    "    if user_input == password:\n",
    "        print(\"SUCCESS!!! You have been validated\")\n",
    "        break\n",
    "    elif (attempts <  3):\n",
    "        print(\"Password incorrect! You have\", max_attempts - attempts, \"attempts remaining\")\n",
    "    else:\n",
    "        print(\"You have exceeded the max number of attempts. Please contact your bank.\")    \n",
    "    attempts +=  1\n"
   ]
  }
 ],
 "metadata": {
  "kernelspec": {
   "display_name": "Python 3 (ipykernel)",
   "language": "python",
   "name": "python3"
  },
  "language_info": {
   "codemirror_mode": {
    "name": "ipython",
    "version": 3
   },
   "file_extension": ".py",
   "mimetype": "text/x-python",
   "name": "python",
   "nbconvert_exporter": "python",
   "pygments_lexer": "ipython3",
   "version": "3.11.7"
  }
 },
 "nbformat": 4,
 "nbformat_minor": 5
}
