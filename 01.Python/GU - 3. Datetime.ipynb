{
 "cells": [
  {
   "cell_type": "markdown",
   "id": "5f6e9ce7-bb6b-476e-a79c-dfb534737b53",
   "metadata": {},
   "source": [
    "## <center><img src=\"./Data/GU-HHS-logo.jpg\"></center>\n",
    "\n",
    "<h1><center><b><font size=\"6\">Introduction to Python</font size></b></center></h1>\n",
    "<h1><center><b><font size=\"7\">Working with dates</font size></b></center></h1>\n",
    "\n",
    "# <span style=color:blue><center><font size=\"6\">datetime</center></span>\n",
    "<div style=\"width: 100%; height: 20px; background: linear-gradient(to right, red, orange, yellow, green, blue, indigo, violet);\"></div>\n",
    "<div style=\"width: 100%; height: 20px; background: linear-gradient(to right, white, blue);\"></div>\n",
    "<hr style=\"border: 8px linear-gradient(to right, pink, yellow, cyan, lime) 1\">"
   ]
  },
  {
   "cell_type": "code",
   "execution_count": 1,
   "id": "5edd6793-c4fa-47e3-9ee5-7e103a027cc9",
   "metadata": {},
   "outputs": [],
   "source": [
    "import datetime"
   ]
  },
  {
   "cell_type": "code",
   "execution_count": 2,
   "id": "24caf57a-54b1-41a7-acad-b368b13949f5",
   "metadata": {},
   "outputs": [
    {
     "data": {
      "text/plain": [
       "['MAXYEAR',\n",
       " 'MINYEAR',\n",
       " '__builtins__',\n",
       " '__cached__',\n",
       " '__doc__',\n",
       " '__file__',\n",
       " '__loader__',\n",
       " '__name__',\n",
       " '__package__',\n",
       " '__spec__',\n",
       " 'date',\n",
       " 'datetime',\n",
       " 'datetime_CAPI',\n",
       " 'sys',\n",
       " 'time',\n",
       " 'timedelta',\n",
       " 'timezone',\n",
       " 'tzinfo']"
      ]
     },
     "execution_count": 2,
     "metadata": {},
     "output_type": "execute_result"
    }
   ],
   "source": [
    "dir(datetime)"
   ]
  },
  {
   "cell_type": "code",
   "execution_count": 3,
   "id": "05f199a2-f18c-4fbe-8b1c-fc8ab746af28",
   "metadata": {},
   "outputs": [
    {
     "name": "stdout",
     "output_type": "stream",
     "text": [
      "Help on class date in module datetime:\n",
      "\n",
      "class date(builtins.object)\n",
      " |  date(year, month, day) --> date object\n",
      " |  \n",
      " |  Methods defined here:\n",
      " |  \n",
      " |  __add__(self, value, /)\n",
      " |      Return self+value.\n",
      " |  \n",
      " |  __eq__(self, value, /)\n",
      " |      Return self==value.\n",
      " |  \n",
      " |  __format__(...)\n",
      " |      Formats self with strftime.\n",
      " |  \n",
      " |  __ge__(self, value, /)\n",
      " |      Return self>=value.\n",
      " |  \n",
      " |  __getattribute__(self, name, /)\n",
      " |      Return getattr(self, name).\n",
      " |  \n",
      " |  __gt__(self, value, /)\n",
      " |      Return self>value.\n",
      " |  \n",
      " |  __hash__(self, /)\n",
      " |      Return hash(self).\n",
      " |  \n",
      " |  __le__(self, value, /)\n",
      " |      Return self<=value.\n",
      " |  \n",
      " |  __lt__(self, value, /)\n",
      " |      Return self<value.\n",
      " |  \n",
      " |  __ne__(self, value, /)\n",
      " |      Return self!=value.\n",
      " |  \n",
      " |  __radd__(self, value, /)\n",
      " |      Return value+self.\n",
      " |  \n",
      " |  __reduce__(...)\n",
      " |      __reduce__() -> (cls, state)\n",
      " |  \n",
      " |  __repr__(self, /)\n",
      " |      Return repr(self).\n",
      " |  \n",
      " |  __rsub__(self, value, /)\n",
      " |      Return value-self.\n",
      " |  \n",
      " |  __str__(self, /)\n",
      " |      Return str(self).\n",
      " |  \n",
      " |  __sub__(self, value, /)\n",
      " |      Return self-value.\n",
      " |  \n",
      " |  ctime(...)\n",
      " |      Return ctime() style string.\n",
      " |  \n",
      " |  isocalendar(...)\n",
      " |      Return a 3-tuple containing ISO year, week number, and weekday.\n",
      " |  \n",
      " |  isoformat(...)\n",
      " |      Return string in ISO 8601 format, YYYY-MM-DD.\n",
      " |  \n",
      " |  isoweekday(...)\n",
      " |      Return the day of the week represented by the date.\n",
      " |      Monday == 1 ... Sunday == 7\n",
      " |  \n",
      " |  replace(...)\n",
      " |      Return date with new specified fields.\n",
      " |  \n",
      " |  strftime(...)\n",
      " |      format -> strftime() style string.\n",
      " |  \n",
      " |  timetuple(...)\n",
      " |      Return time tuple, compatible with time.localtime().\n",
      " |  \n",
      " |  toordinal(...)\n",
      " |      Return proleptic Gregorian ordinal.  January 1 of year 1 is day 1.\n",
      " |  \n",
      " |  weekday(...)\n",
      " |      Return the day of the week represented by the date.\n",
      " |      Monday == 0 ... Sunday == 6\n",
      " |  \n",
      " |  ----------------------------------------------------------------------\n",
      " |  Class methods defined here:\n",
      " |  \n",
      " |  fromisocalendar(...) from builtins.type\n",
      " |      int, int, int -> Construct a date from the ISO year, week number and weekday.\n",
      " |      \n",
      " |      This is the inverse of the date.isocalendar() function\n",
      " |  \n",
      " |  fromisoformat(...) from builtins.type\n",
      " |      str -> Construct a date from the output of date.isoformat()\n",
      " |  \n",
      " |  fromordinal(...) from builtins.type\n",
      " |      int -> date corresponding to a proleptic Gregorian ordinal.\n",
      " |  \n",
      " |  fromtimestamp(timestamp, /) from builtins.type\n",
      " |      Create a date from a POSIX timestamp.\n",
      " |      \n",
      " |      The timestamp is a number, e.g. created via time.time(), that is interpreted\n",
      " |      as local time.\n",
      " |  \n",
      " |  today(...) from builtins.type\n",
      " |      Current date or datetime:  same as self.__class__.fromtimestamp(time.time()).\n",
      " |  \n",
      " |  ----------------------------------------------------------------------\n",
      " |  Static methods defined here:\n",
      " |  \n",
      " |  __new__(*args, **kwargs) from builtins.type\n",
      " |      Create and return a new object.  See help(type) for accurate signature.\n",
      " |  \n",
      " |  ----------------------------------------------------------------------\n",
      " |  Data descriptors defined here:\n",
      " |  \n",
      " |  day\n",
      " |  \n",
      " |  month\n",
      " |  \n",
      " |  year\n",
      " |  \n",
      " |  ----------------------------------------------------------------------\n",
      " |  Data and other attributes defined here:\n",
      " |  \n",
      " |  max = datetime.date(9999, 12, 31)\n",
      " |  \n",
      " |  min = datetime.date(1, 1, 1)\n",
      " |  \n",
      " |  resolution = datetime.timedelta(days=1)\n",
      "\n"
     ]
    }
   ],
   "source": [
    "help(datetime.date)"
   ]
  },
  {
   "cell_type": "code",
   "execution_count": 4,
   "id": "4fbdd770-a66c-46c0-a60f-1d1048ba3200",
   "metadata": {},
   "outputs": [
    {
     "name": "stdout",
     "output_type": "stream",
     "text": [
      "This business school was founded on 1923-10-01\n"
     ]
    }
   ],
   "source": [
    "# GU Handelhögskolan birthday\n",
    "gu_hhs_bd = datetime.date(1923, 10, 1)\n",
    "\n",
    "print(\"This business school was founded on\", gu_hhs_bd)\n"
   ]
  },
  {
   "cell_type": "code",
   "execution_count": 5,
   "id": "70b56c6b-60a0-49e8-8b1f-8282a9c3923d",
   "metadata": {},
   "outputs": [
    {
     "name": "stdout",
     "output_type": "stream",
     "text": [
      "1923\n",
      "10\n",
      "1\n"
     ]
    }
   ],
   "source": [
    "print(gu_hhs_bd.year)\n",
    "print(gu_hhs_bd.month)\n",
    "print(gu_hhs_bd.day)\n"
   ]
  },
  {
   "cell_type": "code",
   "execution_count": 6,
   "id": "35b805ee-a3d1-4ecf-a569-646bf35f575a",
   "metadata": {},
   "outputs": [],
   "source": [
    "# Basic date math\n",
    "# .timedelta() class\n",
    "# Add or subtract the number of days to or from a datetime object\n",
    "\n",
    "Q2_earnings_release = datetime.date(2024, 7, 15)\n",
    "Q3_earning_release = datetime.date(2024, 10, 15)\n",
    "\n",
    "AGM = datetime.date(2024, 3, 1)                    # Annual General Meeting (AGM\n",
    "FYE = datetime.date(2024, 6, 30)                   # Fiscal Year End\n"
   ]
  },
  {
   "cell_type": "code",
   "execution_count": 7,
   "id": "701fc4e9-d6bf-4c14-8dd7-31de444fab33",
   "metadata": {},
   "outputs": [
    {
     "data": {
      "text/plain": [
       "datetime.timedelta(days=92)"
      ]
     },
     "execution_count": 7,
     "metadata": {},
     "output_type": "execute_result"
    }
   ],
   "source": [
    "# Get the number of days between these dates\n",
    "between_releases = Q3_earning_release - Q2_earnings_release\n",
    "between_releases\n"
   ]
  },
  {
   "cell_type": "code",
   "execution_count": 8,
   "id": "b32f0764-2691-4214-9bb6-f5affa73c775",
   "metadata": {},
   "outputs": [
    {
     "name": "stdout",
     "output_type": "stream",
     "text": [
      "The GU Handelhögskolan was founded on Monday, October 01, 1923\n"
     ]
    }
   ],
   "source": [
    "# Can specify different date formats\n",
    "# 1. The strftime()\n",
    "print (\"The GU Handelhögskolan was founded on\", gu_hhs_bd.strftime(\"%A, %B %d, %Y\"))\n"
   ]
  },
  {
   "cell_type": "markdown",
   "id": "08183a4c-f9fd-47b5-9d5a-14644494aabb",
   "metadata": {},
   "source": [
    "### You're unlikely to remember all of the formatting code so here is a link :\n",
    "[Datetime Formatting Codes](http://bit.ly/python-dt-fmt)\n"
   ]
  },
  {
   "cell_type": "code",
   "execution_count": 9,
   "id": "8a8a919a-1248-4aaf-9346-61f34c1b690a",
   "metadata": {},
   "outputs": [
    {
     "name": "stdout",
     "output_type": "stream",
     "text": [
      "The GU Handelhögskolan was founded on Monday, October 01, 1923\n"
     ]
    }
   ],
   "source": [
    "# 2… or use the .format() METHOD\n",
    "\n",
    "gu_hhs_msg = \"The GU Handelhögskolan was founded on {:%A, %B %d, %Y}\"\n",
    "print(gu_hhs_msg.format(gu_hhs_bd))\n"
   ]
  },
  {
   "cell_type": "code",
   "execution_count": 10,
   "id": "27619ac1-abf5-4a16-b327-433d2a8541c4",
   "metadata": {},
   "outputs": [
    {
     "data": {
      "text/plain": [
       "datetime.datetime(2024, 10, 3, 6, 33, 12, 718248)"
      ]
     },
     "execution_count": 10,
     "metadata": {},
     "output_type": "execute_result"
    }
   ],
   "source": [
    "# Accessing the current datetime, today() METHOD\n",
    "# module -> class -> method\n",
    "\n",
    "datetime.datetime.today()\n"
   ]
  },
  {
   "cell_type": "code",
   "execution_count": 11,
   "id": "3fd411fe-812d-44ca-8d40-7af29d7fc849",
   "metadata": {},
   "outputs": [
    {
     "name": "stdin",
     "output_type": "stream",
     "text": [
      "Please enter the accounting item entry date (D-M-Y):  01-01-2024\n"
     ]
    }
   ],
   "source": [
    "# Converting strings into date - strptime() METHOD    ......... should be called parsestr()\n",
    "\n",
    "acc_entry_date = input(\"Please enter the accounting item entry date (D-M-Y): \")\n"
   ]
  },
  {
   "cell_type": "code",
   "execution_count": 12,
   "id": "66684a9e-312e-423b-b10a-2e52173c64e2",
   "metadata": {},
   "outputs": [
    {
     "name": "stdout",
     "output_type": "stream",
     "text": [
      " Item was entered on 2024-01-01 00:00:00\n"
     ]
    },
    {
     "data": {
      "text/plain": [
       "datetime.datetime"
      ]
     },
     "execution_count": 12,
     "metadata": {},
     "output_type": "execute_result"
    }
   ],
   "source": [
    "# Now convert our string formatted date to datetime using .strptime()\n",
    "acc_entry_date_dt = datetime.datetime.strptime(acc_entry_date, \"%m-%d-%Y\")\n",
    "type(acc_entry_date_dt)\n",
    "print(\" Item was entered on\", acc_entry_date_dt)\n",
    "\n",
    "type(acc_entry_date_dt)\n"
   ]
  },
  {
   "cell_type": "markdown",
   "id": "83f513e4-a39a-4928-a3de-b02449924dd4",
   "metadata": {},
   "source": [
    "# <span style=color:blue>2. Pandas - Working with dates</span>\n",
    "<div style=\"width: 100%; height: 20px; background: linear-gradient(to right, red, orange, yellow, green, blue, indigo, violet);\"></div>\n",
    "<div style=\"width: 100%; height: 20px; background: linear-gradient(to right, white, blue);\"></div>\n",
    "<hr style=\"border: 8px linear-gradient(to right, pink, yellow, cyan, lime) 1\">\n"
   ]
  },
  {
   "cell_type": "markdown",
   "id": "f4983847-e128-4f6e-8407-21dbc57238d8",
   "metadata": {},
   "source": [
    "## <span style=color:blue>2.1 Import data THEN convert to datetime</span>"
   ]
  },
  {
   "cell_type": "code",
   "execution_count": 19,
   "id": "8f11cc59-32a8-4e7a-859c-8252c51b7c69",
   "metadata": {},
   "outputs": [],
   "source": [
    "import pandas as pd"
   ]
  },
  {
   "cell_type": "code",
   "execution_count": 20,
   "id": "ef76d78b-4afc-45bc-860a-4e89b13c81be",
   "metadata": {},
   "outputs": [],
   "source": [
    "sp500_goog = pd.read_csv('./Data/sp500_goog.csv')"
   ]
  },
  {
   "cell_type": "code",
   "execution_count": 21,
   "id": "b2738f45-5aaf-4d0b-ae82-8d198dec0cb6",
   "metadata": {},
   "outputs": [
    {
     "data": {
      "text/plain": [
       "(7230, 9)"
      ]
     },
     "execution_count": 21,
     "metadata": {},
     "output_type": "execute_result"
    }
   ],
   "source": [
    "sp500_goog.shape"
   ]
  },
  {
   "cell_type": "code",
   "execution_count": 22,
   "id": "408086c2-04fd-4750-b051-7287f2644785",
   "metadata": {},
   "outputs": [
    {
     "data": {
      "text/html": [
       "<div>\n",
       "<style scoped>\n",
       "    .dataframe tbody tr th:only-of-type {\n",
       "        vertical-align: middle;\n",
       "    }\n",
       "\n",
       "    .dataframe tbody tr th {\n",
       "        vertical-align: top;\n",
       "    }\n",
       "\n",
       "    .dataframe thead th {\n",
       "        text-align: right;\n",
       "    }\n",
       "</style>\n",
       "<table border=\"1\" class=\"dataframe\">\n",
       "  <thead>\n",
       "    <tr style=\"text-align: right;\">\n",
       "      <th></th>\n",
       "      <th>Unnamed: 0</th>\n",
       "      <th>Date</th>\n",
       "      <th>Symbol</th>\n",
       "      <th>Adj Close</th>\n",
       "      <th>Close</th>\n",
       "      <th>High</th>\n",
       "      <th>Low</th>\n",
       "      <th>Open</th>\n",
       "      <th>Volume</th>\n",
       "    </tr>\n",
       "  </thead>\n",
       "  <tbody>\n",
       "    <tr>\n",
       "      <th>0</th>\n",
       "      <td>68685</td>\n",
       "      <td>2010-01-04</td>\n",
       "      <td>GOOGL</td>\n",
       "      <td>15.684434</td>\n",
       "      <td>15.684434</td>\n",
       "      <td>15.753504</td>\n",
       "      <td>15.621622</td>\n",
       "      <td>15.689439</td>\n",
       "      <td>78169752.0</td>\n",
       "    </tr>\n",
       "    <tr>\n",
       "      <th>1</th>\n",
       "      <td>68686</td>\n",
       "      <td>2010-01-05</td>\n",
       "      <td>GOOGL</td>\n",
       "      <td>15.615365</td>\n",
       "      <td>15.615365</td>\n",
       "      <td>15.711712</td>\n",
       "      <td>15.554054</td>\n",
       "      <td>15.695195</td>\n",
       "      <td>120067812.0</td>\n",
       "    </tr>\n",
       "    <tr>\n",
       "      <th>2</th>\n",
       "      <td>68687</td>\n",
       "      <td>2010-01-06</td>\n",
       "      <td>GOOGL</td>\n",
       "      <td>15.221722</td>\n",
       "      <td>15.221722</td>\n",
       "      <td>15.662162</td>\n",
       "      <td>15.174174</td>\n",
       "      <td>15.662162</td>\n",
       "      <td>158988852.0</td>\n",
       "    </tr>\n",
       "    <tr>\n",
       "      <th>3</th>\n",
       "      <td>68688</td>\n",
       "      <td>2010-01-07</td>\n",
       "      <td>GOOGL</td>\n",
       "      <td>14.867367</td>\n",
       "      <td>14.867367</td>\n",
       "      <td>15.265265</td>\n",
       "      <td>14.831081</td>\n",
       "      <td>15.250250</td>\n",
       "      <td>256315428.0</td>\n",
       "    </tr>\n",
       "    <tr>\n",
       "      <th>4</th>\n",
       "      <td>68689</td>\n",
       "      <td>2010-01-08</td>\n",
       "      <td>GOOGL</td>\n",
       "      <td>15.065566</td>\n",
       "      <td>15.065566</td>\n",
       "      <td>15.096346</td>\n",
       "      <td>14.742492</td>\n",
       "      <td>14.814815</td>\n",
       "      <td>188783028.0</td>\n",
       "    </tr>\n",
       "  </tbody>\n",
       "</table>\n",
       "</div>"
      ],
      "text/plain": [
       "   Unnamed: 0        Date Symbol  Adj Close      Close       High        Low  \\\n",
       "0       68685  2010-01-04  GOOGL  15.684434  15.684434  15.753504  15.621622   \n",
       "1       68686  2010-01-05  GOOGL  15.615365  15.615365  15.711712  15.554054   \n",
       "2       68687  2010-01-06  GOOGL  15.221722  15.221722  15.662162  15.174174   \n",
       "3       68688  2010-01-07  GOOGL  14.867367  14.867367  15.265265  14.831081   \n",
       "4       68689  2010-01-08  GOOGL  15.065566  15.065566  15.096346  14.742492   \n",
       "\n",
       "        Open       Volume  \n",
       "0  15.689439   78169752.0  \n",
       "1  15.695195  120067812.0  \n",
       "2  15.662162  158988852.0  \n",
       "3  15.250250  256315428.0  \n",
       "4  14.814815  188783028.0  "
      ]
     },
     "execution_count": 22,
     "metadata": {},
     "output_type": "execute_result"
    }
   ],
   "source": [
    "sp500_goog.head()"
   ]
  },
  {
   "cell_type": "code",
   "execution_count": 23,
   "id": "06e9f9c9-e8c4-4e2a-ab1e-1293ad82cb49",
   "metadata": {},
   "outputs": [
    {
     "data": {
      "text/plain": [
       "RangeIndex(start=0, stop=7230, step=1)"
      ]
     },
     "execution_count": 23,
     "metadata": {},
     "output_type": "execute_result"
    }
   ],
   "source": [
    "sp500_goog.index"
   ]
  },
  {
   "cell_type": "code",
   "execution_count": 24,
   "id": "75009d6b-b074-42a9-95a2-c8bedeeb672a",
   "metadata": {},
   "outputs": [
    {
     "ename": "AttributeError",
     "evalue": "'str' object has no attribute 'day_name'",
     "output_type": "error",
     "traceback": [
      "\u001b[0;31m---------------------------------------------------------------------------\u001b[0m",
      "\u001b[0;31mAttributeError\u001b[0m                            Traceback (most recent call last)",
      "\u001b[0;32m/tmp/ipykernel_1980/3881759979.py\u001b[0m in \u001b[0;36m<module>\u001b[0;34m\u001b[0m\n\u001b[0;32m----> 1\u001b[0;31m \u001b[0msp500_goog\u001b[0m\u001b[0;34m.\u001b[0m\u001b[0miloc\u001b[0m\u001b[0;34m[\u001b[0m\u001b[0;36m0\u001b[0m\u001b[0;34m,\u001b[0m \u001b[0;36m1\u001b[0m\u001b[0;34m]\u001b[0m\u001b[0;34m.\u001b[0m\u001b[0mday_name\u001b[0m\u001b[0;34m(\u001b[0m\u001b[0;34m)\u001b[0m\u001b[0;34m\u001b[0m\u001b[0;34m\u001b[0m\u001b[0m\n\u001b[0m",
      "\u001b[0;31mAttributeError\u001b[0m: 'str' object has no attribute 'day_name'"
     ]
    }
   ],
   "source": [
    "sp500_goog.iloc[0, 1].day_name()"
   ]
  },
  {
   "cell_type": "code",
   "execution_count": null,
   "id": "849a9a34-bf84-40dd-a070-a5759dec24bc",
   "metadata": {},
   "outputs": [],
   "source": [
    "sp500_goog['Date']=pd.to_datetime(sp500_goog['Date'], format='%Y-%m-%d')"
   ]
  },
  {
   "cell_type": "code",
   "execution_count": null,
   "id": "59d7229e-467f-4767-9627-80acc0df4f9b",
   "metadata": {},
   "outputs": [],
   "source": [
    "sp500_goog.iloc[0, 1].day_name()"
   ]
  },
  {
   "cell_type": "code",
   "execution_count": null,
   "id": "a6660bb4-bef7-4b4c-bd5e-50b972a85c23",
   "metadata": {},
   "outputs": [],
   "source": [
    "sp500_goog['Date']"
   ]
  },
  {
   "cell_type": "markdown",
   "id": "9d677586-b103-418f-b315-6fdbcda03b99",
   "metadata": {},
   "source": [
    "## <span style=color:blue>2.2 Perform string-date conversion AT file import</span>"
   ]
  },
  {
   "cell_type": "code",
   "execution_count": null,
   "id": "baa4180a-b60a-4dae-9c9c-9ed03fd2518d",
   "metadata": {},
   "outputs": [],
   "source": [
    "# Read .csv and convert date from string to datetime\n",
    "sp500_goog = pd.read_csv('./Data/sp500_goog.csv', parse_dates=['Date'], date_format='%Y-%m-%d')\n",
    "\n",
    "sp500_goog['Date']"
   ]
  },
  {
   "cell_type": "code",
   "execution_count": null,
   "id": "7bf50941-b213-4149-9fc1-8c825a253ebe",
   "metadata": {},
   "outputs": [],
   "source": [
    "# View earliest and latest dates in our df\n",
    "\n",
    "print(\"The first date in our series is \", sp500_goog['Date'].min())\n",
    "print(\"The last date in our series is \",sp500_goog['Date'].max())\n"
   ]
  },
  {
   "cell_type": "code",
   "execution_count": null,
   "id": "f908fbdb-c8b4-442f-b14c-5fb432dfa808",
   "metadata": {},
   "outputs": [],
   "source": [
    "# What is the timespan of our data? just use the minus operator\n",
    "sp500_goog['Date'].max() - sp500_goog['Date'].min()\n"
   ]
  },
  {
   "cell_type": "code",
   "execution_count": null,
   "id": "8a0e95a5-bab1-4e41-9914-6663b9e88d8f",
   "metadata": {},
   "outputs": [],
   "source": [
    "# Create new column from datetime column\n",
    "\n",
    "# Create a new column with day name of trading date\n",
    "\n",
    "sp500_goog['Day'] = sp500_goog['Date'].dt.day_name()\n",
    "sp500_goog\n"
   ]
  },
  {
   "cell_type": "code",
   "execution_count": null,
   "id": "1007389d-4b6f-49f2-bd66-82132e91c7b1",
   "metadata": {},
   "outputs": [],
   "source": [
    "# Set the index to be the trade date\n",
    "sp500_goog.set_index('Date', inplace = True )\n",
    "\n",
    "sp500_goog.index\n"
   ]
  },
  {
   "cell_type": "code",
   "execution_count": null,
   "id": "35d129c9-e128-4666-91d3-5a5292d118e5",
   "metadata": {},
   "outputs": [],
   "source": [
    "# We should sort the index\n",
    "sp500_goog = sp500_goog.sort_index()\n"
   ]
  },
  {
   "cell_type": "code",
   "execution_count": null,
   "id": "352b0424-2a4e-4fba-a945-b8e6b94f7a04",
   "metadata": {},
   "outputs": [],
   "source": [
    "# This enables us to slice our date \n",
    "\n",
    "# To retrieve information from a specific date, use the .at instance:\n",
    "\n",
    "sp500_goog.at['2010',]  # retrieves all columns\n"
   ]
  },
  {
   "cell_type": "markdown",
   "id": "3bf2405d-6a5f-4cf2-97df-f438cabca7f3",
   "metadata": {},
   "source": [
    "### <span style=\"color:red\">WARNING: If an index does not exist a hard 'key error' will be raised."
   ]
  },
  {
   "cell_type": "code",
   "execution_count": null,
   "id": "b75f6a70-3459-40e8-bf20-1e959b09664b",
   "metadata": {},
   "outputs": [],
   "source": [
    "# Avoid hard errors by some rudimentary checking\n",
    "\n",
    "# try:\n",
    "movement = sp500_goog.at['2010-01-01',]  # Example of a non-existent date\n",
    "#except KeyError:\n",
    "#    print(\"Index not found\")\n"
   ]
  },
  {
   "cell_type": "code",
   "execution_count": null,
   "id": "f70968ff-f629-40db-8110-cfd07f73e453",
   "metadata": {},
   "outputs": [],
   "source": [
    "# Movements from mid Jan to mid Feb.\n",
    "sp500_goog.loc['2010-01-15':'2010-02-15']\n"
   ]
  },
  {
   "cell_type": "code",
   "execution_count": null,
   "id": "d8818d40-f656-4cf8-86e3-9bf5e507f8ae",
   "metadata": {},
   "outputs": [],
   "source": [
    "sp500_goog.loc['2010-01':'2010-02']['Close'].mean()"
   ]
  },
  {
   "cell_type": "code",
   "execution_count": null,
   "id": "77de30fa-1c9e-47f6-a3d7-1186ec977251",
   "metadata": {},
   "outputs": [],
   "source": [
    "sp500_goog.loc['2010-02']['High'].max()"
   ]
  },
  {
   "cell_type": "markdown",
   "id": "29689098-d4c5-434b-a9ed-3f5fdeff4c34",
   "metadata": {},
   "source": [
    "## <span style=color:blue>2.3 Re-sampling"
   ]
  },
  {
   "cell_type": "code",
   "execution_count": null,
   "id": "d12d0868-c70e-4977-bf1b-8a013c0a5fec",
   "metadata": {},
   "outputs": [],
   "source": [
    "# Mean of the monthly 'Close'(ing) for each year\n",
    "\n",
    "monthly_mean_price = sp500_goog['Close'].resample('M').mean()\n",
    "print(monthly_mean_price)\n"
   ]
  },
  {
   "cell_type": "code",
   "execution_count": null,
   "id": "4ede0dc9-6c80-4141-85ef-61037d0169fa",
   "metadata": {},
   "outputs": [],
   "source": [
    "# Let's extract the Y, yearly mean 'Close' ...\n",
    "\n",
    "mean_annual_closing_price = sp500_goog['Close'].resample('Y').mean()\n",
    "print(mean_annual_closing_price)\n"
   ]
  },
  {
   "cell_type": "code",
   "execution_count": null,
   "id": "1815d567-e50b-46b9-9ea0-1834eb1ede4e",
   "metadata": {},
   "outputs": [],
   "source": [
    "# Resample to Q, quarterly frequency and get the first closing price of each quarter\n",
    "\n",
    "quarterly_first = sp500_goog['Close'].resample('Q').first()\n",
    "\n",
    "print(\"\\nQuarterly first closing price:\")\n",
    "print(quarterly_first)\n"
   ]
  },
  {
   "cell_type": "markdown",
   "id": "e9b69036-1ef9-473f-9a35-015e088145d1",
   "metadata": {},
   "source": [
    "### <span style=\"color:purple\">Again, you’re not going to remember every offset code so here's another link:\n",
    "- [Pandas Date Offset Codes](http://bit.ly/pandas-dt-fmt)</span>\n"
   ]
  },
  {
   "cell_type": "code",
   "execution_count": null,
   "id": "aa4953c5-d363-4362-bfe1-b9069fc1c4d4",
   "metadata": {},
   "outputs": [],
   "source": [
    "# Plot the yearly mean closing price\n",
    "import matplotlib.pyplot as plt\n",
    "\n",
    "plt.figure(figsize=(12, 6))\n",
    "plt.plot(mean_annual_closing_price, marker='o', linestyle='-', label='Yearly Mean')\n",
    "plt.title('Yearly Mean Closing Price')\n",
    "plt.xlabel('Year')\n",
    "plt.ylabel('Mean Closing Price')\n",
    "plt.legend()\n",
    "plt.grid(True)\n",
    "plt.show()\n"
   ]
  },
  {
   "cell_type": "code",
   "execution_count": null,
   "id": "021c9c9b-82ff-424a-803f-a38750412338",
   "metadata": {},
   "outputs": [],
   "source": []
  }
 ],
 "metadata": {
  "kernelspec": {
   "display_name": "Python 3 (ipykernel)",
   "language": "python",
   "name": "python3"
  },
  "language_info": {
   "codemirror_mode": {
    "name": "ipython",
    "version": 3
   },
   "file_extension": ".py",
   "mimetype": "text/x-python",
   "name": "python",
   "nbconvert_exporter": "python",
   "pygments_lexer": "ipython3",
   "version": "3.8.6"
  }
 },
 "nbformat": 4,
 "nbformat_minor": 5
}
