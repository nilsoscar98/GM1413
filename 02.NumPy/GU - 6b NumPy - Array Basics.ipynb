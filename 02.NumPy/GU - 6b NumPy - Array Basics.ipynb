{
 "cells": [
  {
   "cell_type": "markdown",
   "id": "d053f779-105b-40c8-b721-2695a7b703b8",
   "metadata": {
    "tags": []
   },
   "source": [
    "<center><img src=\"./Data/GU-HHS-logo.jpg\"></center>\n",
    "\n",
    "<h1><center><b><font size=\"6em\">Introduction to Python</font size></b></center></h1>\n",
    "<h1><center><b><font size=\"7\">Numerical Computing</font size></b></center></h1>\n",
    "\n",
    "<h1 style=\"font-family: Comic Sans MS; font-size: 3em; text-align: center; color: blue; font-style: italic;\">NumPy - Array Basics<br<><br><br<><br></h1>\n",
    "<div style=\"width: 100%; height: 20px; background: linear-gradient(to right, red, orange, yellow, green, blue, indigo, violet);\"></div>\n",
    "<div style=\"width: 100%; height: 20px; background: linear-gradient(to right, white, blue);\"></div>\n",
    "<hr style=\"border: 8px linear-gradient(to right, pink, yellow, cyan, lime) 1\">"
   ]
  },
  {
   "cell_type": "markdown",
   "id": "df6af5ce-73e7-4228-927b-72e08b8e239d",
   "metadata": {},
   "source": [
    "<h1 style=\"font-size: 3em;\"><strong>1. The VECTOR - the basic 1-d NumPy array.</h1>"
   ]
  },
  {
   "cell_type": "markdown",
   "id": "842be615-948b-4c23-a339-cd24e35582c1",
   "metadata": {},
   "source": [
    "<h2 style=\"font-family: Comic Sans MS; font-size: 4; color: blue; font-style: italic;\">... let's create an array and see how it looks...</h2>"
   ]
  },
  {
   "cell_type": "code",
   "execution_count": 149,
   "id": "46c7bfe8-063e-4e58-bf70-d9898b31c28c",
   "metadata": {},
   "outputs": [],
   "source": [
    "import numpy as np\n",
    "\n",
    "# Create a 1-d array, called a VECTOR\n",
    "a = np.array([1,2,3])"
   ]
  },
  {
   "cell_type": "code",
   "execution_count": 151,
   "id": "18a9ccf6-c607-40db-9aae-0c7d5a035f19",
   "metadata": {},
   "outputs": [
    {
     "data": {
      "text/plain": [
       "numpy.ndarray"
      ]
     },
     "execution_count": 151,
     "metadata": {},
     "output_type": "execute_result"
    }
   ],
   "source": [
    "type(a)"
   ]
  },
  {
   "cell_type": "code",
   "execution_count": 153,
   "id": "bbe0b890-0d34-49ef-8f62-b4ce68db2a48",
   "metadata": {},
   "outputs": [
    {
     "data": {
      "text/plain": [
       "dtype('int32')"
      ]
     },
     "execution_count": 153,
     "metadata": {},
     "output_type": "execute_result"
    }
   ],
   "source": [
    "a.dtype"
   ]
  },
  {
   "cell_type": "code",
   "execution_count": 155,
   "id": "52f64f0c-dcd6-4729-9dc6-b8364a3000c2",
   "metadata": {},
   "outputs": [
    {
     "data": {
      "text/plain": [
       "1"
      ]
     },
     "execution_count": 155,
     "metadata": {},
     "output_type": "execute_result"
    }
   ],
   "source": [
    "a.ndim\n"
   ]
  },
  {
   "cell_type": "code",
   "execution_count": 157,
   "id": "e69b70b4-fbcb-45ac-a69f-6da906ab6ed3",
   "metadata": {},
   "outputs": [
    {
     "data": {
      "text/plain": [
       "(3,)"
      ]
     },
     "execution_count": 157,
     "metadata": {},
     "output_type": "execute_result"
    }
   ],
   "source": [
    "a.shape"
   ]
  },
  {
   "cell_type": "markdown",
   "id": "058d2005-6cd1-4c5b-a091-e72bc54f1c2d",
   "metadata": {},
   "source": [
    "<h2 style=\"font-family: Comic Sans MS; font-size: 4; color: blue; font-style: italic;\">So, what do we do with these \"arrays\"?</h2>"
   ]
  },
  {
   "cell_type": "markdown",
   "id": "4fca336e-22aa-48e2-9a09-b84a0327986e",
   "metadata": {},
   "source": [
    "<h2 style=\"font-family: Comic Sans MS; font-size: 4; color: blue; font-style: italic;\">... we can do some basic array arithmetic...</h2>"
   ]
  },
  {
   "cell_type": "code",
   "execution_count": 159,
   "id": "d5e883ec-a66e-4c43-9f7f-fac244dbe59b",
   "metadata": {},
   "outputs": [
    {
     "name": "stdout",
     "output_type": "stream",
     "text": [
      "[3 5 7 9]\n",
      "[-1 -1 -1 -1]\n"
     ]
    }
   ],
   "source": [
    "# Basic arrays arithmetic\n",
    "a = np.array([1, 2, 3, 4])\n",
    "b = np.array([2, 3, 4, 5])\n",
    "\n",
    "print(a + b)\n",
    "print(a - b)"
   ]
  },
  {
   "cell_type": "markdown",
   "id": "5b6bd322-4727-4f9e-88e1-5546af9abf5d",
   "metadata": {},
   "source": [
    "<h2 style=\"font-family: Comic Sans MS; font-size: 4; color: blue; font-style: italic;\">... we can do some more useful arithmetic...</h2>"
   ]
  },
  {
   "cell_type": "code",
   "execution_count": 161,
   "id": "05597cf5-53eb-421f-a2ea-1b8460598244",
   "metadata": {},
   "outputs": [
    {
     "name": "stdout",
     "output_type": "stream",
     "text": [
      "[ 0.  1.  2.  3.  4.  5.  6.  7.  8.  9. 10.]\n"
     ]
    }
   ],
   "source": [
    "# Math functions\n",
    "\n",
    "# multiply entire array by scalar value\n",
    "\n",
    "# Create the array\n",
    "x = np.arange(11.)\n",
    "print(x)"
   ]
  },
  {
   "cell_type": "code",
   "execution_count": 163,
   "id": "3f68b885-9eb6-42a6-8692-5abb3640cb4e",
   "metadata": {},
   "outputs": [
    {
     "name": "stdout",
     "output_type": "stream",
     "text": [
      "0.63\n"
     ]
    }
   ],
   "source": [
    "# Create our required scalar variable\n",
    "c = (2 * np.pi) / 10.\n",
    "\n",
    "print(round(c, 2))"
   ]
  },
  {
   "cell_type": "code",
   "execution_count": 165,
   "id": "04468944-0dfe-45b6-9e46-5f064b07ff7c",
   "metadata": {},
   "outputs": [
    {
     "name": "stdout",
     "output_type": "stream",
     "text": [
      "[0.   0.63 1.26 1.89 2.52 3.15 3.78 4.41 5.04 5.67 6.3 ]\n"
     ]
    }
   ],
   "source": [
    "# Apply c to the entire array\n",
    "y = round(c,2) * x\n",
    "\n",
    "print((y))"
   ]
  },
  {
   "cell_type": "code",
   "execution_count": 167,
   "id": "86e3c659-fe16-4f5e-9898-dc922e8f8137",
   "metadata": {},
   "outputs": [
    {
     "name": "stdout",
     "output_type": "stream",
     "text": [
      "[0.   0.4  0.79 1.19 1.58 1.98 2.38 2.77 3.17 3.56 3.96]\n"
     ]
    }
   ],
   "source": [
    "# in-place operations\n",
    "y *= c\n",
    "\n",
    "# This modifies the original array y directly by multiplying each element of y by c. \n",
    "# The result is stored back in y, rather than creating a new array.\n",
    "print(np.round(y, 2))"
   ]
  },
  {
   "cell_type": "code",
   "execution_count": 169,
   "id": "2b906d87-d75b-4c95-a640-182742261c42",
   "metadata": {},
   "outputs": [
    {
     "data": {
      "image/png": "[encoded data removed]",
      "text/plain": [
       "<Figure size 640x480 with 1 Axes>"
      ]
     },
     "metadata": {},
     "output_type": "display_data"
    }
   ],
   "source": [
    "import matplotlib.pyplot as plt\n",
    "\n",
    "# Create an array x. \n",
    "# Generate an array x of 100 evenly spaced values between 0 and 2𝜋\n",
    "x = np.linspace(0, 2 * np.pi, 100)\n",
    "\n",
    "# Apply the sine function to each element of the array x, producing the corresponding\n",
    "# sine values stored in y\n",
    "sin_x = np.sin(x)\n",
    "\n",
    "# Plot the resulting y values\n",
    "plt.plot(x, sin_x )\n",
    "plt.title('Sine Wave')\n",
    "plt.xlabel('x')\n",
    "plt.ylabel('sin(x)')\n",
    "plt.show()"
   ]
  },
  {
   "cell_type": "markdown",
   "id": "5d7debd8-ef91-476d-a5be-49da24af5b28",
   "metadata": {},
   "source": [
    "<h2 style=\"font-family: Comic Sans MS; font-size: 4; color: blue; font-style: italic;\">How do I access the things inside this array?</h2>"
   ]
  },
  {
   "cell_type": "markdown",
   "id": "6327837b-fb00-4d83-8f60-3dba8fd65759",
   "metadata": {},
   "source": [
    "<h2 style=\"color: blue;\">We use Array INDEXING, let's take a look...</h2>"
   ]
  },
  {
   "cell_type": "code",
   "execution_count": 171,
   "id": "fb5c512c-5086-4265-83c3-4b940fd2eb2c",
   "metadata": {},
   "outputs": [
    {
     "name": "stdout",
     "output_type": "stream",
     "text": [
      "[ 2  4  6  8 10]\n"
     ]
    }
   ],
   "source": [
    "x = np.array([2,4,6,8,10])\n",
    "print(x)"
   ]
  },
  {
   "cell_type": "code",
   "execution_count": 173,
   "id": "6b3ea957-1555-4eff-b878-971f55357e94",
   "metadata": {},
   "outputs": [
    {
     "data": {
      "text/plain": [
       "2"
      ]
     },
     "execution_count": 173,
     "metadata": {},
     "output_type": "execute_result"
    }
   ],
   "source": [
    "# Remember list indexing? Just use an index number starting from ZERO...\n",
    "x[0]"
   ]
  },
  {
   "cell_type": "code",
   "execution_count": 175,
   "id": "62061ecb-391d-4981-a04a-9b440aaa66df",
   "metadata": {},
   "outputs": [
    {
     "data": {
      "text/plain": [
       "10"
      ]
     },
     "execution_count": 175,
     "metadata": {},
     "output_type": "execute_result"
    }
   ],
   "source": [
    "x[-1]"
   ]
  },
  {
   "cell_type": "markdown",
   "id": "6b4a6839-701e-456a-9480-535a8c5b5537",
   "metadata": {},
   "source": [
    "<h2 style=\"color: red;\">CARE: Type coercion ... assigning a float into an int32 array will truncate the decimal part</h2>"
   ]
  },
  {
   "cell_type": "code",
   "execution_count": null,
   "id": "6dfa52cb-1489-4c22-8d7a-9e299f544a10",
   "metadata": {},
   "outputs": [],
   "source": [
    "x.dtype"
   ]
  },
  {
   "cell_type": "code",
   "execution_count": 177,
   "id": "131ff98b-57c7-4c6a-bbd0-ddbe76666e15",
   "metadata": {},
   "outputs": [
    {
     "name": "stdout",
     "output_type": "stream",
     "text": [
      "[10  4  6  8 10]\n"
     ]
    }
   ],
   "source": [
    "x[0] = 10.6\n",
    "print(x)"
   ]
  },
  {
   "cell_type": "code",
   "execution_count": 179,
   "id": "db242ba8-9c51-4d37-a806-b500a414fb13",
   "metadata": {},
   "outputs": [
    {
     "name": "stdout",
     "output_type": "stream",
     "text": [
      "[-4 -4 -4 -4 -4]\n"
     ]
    }
   ],
   "source": [
    "# The fill function has the same behavior\n",
    "x.fill(-4.8)\n",
    "print(x)"
   ]
  },
  {
   "cell_type": "markdown",
   "id": "53b97fc9-dcc4-41f7-8e0b-cf1e5b0ceab7",
   "metadata": {},
   "source": [
    "<h2 style=\"font-family: Comic Sans MS; color: blue; font-style: italic;\">So SLICING these arrays is the same as with lists?</h2>"
   ]
  },
  {
   "cell_type": "markdown",
   "id": "888abc5e-ed51-46d9-93eb-f7d0ce816d09",
   "metadata": {},
   "source": [
    "<h2 style=\"color: blue;\">Yes, but only for 1 dimentional arrays, or VECTORS...</h2>"
   ]
  },
  {
   "cell_type": "code",
   "execution_count": 187,
   "id": "5a987b33-7c70-456d-a840-932841c50569",
   "metadata": {},
   "outputs": [
    {
     "name": "stdout",
     "output_type": "stream",
     "text": [
      "[3 4]\n"
     ]
    }
   ],
   "source": [
    "x = np.array([0, 1, 2, 3, 4])\n",
    "# slicing the last two elements returns the data there\n",
    "print(x[-2:])"
   ]
  },
  {
   "cell_type": "code",
   "execution_count": 183,
   "id": "9294d28c-b104-4dec-99ca-7447a69c1ff3",
   "metadata": {},
   "outputs": [
    {
     "name": "stdout",
     "output_type": "stream",
     "text": [
      "[ 0  1  2 -1 -2]\n"
     ]
    }
   ],
   "source": [
    "# we can insert an iterable of length two\n",
    "x[-2:] = [-1, -2]\n",
    "print(x)"
   ]
  },
  {
   "cell_type": "code",
   "execution_count": 189,
   "id": "ab0b15de-ad45-4428-902b-4efdf519fe50",
   "metadata": {},
   "outputs": [
    {
     "name": "stdout",
     "output_type": "stream",
     "text": [
      "[ 0  1  2 99 99]\n"
     ]
    }
   ],
   "source": [
    "# or a scalar value\n",
    "x[-2:] = 99\n",
    "print(x)"
   ]
  },
  {
   "cell_type": "markdown",
   "id": "aff92828-58aa-40c8-bb5d-47679864b5a9",
   "metadata": {},
   "source": [
    "<h1 style=\"font-size: 3em;\"><strong>2. Multi-Dimentional Arrays - The MATRIX</h1>"
   ]
  },
  {
   "cell_type": "markdown",
   "id": "094e2f93-fe02-47d4-87c5-76e91a554f89",
   "metadata": {},
   "source": [
    "<h2 style=\"font-size: 2em;\"><strong>2.1 Create and access the MATRIX</h2>"
   ]
  },
  {
   "cell_type": "markdown",
   "id": "0baf8a1a-4786-4e9a-b52e-d52ab8ba1bf1",
   "metadata": {},
   "source": [
    "<h2 style=\"font-family: Comic Sans MS; color: blue; font-style: italic;\">What does this mean!?!</h2>"
   ]
  },
  {
   "cell_type": "markdown",
   "id": "0225da11-588a-491e-b5fa-fcf071c10d02",
   "metadata": {},
   "source": [
    "<h2 style=\"font-family: Comic Sans MS; color: blue; font-style: italic;\">... and how do we access the elements of this matrix?</h2>"
   ]
  },
  {
   "cell_type": "code",
   "execution_count": 197,
   "id": "dc8fb136-d53b-4a97-92e4-654dd2d4f684",
   "metadata": {},
   "outputs": [
    {
     "name": "stdout",
     "output_type": "stream",
     "text": [
      "Stock prices: [100 101 102 105 107]\n"
     ]
    },
    {
     "data": {
      "text/plain": [
       "(5,)"
      ]
     },
     "execution_count": 197,
     "metadata": {},
     "output_type": "execute_result"
    }
   ],
   "source": [
    "# Creating 1D VECTOR of stock prices\n",
    "stock_prices = np.array([100, 101, 102, 105, 107])\n",
    "print(\"Stock prices:\", stock_prices)\n",
    "stock_prices.shape"
   ]
  },
  {
   "cell_type": "code",
   "execution_count": 199,
   "id": "f6d9ce51-3a22-49af-acdc-af67253744d3",
   "metadata": {},
   "outputs": [
    {
     "name": "stdout",
     "output_type": "stream",
     "text": [
      "Stock price matrix:\n",
      "(4, 3)\n",
      "This means that the shape of this matrix is 4 rows and 3 columns.\n"
     ]
    }
   ],
   "source": [
    "# Create a 2D array of stock prices over multiple days (rows are days, columns are stocks)\n",
    "stock_price_matrix = np.array([[100, 101, 102], \n",
    "                                [103, 104, 105], \n",
    "                                [106, 107, 108], \n",
    "                                [109, 110, 111]])\n",
    "print(\"Stock price matrix:\")\n",
    "\n",
    "print(stock_price_matrix.shape)\n",
    "\n",
    "print(f\"This means that the shape of this matrix is {stock_price_matrix.shape[0]} rows and {stock_price_matrix.shape[1]} columns.\")\n"
   ]
  },
  {
   "cell_type": "markdown",
   "id": "cb605e4f-647b-4d9e-a006-e0193e33daf2",
   "metadata": {},
   "source": [
    "<h2 style=\"font-family: Comic Sans MS; color: blue; font-style: italic;\">... and how do we access the elements of this matrix?</h2>"
   ]
  },
  {
   "cell_type": "code",
   "execution_count": 195,
   "id": "d9bc6c1f-fcb0-420d-afe8-720b756b4573",
   "metadata": {},
   "outputs": [
    {
     "name": "stdout",
     "output_type": "stream",
     "text": [
      "Price of Stock 1 on Day 2: 103\n"
     ]
    }
   ],
   "source": [
    "# Indexing a specific element: Day 2, Stock 1\n",
    "print(\"Price of Stock 1 on Day 2:\", stock_price_matrix[1, 0])"
   ]
  },
  {
   "cell_type": "code",
   "execution_count": 201,
   "id": "a189f2bc-12ff-48f1-9bb6-8a6a04fd8157",
   "metadata": {},
   "outputs": [
    {
     "name": "stdout",
     "output_type": "stream",
     "text": [
      "Prices of Stock 2: [101 104 107 110]\n"
     ]
    }
   ],
   "source": [
    "# Indexing all prices for Stock 2\n",
    "print(\"Prices of Stock 2:\", stock_price_matrix[:, 1])"
   ]
  },
  {
   "cell_type": "code",
   "execution_count": 203,
   "id": "3d184ed8-2a4b-4d4b-85b1-e1c4c19b499d",
   "metadata": {},
   "outputs": [
    {
     "name": "stdout",
     "output_type": "stream",
     "text": [
      "Prices for first two days and two stocks:\n",
      " [[100 101]\n",
      " [103 104]]\n"
     ]
    }
   ],
   "source": [
    "# Slicing: Prices of the first two days for the first two stocks\n",
    "print(\"Prices for first two days and two stocks:\\n\", stock_price_matrix[:2, :2])"
   ]
  },
  {
   "cell_type": "code",
   "execution_count": 205,
   "id": "52ec4fd2-43de-4643-8b62-3eb89694a252",
   "metadata": {},
   "outputs": [
    {
     "data": {
      "text/plain": [
       "array([106, 107, 108])"
      ]
     },
     "execution_count": 205,
     "metadata": {},
     "output_type": "execute_result"
    }
   ],
   "source": [
    "# Give me the prices of the stock in the 3rd row ...\n",
    "stock_price_matrix[2]"
   ]
  },
  {
   "cell_type": "markdown",
   "id": "b1abc8f2-b869-4fae-ab24-a244c7261a8d",
   "metadata": {},
   "source": [
    "<h1 style=\"font-family: Comic Sans MS; color: red; font-style: italic;\">Copying Arrays, a quick WARNING....</h1>"
   ]
  },
  {
   "cell_type": "markdown",
   "id": "0e66a373-4d80-4e17-b26c-43b980126a51",
   "metadata": {},
   "source": [
    "<strong> ......do not copy an array in this fashion..."
   ]
  },
  {
   "cell_type": "code",
   "execution_count": 207,
   "id": "af430e0c-121a-4cec-b56c-5993ca37e038",
   "metadata": {},
   "outputs": [
    {
     "name": "stdout",
     "output_type": "stream",
     "text": [
      "[ 1 23  3  4  5]\n"
     ]
    }
   ],
   "source": [
    "x = np.array ([1,2,3,4,5])\n",
    "\n",
    "x1 = x\n",
    "\n",
    "x1[1] = 23\n",
    "\n",
    "print(x1)"
   ]
  },
  {
   "cell_type": "code",
   "execution_count": 209,
   "id": "5e928541-6a2a-4b31-9b26-0f286e162f10",
   "metadata": {},
   "outputs": [
    {
     "name": "stdout",
     "output_type": "stream",
     "text": [
      "[ 1 23  3  4  5]\n"
     ]
    }
   ],
   "source": [
    "print(x)"
   ]
  },
  {
   "cell_type": "markdown",
   "id": "0ff5bcc2-90b3-4be9-8d1c-28e4e2d2c984",
   "metadata": {},
   "source": [
    "<strong> ... but copy an array in this safe way ..."
   ]
  },
  {
   "cell_type": "code",
   "execution_count": 212,
   "id": "41b9d7ec-7be0-46f0-9dd3-3d0605aefade",
   "metadata": {},
   "outputs": [
    {
     "name": "stdout",
     "output_type": "stream",
     "text": [
      "[ 1 23  3  4  5]\n",
      "[1 2 3 4 5]\n"
     ]
    }
   ],
   "source": [
    "x = np.array ([1,2,3,4,5])\n",
    "\n",
    "x1 = x.copy()\n",
    "\n",
    "x1[1] = 23\n",
    "\n",
    "print(x1)\n",
    "print(x)"
   ]
  },
  {
   "cell_type": "markdown",
   "id": "98b32ecf-254e-4e31-80cd-51296c406817",
   "metadata": {},
   "source": [
    "<h2 style=\"font-size: 2em;\"><strong>2.2 Transpose, dot-product, reshape and broadcast</h2>\n",
    "<h2 style=\"font-family: Comic Sans MS; color: blue;font-style: italic;\"> Speak english please! What do you mean?</style>\n"
   ]
  },
  {
   "cell_type": "markdown",
   "id": "87167aaf-9298-4079-b8e0-429d2e49b930",
   "metadata": {},
   "source": [
    "<h2 style=\"font-family: Comic Sans MS; color: blue; font-style: italic;\"><strong>Transposing (.T)</strong> switches the rows and columns of a matrix. It is commonly used in finance when you need to align data for operations like matrix multiplication (dot product) ...</h2>"
   ]
  },
  {
   "cell_type": "code",
   "execution_count": 228,
   "id": "213ddb8f-6f75-467e-86cc-cb09b69f20f2",
   "metadata": {},
   "outputs": [
    {
     "name": "stdout",
     "output_type": "stream",
     "text": [
      "Original stock prices matrix:\n",
      "\n",
      " [[100 101 102]\n",
      " [103 104 105]\n",
      " [106 107 108]\n",
      " [109 110 111]]\n",
      "\n",
      "Transposed stock prices matrix:\n",
      "\n",
      " [[100 103 106 109]\n",
      " [101 104 107 110]\n",
      " [102 105 108 111]]\n"
     ]
    }
   ],
   "source": [
    "# Transposing is about switching the rows and columns in an array or matrix. \n",
    "\n",
    "print(\"Original stock prices matrix:\\n\\n\", stock_price_matrix)\n",
    "\n",
    "# Transpose the stock prices matrix\n",
    "stock_price_transposed = stock_price_matrix.T\n",
    "\n",
    "# After transposing, the stocks become rows, and the days become columns.\n",
    "print(\"\\nTransposed stock prices matrix:\\n\\n\", stock_price_transposed)\n",
    "\n",
    "# Now the rows representing the days (4 days) are swapped with columns representing the stocks (3 stocks).\n"
   ]
  },
  {
   "cell_type": "markdown",
   "id": "76e1652b-a9e0-4a40-ae72-8fec96ce3168",
   "metadata": {},
   "source": [
    "<h2 style=\"font-family: Comic Sans MS; color: blue; font-style: italic;\">... the <strong>dot product</strong> multiplies each asset’s return by its corresponding weight and sums the results to get the portfolio return for each period. <strong><br><br>NOTE:</strong> If your weights were in a row vector, you’d need to transpose it to a column vector for matrix multiplication to work.<br><br>Let's take a look ...</h2>"
   ]
  },
  {
   "cell_type": "code",
   "execution_count": 218,
   "id": "a2f55133-4fd3-4130-891d-ee8df42382f6",
   "metadata": {},
   "outputs": [
    {
     "name": "stdout",
     "output_type": "stream",
     "text": [
      "Portfolio returns for each period:\n",
      " [[0.035]\n",
      " [0.039]\n",
      " [0.043]]\n"
     ]
    }
   ],
   "source": [
    "# Example: Asset returns (each row represents a period, each column represents an asset)\n",
    "asset_returns_matrix = np.array([[0.05, 0.02, 0.03], \n",
    "                                 [0.06, 0.01, 0.04], \n",
    "                                 [0.07, 0.03, 0.02]])\n",
    "\n",
    "# Portfolio weights (must be a column vector for matrix multiplication)\n",
    "weights_vector = np.array([[0.4], [0.3], [0.3]])\n",
    "\n",
    "# Calculate portfolio returns using the dot product\n",
    "portfolio_returns = np.dot(asset_returns_matrix, weights_vector)\n",
    "print(\"Portfolio returns for each period:\\n\", portfolio_returns)"
   ]
  },
  {
   "cell_type": "markdown",
   "id": "3f163bda-0fad-43ab-9983-06d2f38d0b8b",
   "metadata": {},
   "source": [
    "<h2 style=\"font-family: Comic Sans MS; color: blue; font-style: italic;\"><strong>reshape()</strong>: Sometimes we need to reorganize the shape of our data to fit a specific structure e.g., transforming a 1D array into a 2D matrix, or vice versa.<br><br>The total number of elements must remain the same after reshaping.</h2>"
   ]
  },
  {
   "cell_type": "code",
   "execution_count": 230,
   "id": "527de969-42f2-42cf-8f34-b5326ec7357e",
   "metadata": {},
   "outputs": [
    {
     "name": "stdout",
     "output_type": "stream",
     "text": [
      "Reshaped stock prices into a column vector:\n",
      " [[100]\n",
      " [101]\n",
      " [102]\n",
      " [103]\n",
      " [104]\n",
      " [105]\n",
      " [106]\n",
      " [107]\n",
      " [108]\n",
      " [109]\n",
      " [110]\n",
      " [111]]\n",
      "Reshaped back into the original matrix:\n",
      " [[100 101 102]\n",
      " [103 104 105]\n",
      " [106 107 108]\n",
      " [109 110 111]]\n"
     ]
    }
   ],
   "source": [
    "# Reshape the stock prices matrix into a 12x1 vector (1 column with 12 elements)\n",
    "stock_price_vector = stock_price_matrix.reshape(-1, 1)\n",
    "print(\"Reshaped stock prices into a column vector:\\n\", stock_price_vector)\n",
    "\n",
    "# You can reshape it back to the original form (4 days x 3 stocks)\n",
    "stock_price_matrix_again = stock_price_vector.reshape(4, 3)\n",
    "print(\"Reshaped back into the original matrix:\\n\", stock_price_matrix_again)"
   ]
  },
  {
   "cell_type": "markdown",
   "id": "8862d861-e0ea-47ee-98d7-5a40f7c5f19a",
   "metadata": {},
   "source": [
    "<h2 style=\"font-family: Comic Sans MS; color: blue; font-style: italic;\">Why on earth would I want to do this?<br><br>...the above example was just to demontrate the physical effect of reshape()    ...here's a more practical example</h2>"
   ]
  },
  {
   "cell_type": "code",
   "execution_count": 224,
   "id": "3cec3aaa-74e9-423b-a9a2-0804dca5bb26",
   "metadata": {},
   "outputs": [
    {
     "name": "stdout",
     "output_type": "stream",
     "text": [
      "Portfolio returns over periods:\n",
      " [[0.037]\n",
      " [0.041]]\n"
     ]
    }
   ],
   "source": [
    "# 2x3 matrix: Asset returns for 2 periods and 3 assets\n",
    "asset_returns = np.array([[0.05, 0.02, 0.03], \n",
    "                          [0.06, 0.01, 0.04]])\n",
    "\n",
    "# 1D array of weights (a flat list, as it might be provided)\n",
    "weights = np.array([0.5, 0.3, 0.2])\n",
    "\n",
    "# Reshape weights into a 2D column vector (required for matrix multiplication)\n",
    "weights_reshaped = weights.reshape(3, 1)\n",
    "\n",
    "# Perform matrix multiplication\n",
    "portfolio_returns = np.dot(asset_returns, weights_reshaped)\n",
    "print(\"Portfolio returns over periods:\\n\", portfolio_returns)"
   ]
  },
  {
   "cell_type": "markdown",
   "id": "b3a6b177-15e5-40a5-92d8-6ea013458113",
   "metadata": {},
   "source": [
    "<h2 style=\"font-family: Comic Sans MS; color: blue; font-style: italic;\"><strong>Why reshape() here?<br></strong></h2>\n",
    "\n",
    "<strong>If you try to multiply a 2D array (asset_returns, shape 2x3) with a 1D array (weights, shape 3, which is really just a row), NumPy will throw an error because the dimensions don’t align.<br><br>\n",
    "Reshaping the weights ensures it has the right structure (a column vector) to match the rows in the returns matrix for matrix multiplication.<strong>"
   ]
  },
  {
   "cell_type": "markdown",
   "id": "487a7ebe-6f70-4138-b3f8-eda2117d8e8f",
   "metadata": {},
   "source": [
    "<h2 style=\"font-family: Comic Sans MS; color: blue; font-style: italic;\">Finally, for this section, <strong>Broadcasting</strong> allows NumPy to perform element-wise operations across arrays of different shapes without explicit loops...<br><br>It is efficient for performing operations on large datasets and matrices in finance (like adjusting prices, scaling returns, or applying weights).<br><br>In this example, we want to model the impact of a new policy, an earnings announcement, or a global event (e.g., an economic shock) on stock prices.</h2>"
   ]
  },
  {
   "cell_type": "code",
   "execution_count": 226,
   "id": "9d25f8fc-73e7-4198-bf21-4c272572778f",
   "metadata": {},
   "outputs": [
    {
     "name": "stdout",
     "output_type": "stream",
     "text": [
      "Stock prices after hypothetical market shock:\n",
      " [[ 90.   114.   119.6 ]\n",
      " [ 99.   118.75 128.8 ]\n",
      " [103.5  123.5  138.  ]\n",
      " [108.   128.25 142.6 ]]\n"
     ]
    }
   ],
   "source": [
    "# Stock prices over 4 days for 3 stocks\n",
    "stock_prices = np.array([[100, 120, 130],\n",
    "                         [110, 125, 140],\n",
    "                         [115, 130, 150],\n",
    "                         [120, 135, 155]])\n",
    "\n",
    "# Hypothetical market shock: Assume a 10% drop for stock 1, 5% for stock 2, and 8% for stock 3\n",
    "shock_adjustment = np.array([0.90, 0.95, 0.92])  # 10%, 5%, 8% drop\n",
    "\n",
    "# Apply the hypothetical market shock\n",
    "post_shock_prices = stock_prices * shock_adjustment\n",
    "\n",
    "print(\"Stock prices after hypothetical market shock:\\n\", post_shock_prices)"
   ]
  },
  {
   "cell_type": "markdown",
   "id": "869f6265-d18e-4d81-8e62-098f6fb8b2ff",
   "metadata": {},
   "source": [
    "<h2 style=\"font-family: Comic Sans MS; color: blue; font-style: italic;\">The adjustment made above simulates what the stock prices might look like after a market shock, not what has actually happened. It’s useful for risk management and stress testing in finance.</h2>"
   ]
  },
  {
   "cell_type": "markdown",
   "id": "74d2388a-a20b-4a77-8133-0723b84f1f4b",
   "metadata": {},
   "source": [
    "<h1 style=\"font-size: 3em;\"><strong>3. Array Functions</h1>\n",
    "<h2 style =\"font-family: Comic Sans MS; color: blue; text-align: right;\"> Why? you ask...........because they're quick and we don't need to write loops!</h2>\n",
    "\n"
   ]
  },
  {
   "cell_type": "code",
   "execution_count": 241,
   "id": "8040b802-5e83-483d-952f-26c0c627fbfa",
   "metadata": {},
   "outputs": [],
   "source": [
    "prices = np.array([\n",
    "    [102.00674201, 151.19870789, 197.96164877],  # Prices for Day 1 (stocks 1, 2, 3)\n",
    "    [100.58478068, 149.79456982, 204.93483615],  # Prices for Day 2\n",
    "    [102.30162642, 152.01404947, 202.05166430],  # Prices for Day 3\n",
    "    [105.51391251, 151.70897249, 197.66554282],  # Prices for Day 4\n",
    "    [105.34200451, 147.19112438, 199.08117903]   # Prices for Day 5\n",
    "])\n"
   ]
  },
  {
   "cell_type": "code",
   "execution_count": 282,
   "id": "b2bde425-74ba-4765-9e5c-8870e125318c",
   "metadata": {},
   "outputs": [
    {
     "name": "stdout",
     "output_type": "stream",
     "text": [
      "Mean Prices for each day:\n",
      "\n",
      "[150.39 151.77 152.12 151.63 150.54]\n"
     ]
    }
   ],
   "source": [
    "mean_prices = np.mean(prices, axis=1)  # mean for each ROW\n",
    "print(\"Mean Prices for each day:\\n\")\n",
    "print(np.round(mean_prices, 2))\n"
   ]
  },
  {
   "cell_type": "code",
   "execution_count": 284,
   "id": "f4c8f099-b56b-47b8-b59c-1360497fb95e",
   "metadata": {},
   "outputs": [
    {
     "name": "stdout",
     "output_type": "stream",
     "text": [
      "Standard Deviation of Prices for Each Day (Volatility across stocks):\n",
      "\n",
      "[39.18 42.62 40.72 37.62 38.34]\n"
     ]
    }
   ],
   "source": [
    "# Calculate the standard deviation of stock prices for each day across all stocks\n",
    "std_prices = np.std(prices, axis=1)\n",
    "\n",
    "# Print the daily standard deviation (volatility across stocks)\n",
    "print(\"Standard Deviation of Prices for Each Day (Volatility across stocks):\\n\")\n",
    "print(np.round(std_prices,2))\n"
   ]
  },
  {
   "cell_type": "markdown",
   "id": "ac81644a-c3fe-4f19-bcde-372e6ee24aab",
   "metadata": {},
   "source": [
    "<h2 style=\"font-family: Comic Sans MS; color: blue; font-style: italic;\">To calculate the <strong>correlation matrix</strong> between stocks, you can use <strong>np.corrcoef()</strong>, which computes the Pearson correlation coefficient matrix.<br><br>This measures the linear relationship between different stocks' price movements over time.</h2>"
   ]
  },
  {
   "cell_type": "code",
   "execution_count": 286,
   "id": "b12f2c2e-3473-452c-93c8-9b8cb2230286",
   "metadata": {},
   "outputs": [
    {
     "name": "stdout",
     "output_type": "stream",
     "text": [
      "Correlation Matrix Between Stocks:\n",
      "\n",
      "[[ 1.         -0.27103668 -0.72533361]\n",
      " [-0.27103668  1.         -0.05633356]\n",
      " [-0.72533361 -0.05633356  1.        ]]\n"
     ]
    }
   ],
   "source": [
    "# Calculate the correlation matrix between stocks\n",
    "correlation_matrix = np.corrcoef(prices.T)  \n",
    "\n",
    "# Transposes the matrix so that each row represents a stock, and each column represents \n",
    "# the prices of that stock over time (days).\n",
    "\n",
    "# Print the correlation matrix\n",
    "print(\"Correlation Matrix Between Stocks:\\n\")\n",
    "print(correlation_matrix)"
   ]
  },
  {
   "cell_type": "markdown",
   "id": "40c0ce6d-1362-4cae-a2fb-858d737c7cfc",
   "metadata": {},
   "source": [
    "<h2 style=\"font-family: Comic Sans MS; color: blue; font-style: italic;\">When we compute the correlation between stocks, we want to compare their price movements over time. To do that, we need the data organized such that each row represents a stock and each column represents time (days).<br><br>\n",
    "\n",
    "<strong>because the rows represent days, so to compute the correlation between stocks, we TRANSPOSE the matrix.</h2>"
   ]
  },
  {
   "cell_type": "markdown",
   "id": "7926454d-ae8a-4586-aa58-13edbfe7a535",
   "metadata": {},
   "source": [
    "<h2 style=\"font-family: Comic Sans MS; font-size: 4; color: blue; font-style: italic;\">... psssst ... you forgot to add ...  there are many of 'em and that they're really useful...</h2>"
   ]
  },
  {
   "cell_type": "code",
   "execution_count": 274,
   "id": "bcdb6829-bf77-45d1-a914-65f7d56a404b",
   "metadata": {},
   "outputs": [
    {
     "name": "stdout",
     "output_type": "stream",
     "text": [
      "Days with the lowest prices for each stock: [1 4 3]\n",
      "Days with the highest prices for each stock: [3 2 1]\n"
     ]
    }
   ],
   "source": [
    "# Find the day with the lowest price for each stock\n",
    "min_price_days = np.argmin(prices, axis=0)   \n",
    "\n",
    "# Find the day with the highest price for each stock\n",
    "max_price_days = np.argmax(prices, axis=0)\n",
    "print(\"Days with the lowest prices for each stock:\", min_price_days)\n",
    "print(\"Days with the highest prices for each stock:\", max_price_days)\n"
   ]
  },
  {
   "cell_type": "code",
   "execution_count": 276,
   "id": "bf442ac4-36bf-412e-9ca2-b25dc1820066",
   "metadata": {},
   "outputs": [
    {
     "name": "stdout",
     "output_type": "stream",
     "text": [
      "Worst-performing stock over the period: 0\n",
      "Best-performing stock over the period: 2\n"
     ]
    }
   ],
   "source": [
    "# Calculate the average price for each stock\n",
    "\n",
    "average_prices = np.mean(prices, axis=0)\n",
    "\n",
    "# Find the worst-performing stock over the period\n",
    "worst_stock_overall = np.argmin(average_prices)\n",
    "\n",
    "# Find the best-performing stock over the period\n",
    "best_stock_overall = np.argmax(average_prices)\n",
    "\n",
    "print(\"Worst-performing stock over the period:\", worst_stock_overall)\n",
    "print(\"Best-performing stock over the period:\", best_stock_overall)\n"
   ]
  },
  {
   "cell_type": "code",
   "execution_count": null,
   "id": "579d5165-31a2-4ba0-956f-9612f32ec3a7",
   "metadata": {},
   "outputs": [],
   "source": []
  }
 ],
 "metadata": {
  "kernelspec": {
   "display_name": "Python 3 (ipykernel)",
   "language": "python",
   "name": "python3"
  },
  "language_info": {
   "codemirror_mode": {
    "name": "ipython",
    "version": 3
   },
   "file_extension": ".py",
   "mimetype": "text/x-python",
   "name": "python",
   "nbconvert_exporter": "python",
   "pygments_lexer": "ipython3",
   "version": "3.11.7"
  }
 },
 "nbformat": 4,
 "nbformat_minor": 5
}
