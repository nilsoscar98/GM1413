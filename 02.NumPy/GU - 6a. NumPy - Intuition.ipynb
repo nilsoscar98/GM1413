{
 "cells": [
  {
   "cell_type": "markdown",
   "id": "9df92cab-2f5d-44af-8640-bab9ecfe2b1f",
   "metadata": {
    "tags": []
   },
   "source": [
    "<center><img src=\"./Data/GU-HHS-logo.jpg\"></center>\n",
    "\n",
    "<h1 style=\"font-size: 2em; text-align: center; font-weight: bold;\">Introduction to Python</font size></b></h1>\n",
    "<h1 style=\"font-size: 3em; text-align: center; font-weight: bold;\">Numerical Computing</h1>\n",
    "<h1 style=\"font-family: Comic Sans MS; font-size: 4; text-align: center; color: blue; font-style: italic;\">... or Patterns and Shapes in Math</font size></h1>\n",
    "\n",
    "<h1 style=\"font-size: 3em; text-align: center; font-weight: bold;color: blue;\">numpy</h1>\n",
    "<div style=\"width: 100%; height: 20px; background: linear-gradient(to right, red, orange, yellow, green, blue, indigo, violet);\"></div>\n",
    "<div style=\"width: 100%; height: 20px; background: linear-gradient(to right, white, blue);\"></div>\n",
    "<hr style=\"border: 8px linear-gradient(to right, pink, yellow, cyan, lime) 1\">"
   ]
  },
  {
   "cell_type": "code",
   "execution_count": null,
   "id": "97a70c43-59ab-49e9-8ad3-e0471c044cc8",
   "metadata": {},
   "outputs": [],
   "source": [
    "import numpy as np"
   ]
  },
  {
   "cell_type": "markdown",
   "id": "012b1c57-b0e4-4b3d-a213-9f012cfce3d5",
   "metadata": {},
   "source": [
    "<h1 style=\"font-family: Comic Sans MS; font-size: 4; color: blue; font-style: italic;\">... the shape is the ARRAY ... and its contents form patterns</h1>"
   ]
  },
  {
   "cell_type": "code",
   "execution_count": null,
   "id": "6c5f6b16-6760-41cf-8203-c0a396822946",
   "metadata": {},
   "outputs": [],
   "source": [
    "# 1. create using zeros\n",
    "\n",
    "my_array = np.zeros(6)\n",
    "my_array\n"
   ]
  },
  {
   "cell_type": "code",
   "execution_count": null,
   "id": "cb9ac570-7922-43e8-a80d-c32beeb070c6",
   "metadata": {},
   "outputs": [],
   "source": [
    "type(my_array)"
   ]
  },
  {
   "cell_type": "code",
   "execution_count": null,
   "id": "d7c81cc6-0287-40a6-918d-dc43a1abf502",
   "metadata": {},
   "outputs": [],
   "source": [
    "# check the default types for array elements\n",
    "type(my_array[0])\n"
   ]
  },
  {
   "cell_type": "code",
   "execution_count": null,
   "id": "79a1ebed-b93c-4f3e-bef4-b55354004c33",
   "metadata": {},
   "outputs": [],
   "source": [
    "my_array.shape"
   ]
  },
  {
   "cell_type": "code",
   "execution_count": null,
   "id": "d5e1235e-d2a1-481b-99cf-77f2ad207482",
   "metadata": {},
   "outputs": [],
   "source": [
    "my_array.shape = (3, 2)\n",
    "print(my_array)\n",
    "\n",
    "print(f\"note structure shape change (rows, columns) {my_array.shape}\")"
   ]
  },
  {
   "cell_type": "code",
   "execution_count": null,
   "id": "05a78bc3-77b1-4d83-abfe-286471351449",
   "metadata": {},
   "outputs": [],
   "source": [
    "# 2. creating from a list\n",
    "\n",
    "my_list = ([1,2,3,4,5,6,7,8,9,10])\n",
    "my_list\n"
   ]
  },
  {
   "cell_type": "code",
   "execution_count": null,
   "id": "45c21b0f-6b37-4557-96d6-15ca1de8e6de",
   "metadata": {},
   "outputs": [],
   "source": [
    "type(my_list)"
   ]
  },
  {
   "cell_type": "code",
   "execution_count": null,
   "id": "1deb2729-fa77-4615-9f0e-8659f4096d68",
   "metadata": {},
   "outputs": [],
   "source": [
    "my_array = np.array(my_list)\n",
    "my_array\n"
   ]
  },
  {
   "cell_type": "code",
   "execution_count": null,
   "id": "fced3c76-430f-4068-950d-9da672120c3d",
   "metadata": {},
   "outputs": [],
   "source": [
    "my_list = [[1,2,3], [1,2,3]]    \n",
    "my_array = np.array(my_list)\n",
    "my_array\n"
   ]
  },
  {
   "cell_type": "code",
   "execution_count": null,
   "id": "f26abb30-d94a-40b2-bb91-23b73e9e5431",
   "metadata": {},
   "outputs": [],
   "source": [
    "?my_array  "
   ]
  },
  {
   "cell_type": "code",
   "execution_count": null,
   "id": "753fd0e8-591d-470d-b695-841b62c64eec",
   "metadata": {},
   "outputs": [],
   "source": [
    "?my_array.shape"
   ]
  },
  {
   "cell_type": "code",
   "execution_count": null,
   "id": "77740dbf-0615-4bc6-9a9c-174cd6824abd",
   "metadata": {},
   "outputs": [],
   "source": [
    "# 3. Create evenly spaced values over a specific range\n",
    "\n",
    "import matplotlib.pyplot as plt\n",
    "\n",
    "# Generate 100 x-values between -10 and 10\n",
    "x = np.linspace(-10, 10, 100)\n",
    "y = np.sin(x)\n",
    "\n",
    "plt.plot(x, y)\n",
    "plt.title('Sine Wave')\n",
    "plt.xlabel('x')\n",
    "plt.ylabel('sin(x)')\n",
    "plt.show()\n"
   ]
  },
  {
   "cell_type": "code",
   "execution_count": null,
   "id": "51ab5b03-71ca-4115-b87f-8d69be716f76",
   "metadata": {},
   "outputs": [],
   "source": [
    "# Parameter Sweeps in Simulations\n",
    "\n",
    "# Sweep through interest rates from 1% to 5%\n",
    "interest_rates = np.linspace(0.01, 0.05, 50)\n",
    "\n",
    "bond_prices = 1000 / (1 + interest_rates)**10  # Simplified bond pricing model\n",
    "\n",
    "plt.plot(interest_rates, bond_prices)\n",
    "plt.title('Bond Price vs. Interest Rate')\n",
    "plt.xlabel('Interest Rate')\n",
    "plt.ylabel('Bond Price')\n",
    "plt.show()"
   ]
  },
  {
   "cell_type": "code",
   "execution_count": null,
   "id": "d530d2eb-938a-4844-b558-2f63e19d7883",
   "metadata": {},
   "outputs": [],
   "source": [
    "# 4. creating random arrays\n",
    "\n",
    "# Seed the random number generator for reproducibility\n",
    "np.random.seed(0)\n",
    "\n",
    "# Create a random array with 10 elements\n",
    "random_array = np.random.randint(10, size = 10)  # Uniformly distributed random integers between 0 and 9\n",
    "\n",
    "print(\"Random Array:\", random_array)\n"
   ]
  },
  {
   "cell_type": "code",
   "execution_count": null,
   "id": "47cd08fd-4215-4de0-adf0-ee9dbc016d8c",
   "metadata": {},
   "outputs": [],
   "source": [
    "random_array[0]"
   ]
  },
  {
   "cell_type": "code",
   "execution_count": null,
   "id": "4a3b2354-fa24-4be2-a5b7-3af0eef41df3",
   "metadata": {},
   "outputs": [],
   "source": [
    "random_array[-1]"
   ]
  },
  {
   "cell_type": "code",
   "execution_count": null,
   "id": "50a35d4e-c351-4a3f-bebc-3be2dfb74911",
   "metadata": {},
   "outputs": [],
   "source": [
    "random_array[1:-2]"
   ]
  },
  {
   "cell_type": "code",
   "execution_count": null,
   "id": "2dc684d2-927c-41ad-9234-e97ed356f131",
   "metadata": {},
   "outputs": [],
   "source": [
    "# Seed the random number generator for reproducibility\n",
    "np.random.seed(0)\n",
    "\n",
    "# Create a random array with 3x3 shape\n",
    "random_matrix = np.random.rand(3, 3)  # Normally distributed random numbers (mean 0, variance 1)\n",
    "\n",
    "print(\"Random Matrix:\\n\", random_matrix)"
   ]
  },
  {
   "cell_type": "code",
   "execution_count": null,
   "id": "b2d7577e-ae84-41e8-8a79-c79de64a3fc7",
   "metadata": {},
   "outputs": [],
   "source": [
    "random_matrix[:,0]   # all elements in the first column"
   ]
  },
  {
   "cell_type": "code",
   "execution_count": null,
   "id": "9dfd6015-6f40-4862-8314-253894eecd18",
   "metadata": {},
   "outputs": [],
   "source": [
    "random_matrix[-1,-1]  # the element in the last row and last column"
   ]
  },
  {
   "cell_type": "markdown",
   "id": "353fec44-3eae-493b-a8ef-1cc89f6e3566",
   "metadata": {},
   "source": [
    "<h1 style=\"font-family: Comic Sans MS; font-size: 4; color: blue; font-style: italic;\">... let's play with a photograph!</font size></h1>"
   ]
  },
  {
   "cell_type": "code",
   "execution_count": null,
   "id": "6ea8810f-d093-46ca-b9d5-ba76dfc19575",
   "metadata": {},
   "outputs": [],
   "source": [
    "# Import the image from scikit-image package\n",
    "\n",
    "from skimage import data, io\n",
    "import matplotlib.pyplot as plt\n",
    "\n",
    "# Load the image\n",
    "astronaut = data.astronaut()\n"
   ]
  },
  {
   "cell_type": "code",
   "execution_count": null,
   "id": "6e1cc17e-817f-489f-b411-c28480546f4d",
   "metadata": {},
   "outputs": [],
   "source": [
    "# Examine the shape and type of the image array\n",
    "print(f\"Image shape: {astronaut.shape}\")\n",
    "print(f\"Data type: {astronaut.dtype}\")\n"
   ]
  },
  {
   "cell_type": "code",
   "execution_count": null,
   "id": "9cef24fe-e2b8-453b-ac0c-a789dd89e938",
   "metadata": {},
   "outputs": [],
   "source": [
    "# What do astronauts look like without spacesuits\n",
    "print(astronaut[:3, :3, :])"
   ]
  },
  {
   "cell_type": "code",
   "execution_count": null,
   "id": "f171f722-1e5c-4d65-bc6b-f3b6a3168eed",
   "metadata": {},
   "outputs": [],
   "source": [
    "# Example: Accessing the pixel values at a specific location\n",
    "pixel = astronaut[1, 1]  # Get the pixel value at the 2nd row, 2nd column \n",
    "print(f\"Pixel value at (1, 1): {pixel}\")\n"
   ]
  },
  {
   "cell_type": "code",
   "execution_count": null,
   "id": "4c69fea5-ee5b-4060-8239-71ec229c0ee0",
   "metadata": {},
   "outputs": [],
   "source": [
    "# Display the image\n",
    "io.imshow(astronaut)\n",
    "io.show()\n"
   ]
  },
  {
   "cell_type": "code",
   "execution_count": null,
   "id": "05931f01-6896-4556-a3d6-817855b6e711",
   "metadata": {},
   "outputs": [],
   "source": [
    "# Display the original and the reverse image\n",
    "fig, ax = plt.subplots(1, 2, figsize=(12, 6))\n",
    "ax[0].imshow(astronaut)\n",
    "ax[0].set_title('Original Image')\n",
    "ax[0].axis('off')\n",
    "\n",
    "ax[1].imshow(astronaut[: : -1])\n",
    "ax[1].set_title('Reverse Image')\n",
    "ax[1].axis('off')\n",
    "\n",
    "plt.show()"
   ]
  },
  {
   "cell_type": "code",
   "execution_count": null,
   "id": "223e1ab2-8437-49ee-b4fc-727f35b500ef",
   "metadata": {},
   "outputs": [],
   "source": [
    "# Display the original and the mirror image\n",
    "fig, ax = plt.subplots(1, 2, figsize=(12, 6))\n",
    "ax[0].imshow(astronaut)\n",
    "ax[0].set_title('Original Image')\n",
    "ax[0].axis('off')\n",
    "\n",
    "ax[1].imshow(astronaut[: , : : -1])\n",
    "ax[1].set_title('Mirror Image')\n",
    "ax[1].axis('off')\n",
    "\n",
    "plt.show()\n"
   ]
  },
  {
   "cell_type": "code",
   "execution_count": null,
   "id": "09bfa37f-060f-47ac-b85a-f934be41f870",
   "metadata": {},
   "outputs": [],
   "source": [
    "plt.imshow(astronaut[0:300, 350:500])"
   ]
  },
  {
   "cell_type": "code",
   "execution_count": null,
   "id": "95955334-1383-477c-828e-8a936f87c2f6",
   "metadata": {},
   "outputs": [],
   "source": [
    "# Create three new images containing the pime colour images\n",
    "\n",
    "red_channel = astronaut[:, :, 0]  # Red channel\n",
    "green_channel = astronaut[:, :, 1]  # Green channel\n",
    "blue_channel = astronaut[:, :, 2]  # Blue channel"
   ]
  },
  {
   "cell_type": "code",
   "execution_count": null,
   "id": "7518722e-982c-4138-860e-faed608e0222",
   "metadata": {},
   "outputs": [],
   "source": [
    "# Display the original image and the individual color channels\n",
    "\n",
    "fig, ax = plt.subplots(1, 4, figsize=(20, 5))\n",
    "# Original Image\n",
    "ax[0].imshow(astronaut)\n",
    "ax[0].set_title('Original Image')\n",
    "ax[0].axis('off')\n",
    "\n",
    "# Red Channel\n",
    "ax[1].imshow(red_channel, cmap='Reds')\n",
    "ax[1].set_title('Red Channel')\n",
    "ax[1].axis('off')\n",
    "\n",
    "# Green Channel\n",
    "ax[2].imshow(green_channel, cmap='Greens')\n",
    "ax[2].set_title('Green Channel')\n",
    "ax[2].axis('off')\n",
    "\n",
    "# Blue Channel\n",
    "ax[3].imshow(blue_channel, cmap='Blues')\n",
    "ax[3].set_title('Blue Channel')\n",
    "ax[3].axis('off')\n",
    "\n",
    "plt.show()"
   ]
  },
  {
   "cell_type": "markdown",
   "id": "2f622fc5-c433-4078-a3c8-940e55f63b73",
   "metadata": {},
   "source": [
    "<h1 style=\"font-family: Comic Sans MS; font-size: 4; color: blue; font-style: italic;\">... great, but how could this help us in the world of finance?</font size></h1>\n",
    "<h1 style=\"font-family: Comic Sans MS; font-size: 4; font-style: italic;\">... patience .... we're getting there!</font size></h1>"
   ]
  },
  {
   "cell_type": "code",
   "execution_count": null,
   "id": "0ae43479-c1d4-4f75-acc3-284ee94b6cdd",
   "metadata": {},
   "outputs": [],
   "source": [
    "# mathematics methods in numpy\n",
    "\n",
    "print(np.sum(astronaut))\n",
    "print(np.mean(astronaut))\n",
    "print(np.std(astronaut))\n",
    "print(np.var(astronaut))\n",
    "print(np.min(astronaut)) \n",
    "print(np.max(astronaut))\n",
    "print(np.argmin(astronaut))   # flattened   start from 0 until the last element\n",
    "print(np.argmax(astronaut))   # flattened\n"
   ]
  },
  {
   "cell_type": "code",
   "execution_count": null,
   "id": "898078ce-0acb-47ce-91d2-77f6ad40b6da",
   "metadata": {},
   "outputs": [],
   "source": [
    "prices = np.array([\n",
    "    [102.00674201, 100.58478068, 102.30162642, 105.51391251, 105.34200451],\n",
    "    [151.19870789, 149.79456982, 152.01404947, 151.70897249, 147.19112438],\n",
    "    [197.96164877, 204.93483615, 202.0516643,  197.66554282, 199.08117903]\n",
    "])\n",
    "prices\n"
   ]
  },
  {
   "cell_type": "code",
   "execution_count": null,
   "id": "c4db396b-6c98-4f90-86dd-8f41081acc37",
   "metadata": {},
   "outputs": [],
   "source": [
    "mean_prices = np.mean(prices, axis=1)\n",
    "print(\"Mean Prices Over 5 Days:\")\n",
    "print(mean_prices)\n"
   ]
  },
  {
   "cell_type": "code",
   "execution_count": null,
   "id": "9cd23a53-37fb-4add-b7e4-fa28aa3b5fb6",
   "metadata": {},
   "outputs": [],
   "source": [
    "volatility = np.std(prices, axis=1)\n",
    "print(\"Volatility (Standard Deviation of Prices):\")\n",
    "print(volatility)\n"
   ]
  },
  {
   "cell_type": "code",
   "execution_count": null,
   "id": "7df0db74-46ac-4490-9dda-403ebe04f640",
   "metadata": {},
   "outputs": [],
   "source": [
    "correlation_matrix = np.corrcoef(prices)   #Pearson corr coef\n",
    "print(\"Correlation Matrix Between Stocks:\")\n",
    "print(correlation_matrix)\n"
   ]
  },
  {
   "cell_type": "code",
   "execution_count": null,
   "id": "dcde29e5-97e5-4636-8feb-94d4127e65c7",
   "metadata": {},
   "outputs": [],
   "source": [
    "# Find the day with the lowest price for each stock\n",
    "min_price_days = np.argmin(prices, axis=1)   \n",
    "\n",
    "# Find the day with the highest price for each stock\n",
    "max_price_days = np.argmax(prices, axis=1)\n",
    "print(\"Days with the lowest prices for each stock:\", min_price_days)\n",
    "print(\"Days with the highest prices for each stock:\", max_price_days)\n"
   ]
  },
  {
   "cell_type": "code",
   "execution_count": null,
   "id": "e0576d4d-9e63-4ce1-91e9-ec8668e23528",
   "metadata": {},
   "outputs": [],
   "source": [
    "# Calculate the average price for each stock\n",
    "\n",
    "average_prices = np.mean(prices, axis=1)\n",
    "\n",
    "# Find the worst-performing stock over the period\n",
    "worst_stock_overall = np.argmin(average_prices)\n",
    "\n",
    "# Find the best-performing stock over the period\n",
    "best_stock_overall = np.argmax(average_prices)\n",
    "\n",
    "print(\"Worst-performing stock over the period:\", worst_stock_overall)\n",
    "print(\"Best-performing stock over the period:\", best_stock_overall)\n"
   ]
  },
  {
   "cell_type": "markdown",
   "id": "3e1cf32d-112f-44dd-a439-641f0cdbf7fa",
   "metadata": {},
   "source": [
    "<h1 style=\"font-family: Comic Sans MS; font-size: 4; color: blue; font-style: italic;\">... and what about text processing?</font size></h1>"
   ]
  },
  {
   "cell_type": "code",
   "execution_count": null,
   "id": "60d03248-d255-41da-89fa-6b6d3c75fc6a",
   "metadata": {},
   "outputs": [],
   "source": [
    "# NLP Example\n",
    "\n",
    "# Example GloVe embeddings for a few words (in practice, these would be higher dimensional)\n",
    "\n",
    "glove_embeddings = {\n",
    "    'happy': np.array([0.5, 0.1, 0.3]),\n",
    "    'sad': np.array([-0.4, -0.2, -0.5]),\n",
    "    'good': np.array([0.6, 0.3, 0.4]),\n",
    "    'bad': np.array([-0.3, -0.7, -0.1]),\n",
    "    'excellent': np.array([0.9, 0.5, 0.7]),\n",
    "    'terrible': np.array([-0.9, -0.4, -0.6]),\n",
    "    'movie': np.array([0.2, 0.0, 0.3]),\n",
    "    'not': np.array([-0.1, -0.4, 0.0])\n",
    "}"
   ]
  },
  {
   "cell_type": "code",
   "execution_count": null,
   "id": "9d1414f8-3cf0-439c-b535-c38d28fd7a6c",
   "metadata": {},
   "outputs": [],
   "source": [
    "type(glove_embeddings)"
   ]
  },
  {
   "cell_type": "code",
   "execution_count": null,
   "id": "51fc5d05-3069-4cdf-a007-fc6251aa9601",
   "metadata": {},
   "outputs": [],
   "source": [
    "# Example sentence (review)\n",
    "sentence = \"The movie was excellent\"\n",
    "\n",
    "# Convert sentence into word embeddings\n",
    "embedded_sentence = np.array([glove_embeddings[word.lower()] for word in sentence.split() if word.lower() in glove_embeddings])\n",
    "\n",
    "print(\"Word Embeddings for the sentence:\")\n",
    "print(embedded_sentence)"
   ]
  },
  {
   "cell_type": "code",
   "execution_count": null,
   "id": "c2711739-48b6-4f4d-a382-ac45bbc85825",
   "metadata": {},
   "outputs": [],
   "source": [
    "# Average the embeddings to get a single feature vector for the sentence\n",
    "sentence_embedding = np.mean(embedded_sentence, axis=0)\n",
    "\n",
    "print(\"Aggregated Sentence Embedding:\")\n",
    "print(sentence_embedding)"
   ]
  },
  {
   "cell_type": "code",
   "execution_count": null,
   "id": "899201c2-e711-4b8a-8c95-85b9d06df362",
   "metadata": {},
   "outputs": [],
   "source": [
    "# numpy and NLP - vector arithmetic"
   ]
  },
  {
   "cell_type": "code",
   "execution_count": null,
   "id": "7f14609c-3640-457a-9973-128fbe9ccf45",
   "metadata": {},
   "outputs": [],
   "source": []
  }
 ],
 "metadata": {
  "kernelspec": {
   "display_name": "Python 3 (ipykernel)",
   "language": "python",
   "name": "python3"
  },
  "language_info": {
   "codemirror_mode": {
    "name": "ipython",
    "version": 3
   },
   "file_extension": ".py",
   "mimetype": "text/x-python",
   "name": "python",
   "nbconvert_exporter": "python",
   "pygments_lexer": "ipython3",
   "version": "3.11.7"
  }
 },
 "nbformat": 4,
 "nbformat_minor": 5
}
