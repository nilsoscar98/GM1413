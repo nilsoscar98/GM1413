{
 "cells": [
  {
   "cell_type": "markdown",
   "id": "8f8f361f-9207-4f71-86c0-018f02f7dd02",
   "metadata": {
    "tags": []
   },
   "source": [
    "## Pandas A-Z for Finance and Economics\n",
    "\n",
    "### Introduction to pandas\n",
    "\n",
    "Welcome to the world of pandas, the go-to Python library for data manipulation and analysis. If you've ever worked with data in Excel, SQL, or other tools, pandas will feel familiar but with greater flexibility and power. Designed for handling structured data (like tables), pandas makes it easy to work with both small and large datasets.\n",
    "\n",
    "### Why pandas?\n",
    "pandas is an open-source library that provides high-performance, easy-to-use data structures such as:\n",
    "* Series: A one-dimensional labeled array capable of holding any data type.\n",
    "* DataFrame: A two-dimensional, size-mutable, and heterogeneous tabular data structure with labeled axes (rows and columns).\n",
    "\n",
    "\n",
    "<br>\n",
    "<br>\n",
    "\n",
    "pandas is commonly used for:\n",
    "* Data cleaning and preparation: Handling missing values, filtering, and transforming data.\n",
    "* Exploratory Data Analysis (EDA): Quickly summarizing and analyzing data.\n",
    "* Data visualization: Integrating with libraries like matplotlib and seaborn to create powerful visualizations.\n",
    "* Merging and joining: Easily combining datasets for comprehensive analysis.\n",
    "\n",
    "In this notebook, we'll explore the core functionalities of pandas and walk through practical, hands-on examples to help you master data analysis using Python!"
   ]
  },
  {
   "cell_type": "markdown",
   "id": "751e05b7-9fa0-49b9-9806-a35ae39ae584",
   "metadata": {},
   "source": [
    "### 1. Installing pandas\n",
    "Just remove the # and run the cell"
   ]
  },
  {
   "cell_type": "code",
   "execution_count": 1,
   "id": "fba3fca0-3869-40dc-8744-050c2d21aaba",
   "metadata": {},
   "outputs": [],
   "source": [
    "# pip install pandas"
   ]
  },
  {
   "cell_type": "markdown",
   "id": "c04cff7a-6580-4e1c-99b4-e7b880218456",
   "metadata": {},
   "source": [
    "Then you can import pandas"
   ]
  },
  {
   "cell_type": "code",
   "execution_count": 2,
   "id": "e3fec550-51b5-4486-b746-824eaff22245",
   "metadata": {},
   "outputs": [
    {
     "name": "stdout",
     "output_type": "stream",
     "text": [
      "Pandas version: 2.0.3\n"
     ]
    }
   ],
   "source": [
    "# Import Pandas in your Python script:\n",
    "import pandas as pd\n",
    "import numpy as np  # We'll use NumPy for some examples\n",
    "\n",
    "print(f\"Pandas version: {pd.__version__}\")"
   ]
  },
  {
   "cell_type": "markdown",
   "id": "55aa4c85-52b5-4585-a8ed-717fd91aa9e9",
   "metadata": {},
   "source": [
    "## 2. DataFrames\n",
    "\n",
    "### Understanding DataFrames\n",
    "\n",
    "Basic Operations in pandas\n",
    "\n",
    "Let’s start with the essential building blocks of pandas: Series and DataFrame. These structures allow you to store and manipulate your data efficiently. Here’s a quick overview:\n",
    "\n",
    "Series: Think of this as a single column in Excel, where each data point is labeled by an index. It’s essentially a one-dimensional array.\n",
    "DataFrame: Imagine a full Excel spreadsheet with rows and columns. The DataFrame is pandas' most powerful data structure, letting you work with data in two dimensions (rows and columns) and offering a wealth of functionality for manipulating that data.\n",
    "\n",
    "\n",
    "### Creating DataFrames"
   ]
  },
  {
   "cell_type": "code",
   "execution_count": 3,
   "id": "0d3de6d9-73d3-450c-91fc-9f18b65abdb2",
   "metadata": {},
   "outputs": [
    {
     "name": "stdout",
     "output_type": "stream",
     "text": [
      "DataFrame created from dictionary:\n",
      "         date  stock   price   volume\n",
      "0  2023-01-01   AAPL   150.5  1000000\n",
      "1  2023-01-01  GOOGL  2500.0   500000\n",
      "2  2023-01-02   AAPL   152.0  1200000\n",
      "3  2023-01-02  GOOGL  2510.0   600000\n",
      "\n",
      "\n"
     ]
    }
   ],
   "source": [
    "# Create a DataFrame from a dictionary\n",
    "data = {\n",
    "    'date': ['2023-01-01', '2023-01-01', '2023-01-02', '2023-01-02'],\n",
    "    'stock': ['AAPL', 'GOOGL', 'AAPL', 'GOOGL'],\n",
    "    'price': [150.5, 2500.0, 152.0, 2510.0],\n",
    "    'volume': [1000000, 500000, 1200000, 600000]\n",
    "}\n",
    "\n",
    "df = pd.DataFrame(data)\n",
    "print(\"DataFrame created from dictionary:\")\n",
    "print(df)\n",
    "print(\"\\n\")"
   ]
  },
  {
   "cell_type": "code",
   "execution_count": 4,
   "id": "4f60f706-0440-4b69-add8-87aaf2855e2c",
   "metadata": {},
   "outputs": [
    {
     "name": "stdout",
     "output_type": "stream",
     "text": [
      "DataFrame created from list of lists:\n",
      "         date  stock   price   volume\n",
      "0  2023-01-01   AAPL   150.5  1000000\n",
      "1  2023-01-01  GOOGL  2500.0   500000\n",
      "2  2023-01-02   AAPL   152.0  1200000\n",
      "3  2023-01-02  GOOGL  2510.0   600000\n",
      "\n",
      "\n"
     ]
    }
   ],
   "source": [
    "# Create a DataFrame from a list of lists\n",
    "data_list = [\n",
    "    ['2023-01-01', 'AAPL', 150.5, 1000000],\n",
    "    ['2023-01-01', 'GOOGL', 2500.0, 500000],\n",
    "    ['2023-01-02', 'AAPL', 152.0, 1200000],\n",
    "    ['2023-01-02', 'GOOGL', 2510.0, 600000]\n",
    "]\n",
    "\n",
    "df_from_list = pd.DataFrame(data_list, columns=['date', 'stock', 'price', 'volume'])\n",
    "print(\"DataFrame created from list of lists:\")\n",
    "print(df_from_list)\n",
    "print(\"\\n\")"
   ]
  },
  {
   "cell_type": "markdown",
   "id": "c71d7f7d-f09e-4a77-9a35-ad5872d87e82",
   "metadata": {},
   "source": [
    "### Attributes of DataFrames\n",
    "\n",
    "##### Data Types and Conversion\n",
    "\n",
    "When working with pandas DataFrames, it's important to understand and manage data types. This section explores how to check data types, convert between types, and why it matters for analysis and memory efficiency."
   ]
  },
  {
   "cell_type": "code",
   "execution_count": 5,
   "id": "8885abb2-8149-4bc3-87f1-d0ce3e966bfc",
   "metadata": {},
   "outputs": [
    {
     "name": "stdout",
     "output_type": "stream",
     "text": [
      "DataFrame shape (rows, columns): (4, 4)\n",
      "DataFrame columns: Index(['date', 'stock', 'price', 'volume'], dtype='object')\n",
      "DataFrame data types:\n",
      "date       object\n",
      "stock      object\n",
      "price     float64\n",
      "volume      int64\n",
      "dtype: object\n",
      "\n",
      "\n"
     ]
    }
   ],
   "source": [
    "print(\"DataFrame shape (rows, columns):\", df.shape)\n",
    "print(\"DataFrame columns:\", df.columns)\n",
    "print(\"DataFrame data types:\")\n",
    "print(df.dtypes)\n",
    "print(\"\\n\")"
   ]
  },
  {
   "cell_type": "markdown",
   "id": "4f80f918-4ef5-4a6c-ac6e-6971462adc6f",
   "metadata": {},
   "source": [
    "## 3. Data Import and Export\n",
    "Loading Data into pandas\n",
    "\n",
    "pandas supports reading data from a wide variety of file formats, including CSV, Excel, JSON, SQL databases, and more. The most common method to start working with a dataset is by loading it into a DataFrame using functions like read_csv() and read_excel().\n",
    "\n",
    "Here’s a simple example of loading a CSV file into a pandas DataFrame:"
   ]
  },
  {
   "cell_type": "markdown",
   "id": "0ebcfdcb-9e6a-49fc-b5ed-b17ae046bb9d",
   "metadata": {},
   "source": [
    "### Reading CSV files"
   ]
  },
  {
   "cell_type": "code",
   "execution_count": 6,
   "id": "d4f97e62-6dcd-4494-86ff-22ca8ae0e8ab",
   "metadata": {},
   "outputs": [
    {
     "name": "stdout",
     "output_type": "stream",
     "text": [
      "DataFrame read from CSV:\n",
      "         date  stock   price   volume\n",
      "0  2023-01-01   AAPL   150.5  1000000\n",
      "1  2023-01-02  GOOGL  2500.0   500000\n",
      "2  2023-01-03   AAPL   152.0  1200000\n",
      "3  2023-01-04  GOOGL  2510.0   600000\n",
      "\n",
      "\n",
      "DataFrame has been written to 'output_data.csv'\n",
      "\n",
      "\n"
     ]
    }
   ],
   "source": [
    "# Let's create a sample CSV file\n",
    "sample_csv = '''date,stock,price,volume\n",
    "2023-01-01,AAPL,150.5,1000000\n",
    "2023-01-02,GOOGL,2500.0,500000\n",
    "2023-01-03,AAPL,152.0,1200000\n",
    "2023-01-04,GOOGL,2510.0,600000\n",
    "'''\n",
    "\n",
    "with open('sample_data.csv', 'w') as f:\n",
    "    f.write(sample_csv)\n",
    "\n",
    "# Reading the CSV file\n",
    "df_csv = pd.read_csv('sample_data.csv')\n",
    "print(\"DataFrame read from CSV:\")\n",
    "print(df_csv)\n",
    "print(\"\\n\")\n",
    "\n",
    "# ### Writing to CSV\n",
    "\n",
    "# Writing DataFrame to CSV\n",
    "df_csv.to_csv('output_data.csv', index=False)\n",
    "print(\"DataFrame has been written to 'output_data.csv'\")\n",
    "print(\"\\n\")"
   ]
  },
  {
   "cell_type": "markdown",
   "id": "fe0899a7-069c-4f1d-ac4d-a97c629a4e82",
   "metadata": {},
   "source": [
    "Important Parameters in read_csv():\n",
    "\n",
    "<b>sep</b>: Specifies the delimiter used in the file (e.g., sep=',' for CSVs).<br>\n",
    "<b>header</b>: Defines which row to use as the column names.<br>\n",
    "<b>names</b>: If no header row exists, provide a list of column names.<br>\n",
    "<b>na_values</b>: Specify additional strings that should be considered as missing values (NA).<br>\n",
    "<b>encoding</b>: Important when dealing with non-UTF-8 files, specify the correct encoding (e.g., encoding='ISO-8859-1').<br>"
   ]
  },
  {
   "cell_type": "markdown",
   "id": "462e04b2-b5a1-49fb-a288-46001beea028",
   "metadata": {},
   "source": [
    "### Reading Excel files"
   ]
  },
  {
   "cell_type": "code",
   "execution_count": 7,
   "id": "b55a23df-0590-4dec-bd96-43a7fc40019f",
   "metadata": {},
   "outputs": [
    {
     "name": "stdout",
     "output_type": "stream",
     "text": [
      "DataFrame read from Excel:\n",
      "         date  stock   price   volume\n",
      "0  2023-01-01   AAPL   150.5  1000000\n",
      "1  2023-01-02  GOOGL  2500.0   500000\n",
      "2  2023-01-03   AAPL   152.0  1200000\n",
      "3  2023-01-04  GOOGL  2510.0   600000\n",
      "\n",
      "\n"
     ]
    }
   ],
   "source": [
    "# To read Excel files, you need to install openpyxl:\n",
    "# pip install openpyxl\n",
    "\n",
    "# Let's create a sample Excel file from the csv data.\n",
    "df_csv.to_excel('sample_data.xlsx', index=False)\n",
    "\n",
    "# Reading the Excel file\n",
    "df_excel = pd.read_excel('sample_data.xlsx')\n",
    "print(\"DataFrame read from Excel:\")\n",
    "print(df_excel)\n",
    "print(\"\\n\")"
   ]
  },
  {
   "cell_type": "markdown",
   "id": "dc76436d-ea40-40e5-8eed-c4990795d0b6",
   "metadata": {},
   "source": [
    "### Importing financial data from web APIs"
   ]
  },
  {
   "cell_type": "code",
   "execution_count": 8,
   "id": "54bfe8d1-11c3-465a-ac3e-436d2f59d819",
   "metadata": {},
   "outputs": [
    {
     "name": "stdout",
     "output_type": "stream",
     "text": [
      "[*********************100%%**********************]  1 of 1 completed\n",
      "Apple stock data from Yahoo Finance:\n",
      "                  Open        High         Low       Close   Adj Close  \\\n",
      "Date                                                                     \n",
      "2023-01-03  130.279999  130.899994  124.169998  125.070000  123.904617   \n",
      "2023-01-04  126.889999  128.660004  125.080002  126.360001  125.182610   \n",
      "2023-01-05  127.129997  127.769997  124.760002  125.019997  123.855087   \n",
      "2023-01-06  126.010002  130.289993  124.889999  129.619995  128.412231   \n",
      "2023-01-09  130.470001  133.410004  129.889999  130.149994  128.937286   \n",
      "\n",
      "               Volume  \n",
      "Date                   \n",
      "2023-01-03  112117500  \n",
      "2023-01-04   89113600  \n",
      "2023-01-05   80962700  \n",
      "2023-01-06   87754700  \n",
      "2023-01-09   70790800  \n",
      "\n",
      "\n"
     ]
    }
   ],
   "source": [
    "# For this example, we'll use yfinance. Install it using:\n",
    "# pip install yfinance\n",
    "\n",
    "import yfinance as yf\n",
    "\n",
    "# Download Apple stock data\n",
    "aapl_data = yf.download('AAPL', start='2023-01-01', end='2023-12-31')\n",
    "print(\"Apple stock data from Yahoo Finance:\")\n",
    "print(aapl_data.head())\n",
    "print(\"\\n\")\n"
   ]
  },
  {
   "cell_type": "markdown",
   "id": "a1203063-d28c-4b5c-9340-edb6734ea94b",
   "metadata": {},
   "source": [
    "### Exporting Data\n",
    "\n",
    "After performing data manipulation and analysis, you may need to save your results to a file for reporting, further analysis, or sharing with others. pandas allows you to export your DataFrames to various formats, such as CSV, Excel, or JSON.\n",
    "\n",
    "### Why is Exporting Data Important?\n",
    "\n",
    "Once your data is cleaned and analyzed, it's important to store or share the results in a format that is easily accessible. Exporting data to CSV or Excel is a common workflow for communicating analysis to stakeholders.\n",
    "\n",
    "### What will we do? In this section, we will:\n",
    "1. Export a DataFrame to CSV format.\n",
    "2. Export a DataFrame to Excel format.\n",
    "3. Learn how to customize the export process by handling separators, encoding, and formatting.\n",
    "\n",
    "\n",
    "### Key Concepts:\n",
    "* CSV Export: A simple and widely used format for exporting data.\n",
    "* Excel Export: Useful when you need more structured output, including multiple sheets.\n",
    "* JSON Export: Ideal for exporting structured data that will be consumed by web APIs."
   ]
  },
  {
   "cell_type": "code",
   "execution_count": 9,
   "id": "3ca0df1f-f703-4a41-8d84-2b714db7d7ee",
   "metadata": {},
   "outputs": [],
   "source": [
    "# Exporting a DataFrame to CSV\n",
    "df.to_csv('output.csv', index=False)\n",
    "\n",
    "# Exporting a DataFrame to Excel\n",
    "df.to_excel('output.xlsx', sheet_name='Sheet1', index=False)\n",
    "\n",
    "# Exporting a DataFrame to JSON\n",
    "df.to_json('output.json', orient='records')"
   ]
  },
  {
   "cell_type": "markdown",
   "id": "f743d267-d13a-40b0-9613-759cb15198e5",
   "metadata": {},
   "source": [
    "### What is Pickle?\n",
    "Pickle is a Python-specific format used to serialize and deserialize Python objects. Serialization is the process of converting an object (like a pandas DataFrame) into a format that can be easily saved to a file or transmitted over a network. Deserialization is the reverse process of reconstructing the object from its serialized format.\n",
    "\n",
    "### Why use Pickle?\n",
    "* Speed: Pickle is faster than CSV, Excel, or JSON when saving and loading data because it retains the Python object structure (like index, data types, etc.).\n",
    "* Efficiency: It preserves all the details of the DataFrame, including custom data types, making it the ideal format for quick storage and reloading within Python projects.\n",
    "* Native Support: While formats like CSV or JSON are more universal, Pickle is specifically designed for Python and may not be suitable for sharing data with non-Python environments.\n",
    "\n",
    "#### Exporting a DataFrame to Pickle"
   ]
  },
  {
   "cell_type": "code",
   "execution_count": 10,
   "id": "3998d3cb-be41-4bf7-8427-30d7a34882d7",
   "metadata": {},
   "outputs": [
    {
     "name": "stdout",
     "output_type": "stream",
     "text": [
      "         date  stock   price   volume\n",
      "0  2023-01-01   AAPL   150.5  1000000\n",
      "1  2023-01-01  GOOGL  2500.0   500000\n",
      "2  2023-01-02   AAPL   152.0  1200000\n",
      "3  2023-01-02  GOOGL  2510.0   600000\n"
     ]
    }
   ],
   "source": [
    "# Exporting a DataFrame to a Pickle file\n",
    "df.to_pickle('output.pkl')\n",
    "\n",
    "# Loading a DataFrame from a Pickle file\n",
    "df_loaded = pd.read_pickle('output.pkl')\n",
    "print(df_loaded)"
   ]
  },
  {
   "cell_type": "markdown",
   "id": "2691751a-d73d-49d1-b4ce-d84cf231a990",
   "metadata": {},
   "source": [
    "## 4. Data Inspection and Basic Information\n",
    "\n",
    "When working with financial data, it's crucial to understand the structure and content of your dataset before diving into analysis. Pandas provides several useful functions to inspect your data and gain basic insights. In this section, we'll explore:\n",
    "\n",
    "1. Viewing the first and last rows of the DataFrame\n",
    "2. Getting a concise summary of the DataFrame\n",
    "3. Obtaining detailed information about the DataFrame\n",
    "4. Generating descriptive statistics of the numerical columns\n",
    "\n",
    "These inspection techniques are essential for:\n",
    "* Quickly understanding the structure of your data\n",
    "* Identifying potential issues or anomalies\n",
    "* Getting an overview of the data types and non-null counts\n",
    "* Gaining initial insights into the statistical properties of your numerical data\n",
    "\n",
    "Let's explore these methods using our sample financial dataset:"
   ]
  },
  {
   "cell_type": "markdown",
   "id": "244cbb9f-2cf8-47b7-9822-60ff5c7cf58a",
   "metadata": {},
   "source": [
    "### Using head() and tail()\n",
    "The `head()` and `tail()` functions allow you to view the first and last rows of your DataFrame, respectively. This is useful for getting a quick glimpse of your data's structure and content."
   ]
  },
  {
   "cell_type": "code",
   "execution_count": 11,
   "id": "01decc4f-c59f-4be6-b0f1-5ad2efc6a402",
   "metadata": {},
   "outputs": [
    {
     "data": {
      "text/html": [
       "<div>\n",
       "<style scoped>\n",
       "    .dataframe tbody tr th:only-of-type {\n",
       "        vertical-align: middle;\n",
       "    }\n",
       "\n",
       "    .dataframe tbody tr th {\n",
       "        vertical-align: top;\n",
       "    }\n",
       "\n",
       "    .dataframe thead th {\n",
       "        text-align: right;\n",
       "    }\n",
       "</style>\n",
       "<table border=\"1\" class=\"dataframe\">\n",
       "  <thead>\n",
       "    <tr style=\"text-align: right;\">\n",
       "      <th></th>\n",
       "      <th>date</th>\n",
       "      <th>stock</th>\n",
       "      <th>price</th>\n",
       "      <th>volume</th>\n",
       "    </tr>\n",
       "  </thead>\n",
       "  <tbody>\n",
       "    <tr>\n",
       "      <th>0</th>\n",
       "      <td>2023-01-01</td>\n",
       "      <td>AAPL</td>\n",
       "      <td>150.5</td>\n",
       "      <td>1000000</td>\n",
       "    </tr>\n",
       "    <tr>\n",
       "      <th>1</th>\n",
       "      <td>2023-01-01</td>\n",
       "      <td>GOOGL</td>\n",
       "      <td>2500.0</td>\n",
       "      <td>500000</td>\n",
       "    </tr>\n",
       "    <tr>\n",
       "      <th>2</th>\n",
       "      <td>2023-01-02</td>\n",
       "      <td>AAPL</td>\n",
       "      <td>152.0</td>\n",
       "      <td>1200000</td>\n",
       "    </tr>\n",
       "    <tr>\n",
       "      <th>3</th>\n",
       "      <td>2023-01-02</td>\n",
       "      <td>GOOGL</td>\n",
       "      <td>2510.0</td>\n",
       "      <td>600000</td>\n",
       "    </tr>\n",
       "  </tbody>\n",
       "</table>\n",
       "</div>"
      ],
      "text/plain": [
       "         date  stock   price   volume\n",
       "0  2023-01-01   AAPL   150.5  1000000\n",
       "1  2023-01-01  GOOGL  2500.0   500000\n",
       "2  2023-01-02   AAPL   152.0  1200000\n",
       "3  2023-01-02  GOOGL  2510.0   600000"
      ]
     },
     "execution_count": 11,
     "metadata": {},
     "output_type": "execute_result"
    }
   ],
   "source": [
    "df"
   ]
  },
  {
   "cell_type": "code",
   "execution_count": 12,
   "id": "de03a75c-117e-4f97-a062-85c8fd0da734",
   "metadata": {},
   "outputs": [
    {
     "name": "stdout",
     "output_type": "stream",
     "text": [
      "First 2 rows of the DataFrame:\n"
     ]
    },
    {
     "data": {
      "text/html": [
       "<div>\n",
       "<style scoped>\n",
       "    .dataframe tbody tr th:only-of-type {\n",
       "        vertical-align: middle;\n",
       "    }\n",
       "\n",
       "    .dataframe tbody tr th {\n",
       "        vertical-align: top;\n",
       "    }\n",
       "\n",
       "    .dataframe thead th {\n",
       "        text-align: right;\n",
       "    }\n",
       "</style>\n",
       "<table border=\"1\" class=\"dataframe\">\n",
       "  <thead>\n",
       "    <tr style=\"text-align: right;\">\n",
       "      <th></th>\n",
       "      <th>date</th>\n",
       "      <th>stock</th>\n",
       "      <th>price</th>\n",
       "      <th>volume</th>\n",
       "    </tr>\n",
       "  </thead>\n",
       "  <tbody>\n",
       "    <tr>\n",
       "      <th>0</th>\n",
       "      <td>2023-01-01</td>\n",
       "      <td>AAPL</td>\n",
       "      <td>150.5</td>\n",
       "      <td>1000000</td>\n",
       "    </tr>\n",
       "    <tr>\n",
       "      <th>1</th>\n",
       "      <td>2023-01-01</td>\n",
       "      <td>GOOGL</td>\n",
       "      <td>2500.0</td>\n",
       "      <td>500000</td>\n",
       "    </tr>\n",
       "  </tbody>\n",
       "</table>\n",
       "</div>"
      ],
      "text/plain": [
       "         date  stock   price   volume\n",
       "0  2023-01-01   AAPL   150.5  1000000\n",
       "1  2023-01-01  GOOGL  2500.0   500000"
      ]
     },
     "execution_count": 12,
     "metadata": {},
     "output_type": "execute_result"
    }
   ],
   "source": [
    "print(\"First 2 rows of the DataFrame:\")\n",
    "df.head(2)"
   ]
  },
  {
   "cell_type": "code",
   "execution_count": 13,
   "id": "1c0a2007-9c6d-45b5-b582-0aad14145bc4",
   "metadata": {},
   "outputs": [
    {
     "name": "stdout",
     "output_type": "stream",
     "text": [
      "Last 2 rows of the DataFrame:\n"
     ]
    },
    {
     "data": {
      "text/html": [
       "<div>\n",
       "<style scoped>\n",
       "    .dataframe tbody tr th:only-of-type {\n",
       "        vertical-align: middle;\n",
       "    }\n",
       "\n",
       "    .dataframe tbody tr th {\n",
       "        vertical-align: top;\n",
       "    }\n",
       "\n",
       "    .dataframe thead th {\n",
       "        text-align: right;\n",
       "    }\n",
       "</style>\n",
       "<table border=\"1\" class=\"dataframe\">\n",
       "  <thead>\n",
       "    <tr style=\"text-align: right;\">\n",
       "      <th></th>\n",
       "      <th>date</th>\n",
       "      <th>stock</th>\n",
       "      <th>price</th>\n",
       "      <th>volume</th>\n",
       "    </tr>\n",
       "  </thead>\n",
       "  <tbody>\n",
       "    <tr>\n",
       "      <th>2</th>\n",
       "      <td>2023-01-02</td>\n",
       "      <td>AAPL</td>\n",
       "      <td>152.0</td>\n",
       "      <td>1200000</td>\n",
       "    </tr>\n",
       "    <tr>\n",
       "      <th>3</th>\n",
       "      <td>2023-01-02</td>\n",
       "      <td>GOOGL</td>\n",
       "      <td>2510.0</td>\n",
       "      <td>600000</td>\n",
       "    </tr>\n",
       "  </tbody>\n",
       "</table>\n",
       "</div>"
      ],
      "text/plain": [
       "         date  stock   price   volume\n",
       "2  2023-01-02   AAPL   152.0  1200000\n",
       "3  2023-01-02  GOOGL  2510.0   600000"
      ]
     },
     "execution_count": 13,
     "metadata": {},
     "output_type": "execute_result"
    }
   ],
   "source": [
    "print(\"Last 2 rows of the DataFrame:\")\n",
    "df.tail(2)"
   ]
  },
  {
   "cell_type": "markdown",
   "id": "80206768-77d5-4a96-8141-7513eee936d8",
   "metadata": {},
   "source": [
    "### Using info()\n",
    "\n",
    "The `info()` method provides a concise summary of your DataFrame, including the column names, non-null counts, and data types. This is particularly useful for identifying missing data and understanding the memory usage of your DataFrame."
   ]
  },
  {
   "cell_type": "code",
   "execution_count": 14,
   "id": "1ac4713c-b86d-4e7d-b1bc-02f5f105bd95",
   "metadata": {},
   "outputs": [
    {
     "name": "stdout",
     "output_type": "stream",
     "text": [
      "DataFrame info:\n",
      "<class 'pandas.core.frame.DataFrame'>\n",
      "RangeIndex: 4 entries, 0 to 3\n",
      "Data columns (total 4 columns):\n",
      " #   Column  Non-Null Count  Dtype  \n",
      "---  ------  --------------  -----  \n",
      " 0   date    4 non-null      object \n",
      " 1   stock   4 non-null      object \n",
      " 2   price   4 non-null      float64\n",
      " 3   volume  4 non-null      int64  \n",
      "dtypes: float64(1), int64(1), object(2)\n",
      "memory usage: 256.0+ bytes\n"
     ]
    }
   ],
   "source": [
    "print(\"DataFrame info:\")\n",
    "df.info()"
   ]
  },
  {
   "cell_type": "markdown",
   "id": "6eeab8be-6e57-4d3f-afeb-f0a01a93d817",
   "metadata": {},
   "source": [
    "### Using describe()\n",
    "\n",
    "The `describe()` function generates descriptive statistics of your numerical columns. This includes count, mean, standard deviation, minimum, 25th percentile, median, 75th percentile, and maximum. For financial data, this can quickly reveal important characteristics of your variables."
   ]
  },
  {
   "cell_type": "code",
   "execution_count": 15,
   "id": "ee19030a-180e-4114-bb9d-2d845ba99c76",
   "metadata": {},
   "outputs": [
    {
     "name": "stdout",
     "output_type": "stream",
     "text": [
      "Statistical summary of the DataFrame:\n"
     ]
    },
    {
     "data": {
      "text/html": [
       "<div>\n",
       "<style scoped>\n",
       "    .dataframe tbody tr th:only-of-type {\n",
       "        vertical-align: middle;\n",
       "    }\n",
       "\n",
       "    .dataframe tbody tr th {\n",
       "        vertical-align: top;\n",
       "    }\n",
       "\n",
       "    .dataframe thead th {\n",
       "        text-align: right;\n",
       "    }\n",
       "</style>\n",
       "<table border=\"1\" class=\"dataframe\">\n",
       "  <thead>\n",
       "    <tr style=\"text-align: right;\">\n",
       "      <th></th>\n",
       "      <th>count</th>\n",
       "      <th>mean</th>\n",
       "      <th>std</th>\n",
       "      <th>min</th>\n",
       "      <th>25%</th>\n",
       "      <th>50%</th>\n",
       "      <th>75%</th>\n",
       "      <th>max</th>\n",
       "    </tr>\n",
       "  </thead>\n",
       "  <tbody>\n",
       "    <tr>\n",
       "      <th>price</th>\n",
       "      <td>4.0</td>\n",
       "      <td>1328.125</td>\n",
       "      <td>1358.944466</td>\n",
       "      <td>150.5</td>\n",
       "      <td>151.625</td>\n",
       "      <td>1326.0</td>\n",
       "      <td>2502.5</td>\n",
       "      <td>2510.0</td>\n",
       "    </tr>\n",
       "    <tr>\n",
       "      <th>volume</th>\n",
       "      <td>4.0</td>\n",
       "      <td>825000.000</td>\n",
       "      <td>330403.793360</td>\n",
       "      <td>500000.0</td>\n",
       "      <td>575000.000</td>\n",
       "      <td>800000.0</td>\n",
       "      <td>1050000.0</td>\n",
       "      <td>1200000.0</td>\n",
       "    </tr>\n",
       "  </tbody>\n",
       "</table>\n",
       "</div>"
      ],
      "text/plain": [
       "        count        mean            std       min         25%       50%  \\\n",
       "price     4.0    1328.125    1358.944466     150.5     151.625    1326.0   \n",
       "volume    4.0  825000.000  330403.793360  500000.0  575000.000  800000.0   \n",
       "\n",
       "              75%        max  \n",
       "price      2502.5     2510.0  \n",
       "volume  1050000.0  1200000.0  "
      ]
     },
     "execution_count": 15,
     "metadata": {},
     "output_type": "execute_result"
    }
   ],
   "source": [
    "print(\"Statistical summary of the DataFrame:\")\n",
    "df.describe().T"
   ]
  },
  {
   "cell_type": "markdown",
   "id": "8a2731fb-c9bf-432c-9b4a-5ce7f5b8a3b1",
   "metadata": {},
   "source": [
    "### Data types and conversion\n",
    "\n",
    "Understanding and managing data types is crucial for efficient data processing and analysis. Let's check the current data types and convert them as needed:"
   ]
  },
  {
   "cell_type": "code",
   "execution_count": 16,
   "id": "647e8dd6-2d36-431a-8440-5d8d7407a0d3",
   "metadata": {},
   "outputs": [
    {
     "name": "stdout",
     "output_type": "stream",
     "text": [
      "Current data types:\n",
      "date       object\n",
      "stock      object\n",
      "price     float64\n",
      "volume      int64\n",
      "dtype: object\n",
      "\n",
      "\n",
      "Data types after conversion:\n",
      "date      datetime64[ns]\n",
      "stock             object\n",
      "price            float64\n",
      "volume             int64\n",
      "dtype: object\n",
      "\n",
      "\n"
     ]
    }
   ],
   "source": [
    "print(\"Current data types:\")\n",
    "print(df.dtypes)\n",
    "print(\"\\n\")\n",
    "\n",
    "# Convert 'date' column to datetime\n",
    "df['date'] = pd.to_datetime(df['date'])\n",
    "\n",
    "# Convert 'price' to float (it's already float, but this is for demonstration)\n",
    "df['price'] = df['price'].astype(float)\n",
    "\n",
    "print(\"Data types after conversion:\")\n",
    "print(df.dtypes)\n",
    "print(\"\\n\")"
   ]
  },
  {
   "cell_type": "markdown",
   "id": "9980043b-38a1-4a81-a066-0ab5108d7f84",
   "metadata": {},
   "source": [
    "### Shape and size of DataFrames\n",
    "\n",
    "Knowing the dimensions of your DataFrame is important for understanding the scale of your data and ensuring it matches your expectations."
   ]
  },
  {
   "cell_type": "code",
   "execution_count": 17,
   "id": "f1403404-df6b-49bf-ac93-3b96c6dc9090",
   "metadata": {},
   "outputs": [
    {
     "name": "stdout",
     "output_type": "stream",
     "text": [
      "DataFrame shape: (4, 4)\n",
      "DataFrame size (total number of elements): 16\n",
      "DataFrame memory usage:\n",
      "Index     128\n",
      "date       32\n",
      "stock     246\n",
      "price      32\n",
      "volume     32\n",
      "dtype: int64\n"
     ]
    }
   ],
   "source": [
    "print(\"DataFrame shape:\", df.shape)\n",
    "print(\"DataFrame size (total number of elements):\", df.size)\n",
    "print(\"DataFrame memory usage:\")\n",
    "print(df.memory_usage(deep=True))"
   ]
  },
  {
   "cell_type": "markdown",
   "id": "cb9d0b33-231a-4fa2-9b01-dcc030ccf5ae",
   "metadata": {},
   "source": [
    "## 5. Data Selection and Indexing\n",
    "\n",
    "Accessing Data in a DataFrame: Indexing and Slicing\n",
    "\n",
    "Once you have a DataFrame, you’ll want to access specific rows or columns. pandas offers two primary ways of doing this:\n",
    "\n",
    "* .loc[]: Label-based indexing. Use when you know the row and column labels (i.e., names).\n",
    "* .iloc[]: Integer-location based indexing. Use when you want to access data by position (i.e., row and column numbers).\n",
    "<br>\n",
    "<br>\n",
    "Let’s start with label-based indexing using .loc[]. This method allows you to access rows and columns by their names:\n",
    "\n",
    "### Using loc for label-based indexing\n",
    "The `loc` accessor is used for label-based indexing. It's particularly useful when you want to select data based on column names or index labels. This method is intuitive when working with data that has meaningful row and column labels, such as dates or stock tickers.\n",
    "\n",
    "Key features of `loc`:\n",
    "- Selects data based on labels\n",
    "- Inclusive of both start and end labels\n",
    "- Can use boolean arrays for filtering\n",
    "- Allows for selecting both rows and columns simultaneously"
   ]
  },
  {
   "cell_type": "code",
   "execution_count": 18,
   "id": "b75ecf5a-82b9-4548-a924-69a29da44e51",
   "metadata": {},
   "outputs": [
    {
     "data": {
      "text/html": [
       "<div>\n",
       "<style scoped>\n",
       "    .dataframe tbody tr th:only-of-type {\n",
       "        vertical-align: middle;\n",
       "    }\n",
       "\n",
       "    .dataframe tbody tr th {\n",
       "        vertical-align: top;\n",
       "    }\n",
       "\n",
       "    .dataframe thead th {\n",
       "        text-align: right;\n",
       "    }\n",
       "</style>\n",
       "<table border=\"1\" class=\"dataframe\">\n",
       "  <thead>\n",
       "    <tr style=\"text-align: right;\">\n",
       "      <th></th>\n",
       "      <th>date</th>\n",
       "      <th>stock</th>\n",
       "      <th>price</th>\n",
       "      <th>volume</th>\n",
       "    </tr>\n",
       "  </thead>\n",
       "  <tbody>\n",
       "    <tr>\n",
       "      <th>0</th>\n",
       "      <td>2023-01-01</td>\n",
       "      <td>AAPL</td>\n",
       "      <td>150.5</td>\n",
       "      <td>1000000</td>\n",
       "    </tr>\n",
       "    <tr>\n",
       "      <th>1</th>\n",
       "      <td>2023-01-01</td>\n",
       "      <td>GOOGL</td>\n",
       "      <td>2500.0</td>\n",
       "      <td>500000</td>\n",
       "    </tr>\n",
       "    <tr>\n",
       "      <th>2</th>\n",
       "      <td>2023-01-02</td>\n",
       "      <td>AAPL</td>\n",
       "      <td>152.0</td>\n",
       "      <td>1200000</td>\n",
       "    </tr>\n",
       "    <tr>\n",
       "      <th>3</th>\n",
       "      <td>2023-01-02</td>\n",
       "      <td>GOOGL</td>\n",
       "      <td>2510.0</td>\n",
       "      <td>600000</td>\n",
       "    </tr>\n",
       "  </tbody>\n",
       "</table>\n",
       "</div>"
      ],
      "text/plain": [
       "        date  stock   price   volume\n",
       "0 2023-01-01   AAPL   150.5  1000000\n",
       "1 2023-01-01  GOOGL  2500.0   500000\n",
       "2 2023-01-02   AAPL   152.0  1200000\n",
       "3 2023-01-02  GOOGL  2510.0   600000"
      ]
     },
     "execution_count": 18,
     "metadata": {},
     "output_type": "execute_result"
    }
   ],
   "source": [
    "df"
   ]
  },
  {
   "cell_type": "code",
   "execution_count": 19,
   "id": "df2b8114-4eca-4341-9e49-17203f542460",
   "metadata": {},
   "outputs": [
    {
     "name": "stdout",
     "output_type": "stream",
     "text": [
      "Row with index 2:\n",
      "date      2023-01-02 00:00:00\n",
      "stock                    AAPL\n",
      "price                   152.0\n",
      "volume                1200000\n",
      "Name: 2, dtype: object\n",
      "\n",
      "Rows 1 to 3, columns 'stock' and 'price':\n",
      "   stock   price\n",
      "1  GOOGL  2500.0\n",
      "2   AAPL   152.0\n",
      "3  GOOGL  2510.0\n"
     ]
    }
   ],
   "source": [
    "# Select a single row by label\n",
    "print(\"Row with index 2:\")\n",
    "print(df.loc[2])\n",
    "\n",
    "# Select multiple rows and columns by label\n",
    "print(\"\\nRows 1 to 3, columns 'stock' and 'price':\")\n",
    "print(df.loc[1:3, ['stock', 'price']])"
   ]
  },
  {
   "cell_type": "markdown",
   "id": "a6241c0c-c70b-4946-b575-03f664694dad",
   "metadata": {},
   "source": [
    "### Using iloc for integer-based indexing\n",
    "The `iloc` accessor is used for integer-location based indexing. It's useful when you want to select data based on its numerical position, regardless of its label. This method is particularly handy when working with data where the position is more relevant than the label, or when you're dealing with large datasets and need to select ranges efficiently.\n",
    "\n",
    "Key features of `iloc`:\n",
    "- Selects data based on integer position\n",
    "- Follows Python's 0-based indexing\n",
    "- End index is exclusive (unlike `loc`)\n",
    "- Can use integer arrays or slices for selection\n",
    "- Also allows for selecting both rows and columns simultaneously"
   ]
  },
  {
   "cell_type": "code",
   "execution_count": 20,
   "id": "bcf01f96-abbd-449c-bdaa-82befe111295",
   "metadata": {},
   "outputs": [
    {
     "name": "stdout",
     "output_type": "stream",
     "text": [
      "\n",
      "Third row:\n",
      "date      2023-01-02 00:00:00\n",
      "stock                    AAPL\n",
      "price                   152.0\n",
      "volume                1200000\n",
      "Name: 2, dtype: object\n",
      "\n",
      "Rows 1 to 3, columns 1 and 2:\n",
      "   stock   price\n",
      "1  GOOGL  2500.0\n",
      "2   AAPL   152.0\n",
      "3  GOOGL  2510.0\n"
     ]
    }
   ],
   "source": [
    "# Select a single row by integer index\n",
    "print(\"\\nThird row:\")\n",
    "print(df.iloc[2])\n",
    "\n",
    "# Select multiple rows and columns by integer index\n",
    "print(\"\\nRows 1 to 3, columns 1 and 2:\")\n",
    "print(df.iloc[1:4, 1:3])"
   ]
  },
  {
   "cell_type": "markdown",
   "id": "68bf2bd1-992a-4ccf-a64b-9542851e26ee",
   "metadata": {},
   "source": [
    "#### Lets put the date in the index to showcase this"
   ]
  },
  {
   "cell_type": "code",
   "execution_count": 21,
   "id": "16f5a7a3-6039-4570-8cec-cd38768459e4",
   "metadata": {},
   "outputs": [
    {
     "data": {
      "text/html": [
       "<div>\n",
       "<style scoped>\n",
       "    .dataframe tbody tr th:only-of-type {\n",
       "        vertical-align: middle;\n",
       "    }\n",
       "\n",
       "    .dataframe tbody tr th {\n",
       "        vertical-align: top;\n",
       "    }\n",
       "\n",
       "    .dataframe thead th {\n",
       "        text-align: right;\n",
       "    }\n",
       "</style>\n",
       "<table border=\"1\" class=\"dataframe\">\n",
       "  <thead>\n",
       "    <tr style=\"text-align: right;\">\n",
       "      <th></th>\n",
       "      <th>date</th>\n",
       "      <th>stock</th>\n",
       "      <th>price</th>\n",
       "      <th>volume</th>\n",
       "    </tr>\n",
       "    <tr>\n",
       "      <th>date</th>\n",
       "      <th></th>\n",
       "      <th></th>\n",
       "      <th></th>\n",
       "      <th></th>\n",
       "    </tr>\n",
       "  </thead>\n",
       "  <tbody>\n",
       "    <tr>\n",
       "      <th>2023-01-01</th>\n",
       "      <td>2023-01-01</td>\n",
       "      <td>AAPL</td>\n",
       "      <td>150.5</td>\n",
       "      <td>1000000</td>\n",
       "    </tr>\n",
       "    <tr>\n",
       "      <th>2023-01-01</th>\n",
       "      <td>2023-01-01</td>\n",
       "      <td>GOOGL</td>\n",
       "      <td>2500.0</td>\n",
       "      <td>500000</td>\n",
       "    </tr>\n",
       "    <tr>\n",
       "      <th>2023-01-02</th>\n",
       "      <td>2023-01-02</td>\n",
       "      <td>AAPL</td>\n",
       "      <td>152.0</td>\n",
       "      <td>1200000</td>\n",
       "    </tr>\n",
       "    <tr>\n",
       "      <th>2023-01-02</th>\n",
       "      <td>2023-01-02</td>\n",
       "      <td>GOOGL</td>\n",
       "      <td>2510.0</td>\n",
       "      <td>600000</td>\n",
       "    </tr>\n",
       "  </tbody>\n",
       "</table>\n",
       "</div>"
      ],
      "text/plain": [
       "                 date  stock   price   volume\n",
       "date                                         \n",
       "2023-01-01 2023-01-01   AAPL   150.5  1000000\n",
       "2023-01-01 2023-01-01  GOOGL  2500.0   500000\n",
       "2023-01-02 2023-01-02   AAPL   152.0  1200000\n",
       "2023-01-02 2023-01-02  GOOGL  2510.0   600000"
      ]
     },
     "execution_count": 21,
     "metadata": {},
     "output_type": "execute_result"
    }
   ],
   "source": [
    "df.index = pd.to_datetime(df['date'])\n",
    "df"
   ]
  },
  {
   "cell_type": "code",
   "execution_count": 22,
   "id": "6b1e6f3f-8844-4959-9267-8d43f3d48387",
   "metadata": {
    "scrolled": true,
    "tags": []
   },
   "outputs": [
    {
     "ename": "KeyError",
     "evalue": "1",
     "output_type": "error",
     "traceback": [
      "\u001b[0;31m---------------------------------------------------------------------------\u001b[0m",
      "\u001b[0;31mKeyError\u001b[0m                                  Traceback (most recent call last)",
      "Cell \u001b[0;32mIn [22], line 1\u001b[0m\n\u001b[0;32m----> 1\u001b[0m \u001b[43mdf\u001b[49m\u001b[38;5;241;43m.\u001b[39;49m\u001b[43mloc\u001b[49m\u001b[43m[\u001b[49m\u001b[38;5;241;43m1\u001b[39;49m\u001b[43m]\u001b[49m\n",
      "File \u001b[0;32m~/.local/lib/python3.8/site-packages/pandas/core/indexing.py:1103\u001b[0m, in \u001b[0;36m_LocationIndexer.__getitem__\u001b[0;34m(self, key)\u001b[0m\n\u001b[1;32m   1100\u001b[0m axis \u001b[38;5;241m=\u001b[39m \u001b[38;5;28mself\u001b[39m\u001b[38;5;241m.\u001b[39maxis \u001b[38;5;129;01mor\u001b[39;00m \u001b[38;5;241m0\u001b[39m\n\u001b[1;32m   1102\u001b[0m maybe_callable \u001b[38;5;241m=\u001b[39m com\u001b[38;5;241m.\u001b[39mapply_if_callable(key, \u001b[38;5;28mself\u001b[39m\u001b[38;5;241m.\u001b[39mobj)\n\u001b[0;32m-> 1103\u001b[0m \u001b[38;5;28;01mreturn\u001b[39;00m \u001b[38;5;28;43mself\u001b[39;49m\u001b[38;5;241;43m.\u001b[39;49m\u001b[43m_getitem_axis\u001b[49m\u001b[43m(\u001b[49m\u001b[43mmaybe_callable\u001b[49m\u001b[43m,\u001b[49m\u001b[43m \u001b[49m\u001b[43maxis\u001b[49m\u001b[38;5;241;43m=\u001b[39;49m\u001b[43maxis\u001b[49m\u001b[43m)\u001b[49m\n",
      "File \u001b[0;32m~/.local/lib/python3.8/site-packages/pandas/core/indexing.py:1343\u001b[0m, in \u001b[0;36m_LocIndexer._getitem_axis\u001b[0;34m(self, key, axis)\u001b[0m\n\u001b[1;32m   1341\u001b[0m \u001b[38;5;66;03m# fall thru to straight lookup\u001b[39;00m\n\u001b[1;32m   1342\u001b[0m \u001b[38;5;28mself\u001b[39m\u001b[38;5;241m.\u001b[39m_validate_key(key, axis)\n\u001b[0;32m-> 1343\u001b[0m \u001b[38;5;28;01mreturn\u001b[39;00m \u001b[38;5;28;43mself\u001b[39;49m\u001b[38;5;241;43m.\u001b[39;49m\u001b[43m_get_label\u001b[49m\u001b[43m(\u001b[49m\u001b[43mkey\u001b[49m\u001b[43m,\u001b[49m\u001b[43m \u001b[49m\u001b[43maxis\u001b[49m\u001b[38;5;241;43m=\u001b[39;49m\u001b[43maxis\u001b[49m\u001b[43m)\u001b[49m\n",
      "File \u001b[0;32m~/.local/lib/python3.8/site-packages/pandas/core/indexing.py:1293\u001b[0m, in \u001b[0;36m_LocIndexer._get_label\u001b[0;34m(self, label, axis)\u001b[0m\n\u001b[1;32m   1291\u001b[0m \u001b[38;5;28;01mdef\u001b[39;00m \u001b[38;5;21m_get_label\u001b[39m(\u001b[38;5;28mself\u001b[39m, label, axis: AxisInt):\n\u001b[1;32m   1292\u001b[0m     \u001b[38;5;66;03m# GH#5567 this will fail if the label is not present in the axis.\u001b[39;00m\n\u001b[0;32m-> 1293\u001b[0m     \u001b[38;5;28;01mreturn\u001b[39;00m \u001b[38;5;28;43mself\u001b[39;49m\u001b[38;5;241;43m.\u001b[39;49m\u001b[43mobj\u001b[49m\u001b[38;5;241;43m.\u001b[39;49m\u001b[43mxs\u001b[49m\u001b[43m(\u001b[49m\u001b[43mlabel\u001b[49m\u001b[43m,\u001b[49m\u001b[43m \u001b[49m\u001b[43maxis\u001b[49m\u001b[38;5;241;43m=\u001b[39;49m\u001b[43maxis\u001b[49m\u001b[43m)\u001b[49m\n",
      "File \u001b[0;32m~/.local/lib/python3.8/site-packages/pandas/core/generic.py:4095\u001b[0m, in \u001b[0;36mNDFrame.xs\u001b[0;34m(self, key, axis, level, drop_level)\u001b[0m\n\u001b[1;32m   4093\u001b[0m             new_index \u001b[38;5;241m=\u001b[39m index[loc]\n\u001b[1;32m   4094\u001b[0m \u001b[38;5;28;01melse\u001b[39;00m:\n\u001b[0;32m-> 4095\u001b[0m     loc \u001b[38;5;241m=\u001b[39m \u001b[43mindex\u001b[49m\u001b[38;5;241;43m.\u001b[39;49m\u001b[43mget_loc\u001b[49m\u001b[43m(\u001b[49m\u001b[43mkey\u001b[49m\u001b[43m)\u001b[49m\n\u001b[1;32m   4097\u001b[0m     \u001b[38;5;28;01mif\u001b[39;00m \u001b[38;5;28misinstance\u001b[39m(loc, np\u001b[38;5;241m.\u001b[39mndarray):\n\u001b[1;32m   4098\u001b[0m         \u001b[38;5;28;01mif\u001b[39;00m loc\u001b[38;5;241m.\u001b[39mdtype \u001b[38;5;241m==\u001b[39m np\u001b[38;5;241m.\u001b[39mbool_:\n",
      "File \u001b[0;32m~/.local/lib/python3.8/site-packages/pandas/core/indexes/datetimes.py:581\u001b[0m, in \u001b[0;36mDatetimeIndex.get_loc\u001b[0;34m(self, key)\u001b[0m\n\u001b[1;32m    577\u001b[0m     \u001b[38;5;28;01mreturn\u001b[39;00m \u001b[38;5;28mself\u001b[39m\u001b[38;5;241m.\u001b[39mindexer_at_time(key)\n\u001b[1;32m    579\u001b[0m \u001b[38;5;28;01melse\u001b[39;00m:\n\u001b[1;32m    580\u001b[0m     \u001b[38;5;66;03m# unrecognized type\u001b[39;00m\n\u001b[0;32m--> 581\u001b[0m     \u001b[38;5;28;01mraise\u001b[39;00m \u001b[38;5;167;01mKeyError\u001b[39;00m(key)\n\u001b[1;32m    583\u001b[0m \u001b[38;5;28;01mtry\u001b[39;00m:\n\u001b[1;32m    584\u001b[0m     \u001b[38;5;28;01mreturn\u001b[39;00m Index\u001b[38;5;241m.\u001b[39mget_loc(\u001b[38;5;28mself\u001b[39m, key)\n",
      "\u001b[0;31mKeyError\u001b[0m: 1"
     ]
    }
   ],
   "source": [
    "df.loc[1]"
   ]
  },
  {
   "cell_type": "code",
   "execution_count": 23,
   "id": "b249a1c7-a6c7-4f30-bbcc-d0d10319c5a2",
   "metadata": {},
   "outputs": [
    {
     "data": {
      "text/plain": [
       "date      2023-01-01 00:00:00\n",
       "stock                   GOOGL\n",
       "price                  2500.0\n",
       "volume                 500000\n",
       "Name: 2023-01-01 00:00:00, dtype: object"
      ]
     },
     "execution_count": 23,
     "metadata": {},
     "output_type": "execute_result"
    }
   ],
   "source": [
    "df.iloc[1]"
   ]
  },
  {
   "cell_type": "markdown",
   "id": "0115a57c-87bd-429e-b81e-51b591f4c79c",
   "metadata": {},
   "source": [
    "### Boolean indexing\n",
    "Both `loc` and `iloc` can be used with boolean arrays, allowing for powerful conditional selection of data. This is particularly useful in financial analysis for filtering data based on certain conditions."
   ]
  },
  {
   "cell_type": "code",
   "execution_count": 24,
   "id": "17503eb4-3d91-44c4-a001-4568c7e3608c",
   "metadata": {},
   "outputs": [
    {
     "name": "stdout",
     "output_type": "stream",
     "text": [
      "\n",
      "Stocks with price > 300:\n",
      "                 date  stock   price  volume\n",
      "date                                        \n",
      "2023-01-01 2023-01-01  GOOGL  2500.0  500000\n",
      "2023-01-02 2023-01-02  GOOGL  2510.0  600000\n",
      "\n",
      "Stocks with price > 200 and volume > 700000:\n",
      "Empty DataFrame\n",
      "Columns: [date, stock, price, volume]\n",
      "Index: []\n"
     ]
    }
   ],
   "source": [
    "# Select rows where price is greater than 300\n",
    "high_price = df[df['price'] > 300]\n",
    "print(\"\\nStocks with price > 300:\")\n",
    "print(high_price)\n",
    "\n",
    "# Select rows with multiple conditions\n",
    "condition = (df['price'] > 200) & (df['volume'] > 700000)\n",
    "filtered_df = df[condition]\n",
    "print(\"\\nStocks with price > 200 and volume > 700000:\")\n",
    "print(filtered_df)"
   ]
  },
  {
   "cell_type": "markdown",
   "id": "78b7de40-825e-4228-a818-9bd5559a3d4a",
   "metadata": {},
   "source": [
    "## 6. Data Cleaning and Preprocessing\n",
    "\n",
    "### Data Cleaning and Preparation\n",
    "\n",
    "Real-world datasets are often messy and require cleaning before analysis. pandas provides powerful tools for handling missing values, removing duplicates, and transforming data.\n",
    "\n",
    "#### Handling Missing Data in pandas\n",
    "\n",
    "In almost every dataset, you will encounter missing data. pandas offers a variety of methods to handle missing values, allowing you to clean your data and ensure accuracy in your analysis.\n",
    "\n",
    "#### Why is Handling Missing Data Important?\n",
    "\n",
    "Missing data can distort analysis results if not handled properly. Whether you're performing statistical calculations or feeding data into machine learning models, it's crucial to deal with missing values appropriately.\n",
    "\n",
    "#### What will we do? In this section, we will:\n",
    "1. Identify missing values in your DataFrame.\n",
    "2. Use .dropna() to remove rows or columns with missing data.\n",
    "3. Use .fillna() to replace missing values with meaningful substitutes.\n",
    "4. Apply interpolation techniques to estimate missing values.\n",
    "\n",
    "\n",
    "#### Key Concepts:\n",
    "* Identifying Missing Data: Use .isnull() and .notnull() to check for missing values.\n",
    "* Removing Missing Data: Use .dropna() to remove rows or columns with missing data.\n",
    "* Filling Missing Data: Use .fillna() to replace missing values with a specific value (e.g., mean, median, or mode).\n",
    "* Interpolation: Use methods like forward-filling or backward-filling to estimate missing data points."
   ]
  },
  {
   "cell_type": "code",
   "execution_count": 25,
   "id": "2251f03d-dbb1-4ec4-b09d-c4f7239a2d2c",
   "metadata": {},
   "outputs": [
    {
     "name": "stdout",
     "output_type": "stream",
     "text": [
      "Original DataFrame:\n",
      "         date  stock   price   volume\n",
      "0  2023-01-01   AAPL   150.5  1000000\n",
      "1  2023-01-02  GOOGL  2500.0   500000\n",
      "2  2023-01-02  GOOGL  2500.0   500000\n",
      "3  2023-01-03   MSFT   300.0  1200000\n",
      "4  2023-01-04   AMZN     NaN   600000\n"
     ]
    }
   ],
   "source": [
    "# Create a sample DataFrame with some issues\n",
    "data = {\n",
    "    'date': ['2023-01-01', '2023-01-02', '2023-01-02', '2023-01-03', '2023-01-04'],\n",
    "    'stock': ['AAPL', 'GOOGL', 'GOOGL', 'MSFT', 'AMZN'],\n",
    "    'price': [150.5, 2500.0, 2500.0, 300.0, np.nan],\n",
    "    'volume': [1000000, 500000, 500000, 1200000, 600000]\n",
    "}\n",
    "df = pd.DataFrame(data)\n",
    "\n",
    "print(\"Original DataFrame:\")\n",
    "print(df)\n"
   ]
  },
  {
   "cell_type": "markdown",
   "id": "44ade31f-590c-416c-8a4d-3f17b7f08447",
   "metadata": {},
   "source": [
    "### Handling duplicates\n"
   ]
  },
  {
   "cell_type": "code",
   "execution_count": 26,
   "id": "15a511cd-b640-4455-8e98-8292fe7e085a",
   "metadata": {},
   "outputs": [
    {
     "name": "stdout",
     "output_type": "stream",
     "text": [
      "\n",
      "Duplicate rows:\n",
      "         date  stock   price  volume\n",
      "2  2023-01-02  GOOGL  2500.0  500000\n",
      "\n",
      "DataFrame with duplicates removed:\n",
      "         date  stock   price   volume\n",
      "0  2023-01-01   AAPL   150.5  1000000\n",
      "1  2023-01-02  GOOGL  2500.0   500000\n",
      "3  2023-01-03   MSFT   300.0  1200000\n",
      "4  2023-01-04   AMZN     NaN   600000\n"
     ]
    }
   ],
   "source": [
    "# Check for duplicate rows\n",
    "print(\"\\nDuplicate rows:\")\n",
    "print(df[df.duplicated()])\n",
    "\n",
    "# Remove duplicate rows\n",
    "df_no_duplicates = df.drop_duplicates()\n",
    "print(\"\\nDataFrame with duplicates removed:\")\n",
    "print(df_no_duplicates)"
   ]
  },
  {
   "cell_type": "markdown",
   "id": "d2967cbe-80f1-46f1-a01f-5c952580a3e3",
   "metadata": {},
   "source": [
    "### Renaming columns"
   ]
  },
  {
   "cell_type": "code",
   "execution_count": 27,
   "id": "0487eef8-6483-4716-a870-b36b02d3952c",
   "metadata": {},
   "outputs": [
    {
     "name": "stdout",
     "output_type": "stream",
     "text": [
      "\n",
      "DataFrame with renamed columns:\n",
      "         date ticker  closing_price   volume\n",
      "0  2023-01-01   AAPL          150.5  1000000\n",
      "1  2023-01-02  GOOGL         2500.0   500000\n",
      "3  2023-01-03   MSFT          300.0  1200000\n",
      "4  2023-01-04   AMZN            NaN   600000\n"
     ]
    }
   ],
   "source": [
    "# Rename 'stock' to 'ticker' and 'price' to 'closing_price'\n",
    "df_renamed = df_no_duplicates.rename(columns={'stock': 'ticker', 'price': 'closing_price'})\n",
    "print(\"\\nDataFrame with renamed columns:\")\n",
    "print(df_renamed)"
   ]
  },
  {
   "cell_type": "markdown",
   "id": "00ea0d81-e09f-4f71-a2cd-795b05383ea1",
   "metadata": {},
   "source": [
    "## 7. Handling Missing Data\n",
    "Missing data is a common issue in real-world datasets, especially in finance where information might not be available for all time periods or all companies. Pandas provides several methods to detect, visualize, and handle missing values. Let's explore these techniques:\n",
    "\n",
    "1. Identifying missing data\n",
    "2. Filling missing values\n",
    "3. Dropping missing data\n",
    "\n",
    "### Identifying missing data"
   ]
  },
  {
   "cell_type": "code",
   "execution_count": 28,
   "id": "84f505ea-cfe0-4f8b-9916-6b81343533ea",
   "metadata": {},
   "outputs": [
    {
     "name": "stdout",
     "output_type": "stream",
     "text": [
      "DataFrame with missing values:\n",
      "         date ticker  closing_price   volume\n",
      "0  2023-01-01   AAPL          150.5  1000000\n",
      "1  2023-01-02  GOOGL         2500.0   500000\n",
      "3  2023-01-03   MSFT          300.0  1200000\n",
      "4  2023-01-04   AMZN            NaN   600000\n"
     ]
    }
   ],
   "source": [
    "# Continue with the DataFrame from the previous section\n",
    "\n",
    "print(\"DataFrame with missing values:\")\n",
    "print(df_renamed)"
   ]
  },
  {
   "cell_type": "markdown",
   "id": "9763f537-ea12-4636-9b41-885a0b938aca",
   "metadata": {},
   "source": [
    "### Identifying missing data\n",
    "\n",
    "First we need to understand our data. How much is missing and in what columns?"
   ]
  },
  {
   "cell_type": "code",
   "execution_count": 29,
   "id": "6f9ca5d0-3bc4-48ad-a8c4-162b6b6fd00c",
   "metadata": {},
   "outputs": [
    {
     "name": "stdout",
     "output_type": "stream",
     "text": [
      "\n",
      "Missing values:\n",
      "date             0\n",
      "ticker           0\n",
      "closing_price    1\n",
      "volume           0\n",
      "dtype: int64\n"
     ]
    }
   ],
   "source": [
    "# Check for missing values\n",
    "print(\"\\nMissing values:\")\n",
    "print(df_renamed.isnull().sum())"
   ]
  },
  {
   "cell_type": "markdown",
   "id": "4fda60b6-3738-4c3a-8eb9-5bda9b6fa7ba",
   "metadata": {},
   "source": [
    "### Filling missing values\n",
    "\n",
    "We can fill missing values using various methods such as forward fill, backward fill, or filling with a specific value (like mean or median)."
   ]
  },
  {
   "cell_type": "code",
   "execution_count": 30,
   "id": "12a7ffc4-2397-423b-a078-c0563939c02e",
   "metadata": {},
   "outputs": [
    {
     "name": "stdout",
     "output_type": "stream",
     "text": [
      "\n",
      "DataFrame with missing values filled:\n",
      "         date ticker  closing_price   volume\n",
      "0  2023-01-01   AAPL          150.5  1000000\n",
      "1  2023-01-02  GOOGL         2500.0   500000\n",
      "3  2023-01-03   MSFT          300.0  1200000\n",
      "4  2023-01-04   AMZN          983.5   600000\n"
     ]
    }
   ],
   "source": [
    "from pandas.api.types import is_numeric_dtype\n",
    "\n",
    "# Fill numeric columns with their mean and non-numeric columns with 'Unknown'\n",
    "df_filled = df_renamed.copy()\n",
    "for column in df_filled.columns:\n",
    "    if is_numeric_dtype(df_filled[column]):  # Check if the column is numeric\n",
    "        df_filled[column].fillna(df_filled[column].mean(), inplace=True)\n",
    "    else:\n",
    "        df_filled[column].fillna('Unknown', inplace=True)\n",
    "\n",
    "print(\"\\nDataFrame with missing values filled:\")\n",
    "print(df_filled)"
   ]
  },
  {
   "cell_type": "code",
   "execution_count": 31,
   "id": "346dc7a2-8199-4860-8ae5-00204ced8d33",
   "metadata": {},
   "outputs": [
    {
     "name": "stdout",
     "output_type": "stream",
     "text": [
      "\n",
      "Missing values:\n",
      "date             0\n",
      "ticker           0\n",
      "closing_price    0\n",
      "volume           0\n",
      "dtype: int64\n"
     ]
    }
   ],
   "source": [
    "# Check for missing values\n",
    "print(\"\\nMissing values:\")\n",
    "print(df_filled.isnull().sum())"
   ]
  },
  {
   "cell_type": "markdown",
   "id": "32d64f68-fd38-4dcb-b117-c48191dd66e3",
   "metadata": {},
   "source": [
    "### Dropping missing data\n",
    "\n",
    "Sometimes, it's appropriate to simply remove rows or columns with missing data, especially if the missing data is sparse.\n"
   ]
  },
  {
   "cell_type": "code",
   "execution_count": 32,
   "id": "15123003-7c1d-4aa5-a6e6-75a2b3b598a9",
   "metadata": {},
   "outputs": [
    {
     "name": "stdout",
     "output_type": "stream",
     "text": [
      "\n",
      "DataFrame with rows containing missing values dropped:\n",
      "         date ticker  closing_price   volume\n",
      "0  2023-01-01   AAPL          150.5  1000000\n",
      "1  2023-01-02  GOOGL         2500.0   500000\n",
      "3  2023-01-03   MSFT          300.0  1200000\n"
     ]
    }
   ],
   "source": [
    "# Drop rows with any missing values\n",
    "df_dropped = df_renamed.dropna()\n",
    "print(\"\\nDataFrame with rows containing missing values dropped:\")\n",
    "print(df_dropped)"
   ]
  },
  {
   "cell_type": "markdown",
   "id": "c2aa2e24-2809-4018-ae22-f4a278536f63",
   "metadata": {},
   "source": [
    "## 8. Data Transformation\n",
    "\n",
    "### Advanced Data Wrangling: Reshaping Data with melt() and pivot()\n",
    "\n",
    "Reshaping data is a crucial part of data cleaning and analysis. Data often comes in formats that are not ideal for analysis, especially when working with multiple variables or time series data. pandas provides powerful tools for reshaping your data into the format you need, using the melt() and pivot() functions.\n",
    "\n",
    "### Why is Reshaping Important?\n",
    "Long Format: Ideal for plotting and statistical analysis, as it allows for easier groupings and comparisons.\n",
    "Wide Format: More human-readable, and often used in summary reports where each observation has its own column.\n",
    "\n",
    "<b>For our applications we almost always want the long format.</b>\n",
    "\n",
    "### What will we do? In this section, we will:\n",
    "1. Use melt() to transform wide data into long format.\n",
    "2. Use pivot() to transform long data into wide format.\n",
    "3. Understand when and why you would use these transformations.\n",
    "\n",
    "\n",
    "### Key Concepts:\n",
    "* Melting: Transforming columns into rows to create a long format, which is often more suitable for plotting or analysis.\n",
    "* Pivoting: The reverse of melting, transforming rows back into columns to create a wide format."
   ]
  },
  {
   "cell_type": "markdown",
   "id": "5edd378b-e63b-43cd-a25e-bd1f56110957",
   "metadata": {},
   "source": [
    "### Reshape: Wide to Long format"
   ]
  },
  {
   "cell_type": "code",
   "execution_count": 33,
   "id": "266293b4-8b06-499d-9961-34b5d770692c",
   "metadata": {},
   "outputs": [
    {
     "data": {
      "text/html": [
       "<div>\n",
       "<style scoped>\n",
       "    .dataframe tbody tr th:only-of-type {\n",
       "        vertical-align: middle;\n",
       "    }\n",
       "\n",
       "    .dataframe tbody tr th {\n",
       "        vertical-align: top;\n",
       "    }\n",
       "\n",
       "    .dataframe thead th {\n",
       "        text-align: right;\n",
       "    }\n",
       "</style>\n",
       "<table border=\"1\" class=\"dataframe\">\n",
       "  <thead>\n",
       "    <tr style=\"text-align: right;\">\n",
       "      <th></th>\n",
       "      <th>date</th>\n",
       "      <th>stock</th>\n",
       "      <th>price</th>\n",
       "      <th>volume</th>\n",
       "    </tr>\n",
       "  </thead>\n",
       "  <tbody>\n",
       "    <tr>\n",
       "      <th>0</th>\n",
       "      <td>2023-01-01</td>\n",
       "      <td>AAPL</td>\n",
       "      <td>150.5</td>\n",
       "      <td>1000000</td>\n",
       "    </tr>\n",
       "    <tr>\n",
       "      <th>1</th>\n",
       "      <td>2023-01-02</td>\n",
       "      <td>GOOGL</td>\n",
       "      <td>2500.0</td>\n",
       "      <td>500000</td>\n",
       "    </tr>\n",
       "    <tr>\n",
       "      <th>2</th>\n",
       "      <td>2023-01-02</td>\n",
       "      <td>GOOGL</td>\n",
       "      <td>2500.0</td>\n",
       "      <td>500000</td>\n",
       "    </tr>\n",
       "    <tr>\n",
       "      <th>3</th>\n",
       "      <td>2023-01-03</td>\n",
       "      <td>MSFT</td>\n",
       "      <td>300.0</td>\n",
       "      <td>1200000</td>\n",
       "    </tr>\n",
       "    <tr>\n",
       "      <th>4</th>\n",
       "      <td>2023-01-04</td>\n",
       "      <td>AMZN</td>\n",
       "      <td>NaN</td>\n",
       "      <td>600000</td>\n",
       "    </tr>\n",
       "  </tbody>\n",
       "</table>\n",
       "</div>"
      ],
      "text/plain": [
       "         date  stock   price   volume\n",
       "0  2023-01-01   AAPL   150.5  1000000\n",
       "1  2023-01-02  GOOGL  2500.0   500000\n",
       "2  2023-01-02  GOOGL  2500.0   500000\n",
       "3  2023-01-03   MSFT   300.0  1200000\n",
       "4  2023-01-04   AMZN     NaN   600000"
      ]
     },
     "execution_count": 33,
     "metadata": {},
     "output_type": "execute_result"
    }
   ],
   "source": [
    "df"
   ]
  },
  {
   "cell_type": "code",
   "execution_count": 34,
   "id": "f183819d-703d-4959-add3-f544d44cc230",
   "metadata": {},
   "outputs": [
    {
     "name": "stdout",
     "output_type": "stream",
     "text": [
      "\n",
      "DataFrame in long format:\n",
      "         date  stock  metric      value\n",
      "0  2023-01-01   AAPL   price      150.5\n",
      "1  2023-01-02  GOOGL   price     2500.0\n",
      "2  2023-01-02  GOOGL   price     2500.0\n",
      "3  2023-01-03   MSFT   price      300.0\n",
      "4  2023-01-04   AMZN   price        NaN\n",
      "5  2023-01-01   AAPL  volume  1000000.0\n",
      "6  2023-01-02  GOOGL  volume   500000.0\n",
      "7  2023-01-02  GOOGL  volume   500000.0\n",
      "8  2023-01-03   MSFT  volume  1200000.0\n",
      "9  2023-01-04   AMZN  volume   600000.0\n"
     ]
    }
   ],
   "source": [
    "# Melt the DataFrame to long format\n",
    "df_long = pd.melt(df, id_vars=['date', 'stock'], var_name='metric', value_name='value')\n",
    "print(\"\\nDataFrame in long format:\")\n",
    "print(df_long)"
   ]
  },
  {
   "cell_type": "markdown",
   "id": "783b60cc-20e5-4eac-99f6-84cbc0720ba5",
   "metadata": {},
   "source": [
    "\n",
    "### Pivot: Long to Wide format\n"
   ]
  },
  {
   "cell_type": "code",
   "execution_count": 35,
   "id": "0cf20ce4-506c-4996-b5c1-2f137ebd34f1",
   "metadata": {},
   "outputs": [
    {
     "name": "stdout",
     "output_type": "stream",
     "text": [
      "         date  stock  metric      value\n",
      "0  2023-01-01   AAPL   price      150.5\n",
      "1  2023-01-02  GOOGL   price     2500.0\n",
      "3  2023-01-03   MSFT   price      300.0\n",
      "4  2023-01-04   AMZN   price        NaN\n",
      "5  2023-01-01   AAPL  volume  1000000.0\n",
      "6  2023-01-02  GOOGL  volume   500000.0\n",
      "8  2023-01-03   MSFT  volume  1200000.0\n",
      "9  2023-01-04   AMZN  volume   600000.0\n"
     ]
    }
   ],
   "source": [
    "# Remove duplicates\n",
    "df_long_unique = df_long.drop_duplicates()\n",
    "print(df_long_unique)"
   ]
  },
  {
   "cell_type": "code",
   "execution_count": 36,
   "id": "dec252e3-987b-4632-9b2a-d750818faa9f",
   "metadata": {},
   "outputs": [
    {
     "name": "stdout",
     "output_type": "stream",
     "text": [
      "\n",
      "DataFrame pivoted back to wide format:\n",
      "         date  stock   price     volume\n",
      "0  2023-01-01   AAPL   150.5  1000000.0\n",
      "1  2023-01-02  GOOGL  2500.0   500000.0\n",
      "2  2023-01-03   MSFT   300.0  1200000.0\n",
      "3  2023-01-04   AMZN     NaN   600000.0\n"
     ]
    }
   ],
   "source": [
    "# Pivot the long format back to wide format\n",
    "df_wide = df_long_unique.pivot(index=['date', 'stock'], columns='metric', values='value').reset_index()\n",
    "df_wide.columns.name = None  # Remove the name of the columns index\n",
    "print(\"\\nDataFrame pivoted back to wide format:\")\n",
    "print(df_wide)"
   ]
  },
  {
   "cell_type": "markdown",
   "id": "c61b598b-392b-41cf-8f96-2f2655d8d6da",
   "metadata": {},
   "source": [
    "### Transposing DataFrames\n",
    "The transpose() function simply flips the DataFrame, converting rows into columns and vice versa. This is useful when you need to rotate your dataset for easier presentation or analysis.\n",
    "\n",
    "We can transpose a dataframe by just appending the .T:"
   ]
  },
  {
   "cell_type": "code",
   "execution_count": 37,
   "id": "b5a40180-8ab5-4c0c-81e8-a5ba7d99a940",
   "metadata": {},
   "outputs": [
    {
     "data": {
      "text/html": [
       "<div>\n",
       "<style scoped>\n",
       "    .dataframe tbody tr th:only-of-type {\n",
       "        vertical-align: middle;\n",
       "    }\n",
       "\n",
       "    .dataframe tbody tr th {\n",
       "        vertical-align: top;\n",
       "    }\n",
       "\n",
       "    .dataframe thead th {\n",
       "        text-align: right;\n",
       "    }\n",
       "</style>\n",
       "<table border=\"1\" class=\"dataframe\">\n",
       "  <thead>\n",
       "    <tr style=\"text-align: right;\">\n",
       "      <th></th>\n",
       "      <th>date</th>\n",
       "      <th>stock</th>\n",
       "      <th>metric</th>\n",
       "      <th>value</th>\n",
       "    </tr>\n",
       "  </thead>\n",
       "  <tbody>\n",
       "    <tr>\n",
       "      <th>0</th>\n",
       "      <td>2023-01-01</td>\n",
       "      <td>AAPL</td>\n",
       "      <td>price</td>\n",
       "      <td>150.5</td>\n",
       "    </tr>\n",
       "    <tr>\n",
       "      <th>1</th>\n",
       "      <td>2023-01-02</td>\n",
       "      <td>GOOGL</td>\n",
       "      <td>price</td>\n",
       "      <td>2500.0</td>\n",
       "    </tr>\n",
       "    <tr>\n",
       "      <th>2</th>\n",
       "      <td>2023-01-02</td>\n",
       "      <td>GOOGL</td>\n",
       "      <td>price</td>\n",
       "      <td>2500.0</td>\n",
       "    </tr>\n",
       "    <tr>\n",
       "      <th>3</th>\n",
       "      <td>2023-01-03</td>\n",
       "      <td>MSFT</td>\n",
       "      <td>price</td>\n",
       "      <td>300.0</td>\n",
       "    </tr>\n",
       "    <tr>\n",
       "      <th>4</th>\n",
       "      <td>2023-01-04</td>\n",
       "      <td>AMZN</td>\n",
       "      <td>price</td>\n",
       "      <td>NaN</td>\n",
       "    </tr>\n",
       "    <tr>\n",
       "      <th>5</th>\n",
       "      <td>2023-01-01</td>\n",
       "      <td>AAPL</td>\n",
       "      <td>volume</td>\n",
       "      <td>1000000.0</td>\n",
       "    </tr>\n",
       "    <tr>\n",
       "      <th>6</th>\n",
       "      <td>2023-01-02</td>\n",
       "      <td>GOOGL</td>\n",
       "      <td>volume</td>\n",
       "      <td>500000.0</td>\n",
       "    </tr>\n",
       "    <tr>\n",
       "      <th>7</th>\n",
       "      <td>2023-01-02</td>\n",
       "      <td>GOOGL</td>\n",
       "      <td>volume</td>\n",
       "      <td>500000.0</td>\n",
       "    </tr>\n",
       "    <tr>\n",
       "      <th>8</th>\n",
       "      <td>2023-01-03</td>\n",
       "      <td>MSFT</td>\n",
       "      <td>volume</td>\n",
       "      <td>1200000.0</td>\n",
       "    </tr>\n",
       "    <tr>\n",
       "      <th>9</th>\n",
       "      <td>2023-01-04</td>\n",
       "      <td>AMZN</td>\n",
       "      <td>volume</td>\n",
       "      <td>600000.0</td>\n",
       "    </tr>\n",
       "  </tbody>\n",
       "</table>\n",
       "</div>"
      ],
      "text/plain": [
       "         date  stock  metric      value\n",
       "0  2023-01-01   AAPL   price      150.5\n",
       "1  2023-01-02  GOOGL   price     2500.0\n",
       "2  2023-01-02  GOOGL   price     2500.0\n",
       "3  2023-01-03   MSFT   price      300.0\n",
       "4  2023-01-04   AMZN   price        NaN\n",
       "5  2023-01-01   AAPL  volume  1000000.0\n",
       "6  2023-01-02  GOOGL  volume   500000.0\n",
       "7  2023-01-02  GOOGL  volume   500000.0\n",
       "8  2023-01-03   MSFT  volume  1200000.0\n",
       "9  2023-01-04   AMZN  volume   600000.0"
      ]
     },
     "execution_count": 37,
     "metadata": {},
     "output_type": "execute_result"
    }
   ],
   "source": [
    "df_long"
   ]
  },
  {
   "cell_type": "code",
   "execution_count": 38,
   "id": "ca1a6bb6-990a-43ef-813c-237622f8be0b",
   "metadata": {},
   "outputs": [
    {
     "name": "stdout",
     "output_type": "stream",
     "text": [
      "\n",
      "Transposed DataFrame:\n"
     ]
    },
    {
     "data": {
      "text/html": [
       "<div>\n",
       "<style scoped>\n",
       "    .dataframe tbody tr th:only-of-type {\n",
       "        vertical-align: middle;\n",
       "    }\n",
       "\n",
       "    .dataframe tbody tr th {\n",
       "        vertical-align: top;\n",
       "    }\n",
       "\n",
       "    .dataframe thead th {\n",
       "        text-align: right;\n",
       "    }\n",
       "</style>\n",
       "<table border=\"1\" class=\"dataframe\">\n",
       "  <thead>\n",
       "    <tr style=\"text-align: right;\">\n",
       "      <th>date</th>\n",
       "      <th>2023-01-01</th>\n",
       "      <th>2023-01-02</th>\n",
       "      <th>2023-01-02</th>\n",
       "      <th>2023-01-03</th>\n",
       "      <th>2023-01-04</th>\n",
       "      <th>2023-01-01</th>\n",
       "      <th>2023-01-02</th>\n",
       "      <th>2023-01-02</th>\n",
       "      <th>2023-01-03</th>\n",
       "      <th>2023-01-04</th>\n",
       "    </tr>\n",
       "  </thead>\n",
       "  <tbody>\n",
       "    <tr>\n",
       "      <th>stock</th>\n",
       "      <td>AAPL</td>\n",
       "      <td>GOOGL</td>\n",
       "      <td>GOOGL</td>\n",
       "      <td>MSFT</td>\n",
       "      <td>AMZN</td>\n",
       "      <td>AAPL</td>\n",
       "      <td>GOOGL</td>\n",
       "      <td>GOOGL</td>\n",
       "      <td>MSFT</td>\n",
       "      <td>AMZN</td>\n",
       "    </tr>\n",
       "    <tr>\n",
       "      <th>metric</th>\n",
       "      <td>price</td>\n",
       "      <td>price</td>\n",
       "      <td>price</td>\n",
       "      <td>price</td>\n",
       "      <td>price</td>\n",
       "      <td>volume</td>\n",
       "      <td>volume</td>\n",
       "      <td>volume</td>\n",
       "      <td>volume</td>\n",
       "      <td>volume</td>\n",
       "    </tr>\n",
       "    <tr>\n",
       "      <th>value</th>\n",
       "      <td>150.5</td>\n",
       "      <td>2500.0</td>\n",
       "      <td>2500.0</td>\n",
       "      <td>300.0</td>\n",
       "      <td>NaN</td>\n",
       "      <td>1000000.0</td>\n",
       "      <td>500000.0</td>\n",
       "      <td>500000.0</td>\n",
       "      <td>1200000.0</td>\n",
       "      <td>600000.0</td>\n",
       "    </tr>\n",
       "  </tbody>\n",
       "</table>\n",
       "</div>"
      ],
      "text/plain": [
       "date   2023-01-01 2023-01-02 2023-01-02 2023-01-03 2023-01-04 2023-01-01  \\\n",
       "stock        AAPL      GOOGL      GOOGL       MSFT       AMZN       AAPL   \n",
       "metric      price      price      price      price      price     volume   \n",
       "value       150.5     2500.0     2500.0      300.0        NaN  1000000.0   \n",
       "\n",
       "date   2023-01-02 2023-01-02 2023-01-03 2023-01-04  \n",
       "stock       GOOGL      GOOGL       MSFT       AMZN  \n",
       "metric     volume     volume     volume     volume  \n",
       "value    500000.0   500000.0  1200000.0   600000.0  "
      ]
     },
     "execution_count": 38,
     "metadata": {},
     "output_type": "execute_result"
    }
   ],
   "source": [
    "# Transpose the DataFrame\n",
    "df_transposed = df_long.set_index('date').T\n",
    "print(\"\\nTransposed DataFrame:\")\n",
    "df_transposed"
   ]
  },
  {
   "cell_type": "markdown",
   "id": "aa2aec62-21b1-423f-b387-3106e2448a65",
   "metadata": {},
   "source": [
    "## 9. Merging, Joining, and Concatenating DataFrames\n",
    "In real-world data analysis, datasets are often stored in multiple tables or files. To perform meaningful analysis, you will need to combine these datasets in various ways, such as merging or joining DataFrames based on a shared key or index.\n",
    "\n",
    "### Why is Merging and Joining Important?\n",
    "When working with relational data, it's common to have multiple tables that hold related information. For instance:\n",
    "\n",
    "You might have one table containing company financial data and another table containing company sector information.\n",
    "You could have one DataFrame with customer transaction data and another DataFrame with customer demographic data.\n",
    "Being able to combine these tables allows you to perform a comprehensive analysis by pulling all the relevant information into a single DataFrame.\n",
    "\n",
    "### What will we cover in this section?\n",
    "In this section, we will:\n",
    "1. Use the concat() function to stack /combine DataFrames.\n",
    "2. Use the merge() function to combine DataFrames based on common columns (e.g., merging data by company name or ID).\n",
    "3. Understand the different types of joins: inner, outer, left, and right joins, and when to use each.\n",
    "4. Perform merging on multiple columns to handle more complex datasets.\n",
    "Learn how to deal with overlapping column names by using suffixes to avoid conflicts."
   ]
  },
  {
   "cell_type": "code",
   "execution_count": 39,
   "id": "887ea5e9-134c-4970-b27a-549c00c27132",
   "metadata": {},
   "outputs": [
    {
     "name": "stdout",
     "output_type": "stream",
     "text": [
      "DataFrame 1:\n",
      "        date stock  price\n",
      "0 2023-01-01  AAPL    150\n",
      "1 2023-01-02  AAPL    151\n",
      "2 2023-01-03  AAPL    152\n",
      "\n",
      "DataFrame 2:\n",
      "        date stock  price   volume\n",
      "0 2023-01-04  AAPL    152   500000\n",
      "1 2023-01-05  AAPL    153  1200000\n",
      "2 2023-01-06  AAPL    154   600000\n"
     ]
    }
   ],
   "source": [
    "# Create sample DataFrames\n",
    "df1 = pd.DataFrame({\n",
    "    'date': pd.date_range(start='2023-01-01', periods=3),\n",
    "    'stock': ['AAPL', 'AAPL', 'AAPL'],\n",
    "    'price': [150, 151, 152]\n",
    "})\n",
    "\n",
    "df2 = pd.DataFrame({\n",
    "    'date': pd.date_range(start='2023-01-04', periods=3),\n",
    "    'stock': ['AAPL', 'AAPL', 'AAPL'],\n",
    "    'price': [152, 153, 154],\n",
    "    'volume': [500000, 1200000, 600000]\n",
    "})\n",
    "\n",
    "print(\"DataFrame 1:\")\n",
    "print(df1)\n",
    "print(\"\\nDataFrame 2:\")\n",
    "print(df2)"
   ]
  },
  {
   "cell_type": "markdown",
   "id": "6ab6f5e9-7cfa-412a-9a2a-ca8cf146ba25",
   "metadata": {},
   "source": [
    "### Concatenating DataFrames\n",
    "\n",
    "The concat() function is used to concatenate (combine) multiple DataFrames either vertically (stacking rows) or horizontally (adding columns). This function is extremely flexible and allows you to combine multiple DataFrames at once."
   ]
  },
  {
   "cell_type": "markdown",
   "id": "e6933823-f354-443a-b4aa-cd476f226aee",
   "metadata": {},
   "source": [
    "![Screenshot from 2021-08-09 10-17-31.png](data:image/png;base64,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)"
   ]
  },
  {
   "cell_type": "markdown",
   "id": "8728c989-6f36-4875-9c59-79ac7210f425",
   "metadata": {},
   "source": [
    "\n",
    "### Vertical Concatenation (Stacking Rows)\n",
    "Vertical concatenation is useful when you want to append rows from one DataFrame to another, such as combining data from multiple months or regions."
   ]
  },
  {
   "cell_type": "code",
   "execution_count": 40,
   "id": "c3033986-e608-4190-83be-01939efd9a3f",
   "metadata": {},
   "outputs": [
    {
     "name": "stdout",
     "output_type": "stream",
     "text": [
      "\n",
      "Concatenated DataFrame:\n",
      "        date stock  price     volume\n",
      "0 2023-01-01  AAPL    150        NaN\n",
      "1 2023-01-02  AAPL    151        NaN\n",
      "2 2023-01-03  AAPL    152        NaN\n",
      "3 2023-01-04  AAPL    152   500000.0\n",
      "4 2023-01-05  AAPL    153  1200000.0\n",
      "5 2023-01-06  AAPL    154   600000.0\n"
     ]
    }
   ],
   "source": [
    "df_concat = pd.concat([df1, df2], axis=0, ignore_index=True)\n",
    "print(\"\\nConcatenated DataFrame:\")\n",
    "print(df_concat)"
   ]
  },
  {
   "cell_type": "markdown",
   "id": "a17996c0-4a8c-4d9d-a3b7-398c0e3b684a",
   "metadata": {},
   "source": [
    "<b>Explanation:</b><br>\n",
    "ignore_index=True: Resets the index after concatenation, which is useful when you don’t want duplicate indices from the original DataFrames.\n",
    "Concatenation along rows is the default behavior of concat().\n"
   ]
  },
  {
   "cell_type": "markdown",
   "id": "017f7c9c-2cc7-46fc-9f05-56174f9fa153",
   "metadata": {},
   "source": [
    "#### Horizontal Concatenation (Adding Columns) <b>(Better to use Merge for this)</b>\n",
    "You can also use concat() to concatenate DataFrames horizontally by aligning them side by side, adding columns instead of rows.\n"
   ]
  },
  {
   "cell_type": "code",
   "execution_count": 41,
   "id": "fd48dc01-5669-495c-9c8b-20ee461b71f2",
   "metadata": {},
   "outputs": [
    {
     "name": "stdout",
     "output_type": "stream",
     "text": [
      "        date stock  price       date stock  price   volume\n",
      "0 2023-01-01  AAPL    150 2023-01-04  AAPL    152   500000\n",
      "1 2023-01-02  AAPL    151 2023-01-05  AAPL    153  1200000\n",
      "2 2023-01-03  AAPL    152 2023-01-06  AAPL    154   600000\n"
     ]
    }
   ],
   "source": [
    "# Concatenating DataFrames horizontally (adding columns)\n",
    "concat_df_horizontal = pd.concat([df1, df2], axis=1)\n",
    "print(concat_df_horizontal)"
   ]
  },
  {
   "cell_type": "markdown",
   "id": "0bde51d9-0ca5-4cc7-94fb-fc867c43acd1",
   "metadata": {},
   "source": [
    "<b>Explanation:</b><br>\n",
    "axis=1: Specifies that you want to concatenate along columns instead of the default rows (axis=0).\n",
    "Horizontal concatenation is useful when you have different features for the same observations, such as adding more columns of data to existing companies."
   ]
  },
  {
   "cell_type": "markdown",
   "id": "b7f9a430-8106-4682-9d8f-53f41a11c7e4",
   "metadata": {
    "tags": []
   },
   "source": [
    "### Merging DataFrames\n",
    "The merge() function is the most common way to combine two DataFrames in pandas. You specify one or more columns (known as \"keys\") to merge on, and pandas will align rows from both DataFrames based on these keys."
   ]
  },
  {
   "cell_type": "markdown",
   "id": "913566ed-fddf-4c4c-90cf-f4db9086447e",
   "metadata": {},
   "source": [
    "![Screenshot from 2021-08-09 10-17-23.png](data:image/png;base64,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)"
   ]
  },
  {
   "cell_type": "markdown",
   "id": "d7465139-c85f-4ad0-be4b-41feebf0e8b3",
   "metadata": {},
   "source": [
    "![Screenshot from 2021-08-17 11-20-38.png](data:image/png;base64,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)"
   ]
  },
  {
   "cell_type": "markdown",
   "id": "246b9eae-d03a-4d59-af23-b1f406309b12",
   "metadata": {},
   "source": [
    "In this example, the two DataFrames (df1 and df2) are merged on the 'Company' column. By default, pandas performs an inner join, meaning only the rows with matching keys in both DataFrames are included in the result.\n",
    "\n"
   ]
  },
  {
   "cell_type": "markdown",
   "id": "10dee400-4e67-4a60-be02-78ff38a2923f",
   "metadata": {},
   "source": [
    "### Other join types"
   ]
  },
  {
   "cell_type": "markdown",
   "id": "140aada9-41f4-4554-91de-1a18dae76749",
   "metadata": {},
   "source": [
    "![Screenshot from 2021-08-17 11-20-48.png](data:image/png;base64,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)"
   ]
  },
  {
   "cell_type": "markdown",
   "id": "0e3a6948-cb9c-40df-aa24-c39d427cd73c",
   "metadata": {},
   "source": [
    "### Example Data"
   ]
  },
  {
   "cell_type": "code",
   "execution_count": 42,
   "id": "c978aa3a-919b-4119-b3e6-68d93a95ee99",
   "metadata": {},
   "outputs": [
    {
     "data": {
      "text/html": [
       "<div>\n",
       "<style scoped>\n",
       "    .dataframe tbody tr th:only-of-type {\n",
       "        vertical-align: middle;\n",
       "    }\n",
       "\n",
       "    .dataframe tbody tr th {\n",
       "        vertical-align: top;\n",
       "    }\n",
       "\n",
       "    .dataframe thead th {\n",
       "        text-align: right;\n",
       "    }\n",
       "</style>\n",
       "<table border=\"1\" class=\"dataframe\">\n",
       "  <thead>\n",
       "    <tr style=\"text-align: right;\">\n",
       "      <th></th>\n",
       "      <th>ID</th>\n",
       "      <th>ID2</th>\n",
       "      <th>df1&amp;df2_same_name</th>\n",
       "      <th>df1_value_1</th>\n",
       "      <th>df1_industry</th>\n",
       "    </tr>\n",
       "  </thead>\n",
       "  <tbody>\n",
       "    <tr>\n",
       "      <th>0</th>\n",
       "      <td>1</td>\n",
       "      <td>1</td>\n",
       "      <td>n</td>\n",
       "      <td>5</td>\n",
       "      <td>shipping</td>\n",
       "    </tr>\n",
       "    <tr>\n",
       "      <th>1</th>\n",
       "      <td>2</td>\n",
       "      <td>2</td>\n",
       "      <td>y</td>\n",
       "      <td>6</td>\n",
       "      <td>industry</td>\n",
       "    </tr>\n",
       "    <tr>\n",
       "      <th>2</th>\n",
       "      <td>3</td>\n",
       "      <td>7</td>\n",
       "      <td>y</td>\n",
       "      <td>7</td>\n",
       "      <td>shipping</td>\n",
       "    </tr>\n",
       "    <tr>\n",
       "      <th>3</th>\n",
       "      <td>4</td>\n",
       "      <td>4</td>\n",
       "      <td>y</td>\n",
       "      <td>8</td>\n",
       "      <td>banking</td>\n",
       "    </tr>\n",
       "  </tbody>\n",
       "</table>\n",
       "</div>"
      ],
      "text/plain": [
       "   ID  ID2 df1&df2_same_name  df1_value_1 df1_industry\n",
       "0   1    1                 n            5     shipping\n",
       "1   2    2                 y            6     industry\n",
       "2   3    7                 y            7     shipping\n",
       "3   4    4                 y            8      banking"
      ]
     },
     "execution_count": 42,
     "metadata": {},
     "output_type": "execute_result"
    }
   ],
   "source": [
    "df1 = pd.DataFrame({'ID':[1, 2, 3, 4], # ID of company, same as index\n",
    "                    'ID2': [1, 2, 7, 4], # A second ID\n",
    "                    'df1&df2_same_name':['n', 'y', 'y', 'y'], # This is a column with an identical name in both df1 and df2, but the values are slightly different \n",
    "                    'df1_value_1':[5, 6, 7, 8], \n",
    "                    'df1_industry':['shipping', 'industry', 'shipping', 'banking'],\n",
    "                    })\n",
    "df1"
   ]
  },
  {
   "cell_type": "code",
   "execution_count": 43,
   "id": "61767a4e-c146-4ad8-9284-17456b2a1fe3",
   "metadata": {},
   "outputs": [
    {
     "data": {
      "text/html": [
       "<div>\n",
       "<style scoped>\n",
       "    .dataframe tbody tr th:only-of-type {\n",
       "        vertical-align: middle;\n",
       "    }\n",
       "\n",
       "    .dataframe tbody tr th {\n",
       "        vertical-align: top;\n",
       "    }\n",
       "\n",
       "    .dataframe thead th {\n",
       "        text-align: right;\n",
       "    }\n",
       "</style>\n",
       "<table border=\"1\" class=\"dataframe\">\n",
       "  <thead>\n",
       "    <tr style=\"text-align: right;\">\n",
       "      <th></th>\n",
       "      <th>ID</th>\n",
       "      <th>df1&amp;df2_same_name</th>\n",
       "      <th>df2_value_1</th>\n",
       "      <th>df2_pe_ratio</th>\n",
       "    </tr>\n",
       "  </thead>\n",
       "  <tbody>\n",
       "    <tr>\n",
       "      <th>0</th>\n",
       "      <td>1</td>\n",
       "      <td>n</td>\n",
       "      <td>54</td>\n",
       "      <td>2.0</td>\n",
       "    </tr>\n",
       "    <tr>\n",
       "      <th>1</th>\n",
       "      <td>2</td>\n",
       "      <td>y</td>\n",
       "      <td>62</td>\n",
       "      <td>2.6</td>\n",
       "    </tr>\n",
       "    <tr>\n",
       "      <th>2</th>\n",
       "      <td>3</td>\n",
       "      <td>y</td>\n",
       "      <td>27</td>\n",
       "      <td>4.0</td>\n",
       "    </tr>\n",
       "    <tr>\n",
       "      <th>3</th>\n",
       "      <td>4</td>\n",
       "      <td>n</td>\n",
       "      <td>68</td>\n",
       "      <td>10.0</td>\n",
       "    </tr>\n",
       "  </tbody>\n",
       "</table>\n",
       "</div>"
      ],
      "text/plain": [
       "   ID df1&df2_same_name  df2_value_1  df2_pe_ratio\n",
       "0   1                 n           54           2.0\n",
       "1   2                 y           62           2.6\n",
       "2   3                 y           27           4.0\n",
       "3   4                 n           68          10.0"
      ]
     },
     "execution_count": 43,
     "metadata": {},
     "output_type": "execute_result"
    }
   ],
   "source": [
    "df2 = pd.DataFrame({'ID':[1,2,3,4], # ID of company, same as index\n",
    "                    'df1&df2_same_name':['n', 'y', 'y', 'n'],  # This is a column with an identical name in both df1 and df2, but the values are slightly different\n",
    "                    'df2_value_1':[54, 62, 27, 68],\n",
    "                    'df2_pe_ratio':[2, 2.6, 4, 10],\n",
    "                    })\n",
    "df2"
   ]
  },
  {
   "cell_type": "markdown",
   "id": "b5224aba-376b-4a02-809e-d8cd0408dfbc",
   "metadata": {},
   "source": [
    "## Inner join (default setting, does not have to be specified)\n",
    "This will find all mathcing column names and check them, which will be <b>ID</b> and <b>df1&df2_same_name</b>"
   ]
  },
  {
   "cell_type": "code",
   "execution_count": 44,
   "id": "d9527421-f197-45ba-9166-9077e3edbfcf",
   "metadata": {},
   "outputs": [
    {
     "data": {
      "text/html": [
       "<div>\n",
       "<style scoped>\n",
       "    .dataframe tbody tr th:only-of-type {\n",
       "        vertical-align: middle;\n",
       "    }\n",
       "\n",
       "    .dataframe tbody tr th {\n",
       "        vertical-align: top;\n",
       "    }\n",
       "\n",
       "    .dataframe thead th {\n",
       "        text-align: right;\n",
       "    }\n",
       "</style>\n",
       "<table border=\"1\" class=\"dataframe\">\n",
       "  <thead>\n",
       "    <tr style=\"text-align: right;\">\n",
       "      <th></th>\n",
       "      <th>ID</th>\n",
       "      <th>ID2</th>\n",
       "      <th>df1&amp;df2_same_name</th>\n",
       "      <th>df1_value_1</th>\n",
       "      <th>df1_industry</th>\n",
       "      <th>df2_value_1</th>\n",
       "      <th>df2_pe_ratio</th>\n",
       "    </tr>\n",
       "  </thead>\n",
       "  <tbody>\n",
       "    <tr>\n",
       "      <th>0</th>\n",
       "      <td>1</td>\n",
       "      <td>1</td>\n",
       "      <td>n</td>\n",
       "      <td>5</td>\n",
       "      <td>shipping</td>\n",
       "      <td>54</td>\n",
       "      <td>2.0</td>\n",
       "    </tr>\n",
       "    <tr>\n",
       "      <th>1</th>\n",
       "      <td>2</td>\n",
       "      <td>2</td>\n",
       "      <td>y</td>\n",
       "      <td>6</td>\n",
       "      <td>industry</td>\n",
       "      <td>62</td>\n",
       "      <td>2.6</td>\n",
       "    </tr>\n",
       "    <tr>\n",
       "      <th>2</th>\n",
       "      <td>3</td>\n",
       "      <td>7</td>\n",
       "      <td>y</td>\n",
       "      <td>7</td>\n",
       "      <td>shipping</td>\n",
       "      <td>27</td>\n",
       "      <td>4.0</td>\n",
       "    </tr>\n",
       "  </tbody>\n",
       "</table>\n",
       "</div>"
      ],
      "text/plain": [
       "   ID  ID2 df1&df2_same_name  df1_value_1 df1_industry  df2_value_1  \\\n",
       "0   1    1                 n            5     shipping           54   \n",
       "1   2    2                 y            6     industry           62   \n",
       "2   3    7                 y            7     shipping           27   \n",
       "\n",
       "   df2_pe_ratio  \n",
       "0           2.0  \n",
       "1           2.6  \n",
       "2           4.0  "
      ]
     },
     "execution_count": 44,
     "metadata": {},
     "output_type": "execute_result"
    }
   ],
   "source": [
    "merged_df = pd.merge(df1, df2)\n",
    "merged_df"
   ]
  },
  {
   "cell_type": "markdown",
   "id": "e68b03bb-eaac-4fbe-91fc-0877429d3d29",
   "metadata": {},
   "source": [
    "Here we specify that we only want it to check the <b>ID</b> column"
   ]
  },
  {
   "cell_type": "markdown",
   "id": "dfeac2fc-cffd-42eb-8ff3-c1438c0e53eb",
   "metadata": {
    "id": "4thxksKoFGMH"
   },
   "source": [
    "We can change this behaviour by specifying that we want merge to combine the data on a specific column, or multiple.\n",
    "It's usually a good idea to specify what we want it to combine on. \n",
    "In this case we use only ID, which forces it to include all rows and it creates a x and y version of the column with the same name but different values. "
   ]
  },
  {
   "cell_type": "code",
   "execution_count": 45,
   "id": "80862eda-0478-4977-b0ca-bbdc63d2a674",
   "metadata": {},
   "outputs": [
    {
     "data": {
      "text/html": [
       "<div>\n",
       "<style scoped>\n",
       "    .dataframe tbody tr th:only-of-type {\n",
       "        vertical-align: middle;\n",
       "    }\n",
       "\n",
       "    .dataframe tbody tr th {\n",
       "        vertical-align: top;\n",
       "    }\n",
       "\n",
       "    .dataframe thead th {\n",
       "        text-align: right;\n",
       "    }\n",
       "</style>\n",
       "<table border=\"1\" class=\"dataframe\">\n",
       "  <thead>\n",
       "    <tr style=\"text-align: right;\">\n",
       "      <th></th>\n",
       "      <th>ID</th>\n",
       "      <th>ID2</th>\n",
       "      <th>df1&amp;df2_same_name_x</th>\n",
       "      <th>df1_value_1</th>\n",
       "      <th>df1_industry</th>\n",
       "      <th>df1&amp;df2_same_name_y</th>\n",
       "      <th>df2_value_1</th>\n",
       "      <th>df2_pe_ratio</th>\n",
       "    </tr>\n",
       "  </thead>\n",
       "  <tbody>\n",
       "    <tr>\n",
       "      <th>0</th>\n",
       "      <td>1</td>\n",
       "      <td>1</td>\n",
       "      <td>n</td>\n",
       "      <td>5</td>\n",
       "      <td>shipping</td>\n",
       "      <td>n</td>\n",
       "      <td>54</td>\n",
       "      <td>2.0</td>\n",
       "    </tr>\n",
       "    <tr>\n",
       "      <th>1</th>\n",
       "      <td>2</td>\n",
       "      <td>2</td>\n",
       "      <td>y</td>\n",
       "      <td>6</td>\n",
       "      <td>industry</td>\n",
       "      <td>y</td>\n",
       "      <td>62</td>\n",
       "      <td>2.6</td>\n",
       "    </tr>\n",
       "    <tr>\n",
       "      <th>2</th>\n",
       "      <td>3</td>\n",
       "      <td>7</td>\n",
       "      <td>y</td>\n",
       "      <td>7</td>\n",
       "      <td>shipping</td>\n",
       "      <td>y</td>\n",
       "      <td>27</td>\n",
       "      <td>4.0</td>\n",
       "    </tr>\n",
       "    <tr>\n",
       "      <th>3</th>\n",
       "      <td>4</td>\n",
       "      <td>4</td>\n",
       "      <td>y</td>\n",
       "      <td>8</td>\n",
       "      <td>banking</td>\n",
       "      <td>n</td>\n",
       "      <td>68</td>\n",
       "      <td>10.0</td>\n",
       "    </tr>\n",
       "  </tbody>\n",
       "</table>\n",
       "</div>"
      ],
      "text/plain": [
       "   ID  ID2 df1&df2_same_name_x  df1_value_1 df1_industry df1&df2_same_name_y  \\\n",
       "0   1    1                   n            5     shipping                   n   \n",
       "1   2    2                   y            6     industry                   y   \n",
       "2   3    7                   y            7     shipping                   y   \n",
       "3   4    4                   y            8      banking                   n   \n",
       "\n",
       "   df2_value_1  df2_pe_ratio  \n",
       "0           54           2.0  \n",
       "1           62           2.6  \n",
       "2           27           4.0  \n",
       "3           68          10.0  "
      ]
     },
     "execution_count": 45,
     "metadata": {},
     "output_type": "execute_result"
    }
   ],
   "source": [
    "merged_df = pd.merge(df1, df2, on=\"ID\")\n",
    "merged_df"
   ]
  },
  {
   "cell_type": "markdown",
   "id": "ca0f89af-3b5d-45c7-b8a4-95c6e90bef14",
   "metadata": {},
   "source": [
    "## Outer join (has to be specified)"
   ]
  },
  {
   "cell_type": "markdown",
   "id": "788376a9-d355-4219-a31b-6b9fc22b8b9c",
   "metadata": {
    "id": "T2LbQL8thC2-"
   },
   "source": [
    "The outer option for merging data does not select the data that exists in both dataframes but instead combines data into one large dataframe. The data that doesn't exist in both is not removed/ dropped like in the inner merge. It is instead added and the columns that are missing are set to NaN, and we can handle that as we please. "
   ]
  },
  {
   "cell_type": "code",
   "execution_count": 46,
   "id": "0c6a43dc-5215-426c-84a1-2df3579b2d16",
   "metadata": {
    "colab": {
     "base_uri": "https://localhost:8080/",
     "height": 142
    },
    "id": "T0mZawiwBE7j",
    "outputId": "26b2e2fa-9b59-4976-be44-2ab69d79a73a"
   },
   "outputs": [
    {
     "data": {
      "text/html": [
       "<div>\n",
       "<style scoped>\n",
       "    .dataframe tbody tr th:only-of-type {\n",
       "        vertical-align: middle;\n",
       "    }\n",
       "\n",
       "    .dataframe tbody tr th {\n",
       "        vertical-align: top;\n",
       "    }\n",
       "\n",
       "    .dataframe thead th {\n",
       "        text-align: right;\n",
       "    }\n",
       "</style>\n",
       "<table border=\"1\" class=\"dataframe\">\n",
       "  <thead>\n",
       "    <tr style=\"text-align: right;\">\n",
       "      <th></th>\n",
       "      <th>ID</th>\n",
       "      <th>ID2</th>\n",
       "      <th>df1&amp;df2_same_name</th>\n",
       "      <th>df1_value_1</th>\n",
       "      <th>df1_industry</th>\n",
       "      <th>df2_value_1</th>\n",
       "      <th>df2_pe_ratio</th>\n",
       "    </tr>\n",
       "  </thead>\n",
       "  <tbody>\n",
       "    <tr>\n",
       "      <th>0</th>\n",
       "      <td>1</td>\n",
       "      <td>1.0</td>\n",
       "      <td>n</td>\n",
       "      <td>5.0</td>\n",
       "      <td>shipping</td>\n",
       "      <td>54.0</td>\n",
       "      <td>2.0</td>\n",
       "    </tr>\n",
       "    <tr>\n",
       "      <th>1</th>\n",
       "      <td>2</td>\n",
       "      <td>2.0</td>\n",
       "      <td>y</td>\n",
       "      <td>6.0</td>\n",
       "      <td>industry</td>\n",
       "      <td>62.0</td>\n",
       "      <td>2.6</td>\n",
       "    </tr>\n",
       "    <tr>\n",
       "      <th>2</th>\n",
       "      <td>3</td>\n",
       "      <td>7.0</td>\n",
       "      <td>y</td>\n",
       "      <td>7.0</td>\n",
       "      <td>shipping</td>\n",
       "      <td>27.0</td>\n",
       "      <td>4.0</td>\n",
       "    </tr>\n",
       "    <tr>\n",
       "      <th>3</th>\n",
       "      <td>4</td>\n",
       "      <td>4.0</td>\n",
       "      <td>y</td>\n",
       "      <td>8.0</td>\n",
       "      <td>banking</td>\n",
       "      <td>NaN</td>\n",
       "      <td>NaN</td>\n",
       "    </tr>\n",
       "    <tr>\n",
       "      <th>4</th>\n",
       "      <td>4</td>\n",
       "      <td>NaN</td>\n",
       "      <td>n</td>\n",
       "      <td>NaN</td>\n",
       "      <td>NaN</td>\n",
       "      <td>68.0</td>\n",
       "      <td>10.0</td>\n",
       "    </tr>\n",
       "  </tbody>\n",
       "</table>\n",
       "</div>"
      ],
      "text/plain": [
       "   ID  ID2 df1&df2_same_name  df1_value_1 df1_industry  df2_value_1  \\\n",
       "0   1  1.0                 n          5.0     shipping         54.0   \n",
       "1   2  2.0                 y          6.0     industry         62.0   \n",
       "2   3  7.0                 y          7.0     shipping         27.0   \n",
       "3   4  4.0                 y          8.0      banking          NaN   \n",
       "4   4  NaN                 n          NaN          NaN         68.0   \n",
       "\n",
       "   df2_pe_ratio  \n",
       "0           2.0  \n",
       "1           2.6  \n",
       "2           4.0  \n",
       "3           NaN  \n",
       "4          10.0  "
      ]
     },
     "execution_count": 46,
     "metadata": {},
     "output_type": "execute_result"
    }
   ],
   "source": [
    "merged_df = pd.merge(df1, df2, how=\"outer\")\n",
    "merged_df"
   ]
  },
  {
   "cell_type": "markdown",
   "id": "8afca1b4-d469-40e3-a514-52f623bac070",
   "metadata": {
    "id": "fPGklVWuHNcH"
   },
   "source": [
    "## Using Suffixes to know where the data came from \n",
    "We can also rename the x and y to e.g. the dataframe name so that we know what original data frame the column came from, we do this using suffixes.\n",
    "\n",
    "DataFrames and is used for merging. The suffixes=['_df1', '_df2'] parameter appends the specified suffixes to column names that appear in both DataFrames, ensuring there are no conflicts in column names after the merge. This creates a combined DataFrame with all columns from both df1 and df2, with shared columns uniquely identified by their suffixes."
   ]
  },
  {
   "cell_type": "code",
   "execution_count": 47,
   "id": "ff156268-9bcf-45e6-ac64-a1a39663cefe",
   "metadata": {
    "colab": {
     "base_uri": "https://localhost:8080/",
     "height": 173
    },
    "id": "cZOL0OpJHVzF",
    "outputId": "328665d5-b8da-40a7-b709-dc02f57ab595"
   },
   "outputs": [
    {
     "data": {
      "text/html": [
       "<div>\n",
       "<style scoped>\n",
       "    .dataframe tbody tr th:only-of-type {\n",
       "        vertical-align: middle;\n",
       "    }\n",
       "\n",
       "    .dataframe tbody tr th {\n",
       "        vertical-align: top;\n",
       "    }\n",
       "\n",
       "    .dataframe thead th {\n",
       "        text-align: right;\n",
       "    }\n",
       "</style>\n",
       "<table border=\"1\" class=\"dataframe\">\n",
       "  <thead>\n",
       "    <tr style=\"text-align: right;\">\n",
       "      <th></th>\n",
       "      <th>ID</th>\n",
       "      <th>ID2</th>\n",
       "      <th>df1&amp;df2_same_name_df1</th>\n",
       "      <th>df1_value_1</th>\n",
       "      <th>df1_industry</th>\n",
       "      <th>df1&amp;df2_same_name_df2</th>\n",
       "      <th>df2_value_1</th>\n",
       "      <th>df2_pe_ratio</th>\n",
       "    </tr>\n",
       "  </thead>\n",
       "  <tbody>\n",
       "    <tr>\n",
       "      <th>0</th>\n",
       "      <td>1</td>\n",
       "      <td>1</td>\n",
       "      <td>n</td>\n",
       "      <td>5</td>\n",
       "      <td>shipping</td>\n",
       "      <td>n</td>\n",
       "      <td>54</td>\n",
       "      <td>2.0</td>\n",
       "    </tr>\n",
       "    <tr>\n",
       "      <th>1</th>\n",
       "      <td>2</td>\n",
       "      <td>2</td>\n",
       "      <td>y</td>\n",
       "      <td>6</td>\n",
       "      <td>industry</td>\n",
       "      <td>y</td>\n",
       "      <td>62</td>\n",
       "      <td>2.6</td>\n",
       "    </tr>\n",
       "    <tr>\n",
       "      <th>2</th>\n",
       "      <td>3</td>\n",
       "      <td>7</td>\n",
       "      <td>y</td>\n",
       "      <td>7</td>\n",
       "      <td>shipping</td>\n",
       "      <td>y</td>\n",
       "      <td>27</td>\n",
       "      <td>4.0</td>\n",
       "    </tr>\n",
       "    <tr>\n",
       "      <th>3</th>\n",
       "      <td>4</td>\n",
       "      <td>4</td>\n",
       "      <td>y</td>\n",
       "      <td>8</td>\n",
       "      <td>banking</td>\n",
       "      <td>n</td>\n",
       "      <td>68</td>\n",
       "      <td>10.0</td>\n",
       "    </tr>\n",
       "  </tbody>\n",
       "</table>\n",
       "</div>"
      ],
      "text/plain": [
       "   ID  ID2 df1&df2_same_name_df1  df1_value_1 df1_industry  \\\n",
       "0   1    1                     n            5     shipping   \n",
       "1   2    2                     y            6     industry   \n",
       "2   3    7                     y            7     shipping   \n",
       "3   4    4                     y            8      banking   \n",
       "\n",
       "  df1&df2_same_name_df2  df2_value_1  df2_pe_ratio  \n",
       "0                     n           54           2.0  \n",
       "1                     y           62           2.6  \n",
       "2                     y           27           4.0  \n",
       "3                     n           68          10.0  "
      ]
     },
     "execution_count": 47,
     "metadata": {},
     "output_type": "execute_result"
    }
   ],
   "source": [
    "merged_on_id_with_suffix = pd.merge(df1, df2, on='ID', suffixes=['_df1', '_df2'])\n",
    "merged_on_id_with_suffix "
   ]
  },
  {
   "cell_type": "markdown",
   "id": "b86a265c-0ff5-48f1-bc23-e5a415df5078",
   "metadata": {
    "id": "n1YlV3FZIkjM"
   },
   "source": [
    "We can also merge on different columns in the different dataframes.\n",
    "We could use e.g. ID2 in df1 and ID in df2.\n",
    "And as we then can see, all IDs in df1 and ID2s in df2 didn't match. So we end up with 3 rows."
   ]
  },
  {
   "cell_type": "code",
   "execution_count": 48,
   "id": "10c3d17e-8258-438e-ab55-00fde6f12006",
   "metadata": {
    "colab": {
     "base_uri": "https://localhost:8080/",
     "height": 142
    },
    "id": "qzMbDWDKIVOW",
    "outputId": "94abe3c9-a7a9-4e33-bbda-c2c5a209ac96"
   },
   "outputs": [
    {
     "data": {
      "text/html": [
       "<div>\n",
       "<style scoped>\n",
       "    .dataframe tbody tr th:only-of-type {\n",
       "        vertical-align: middle;\n",
       "    }\n",
       "\n",
       "    .dataframe tbody tr th {\n",
       "        vertical-align: top;\n",
       "    }\n",
       "\n",
       "    .dataframe thead th {\n",
       "        text-align: right;\n",
       "    }\n",
       "</style>\n",
       "<table border=\"1\" class=\"dataframe\">\n",
       "  <thead>\n",
       "    <tr style=\"text-align: right;\">\n",
       "      <th></th>\n",
       "      <th>ID_df1</th>\n",
       "      <th>ID2</th>\n",
       "      <th>df1&amp;df2_same_name_df1</th>\n",
       "      <th>df1_value_1</th>\n",
       "      <th>df1_industry</th>\n",
       "      <th>ID_df2</th>\n",
       "      <th>df1&amp;df2_same_name_df2</th>\n",
       "      <th>df2_value_1</th>\n",
       "      <th>df2_pe_ratio</th>\n",
       "    </tr>\n",
       "  </thead>\n",
       "  <tbody>\n",
       "    <tr>\n",
       "      <th>0</th>\n",
       "      <td>1</td>\n",
       "      <td>1</td>\n",
       "      <td>n</td>\n",
       "      <td>5</td>\n",
       "      <td>shipping</td>\n",
       "      <td>1</td>\n",
       "      <td>n</td>\n",
       "      <td>54</td>\n",
       "      <td>2.0</td>\n",
       "    </tr>\n",
       "    <tr>\n",
       "      <th>1</th>\n",
       "      <td>2</td>\n",
       "      <td>2</td>\n",
       "      <td>y</td>\n",
       "      <td>6</td>\n",
       "      <td>industry</td>\n",
       "      <td>2</td>\n",
       "      <td>y</td>\n",
       "      <td>62</td>\n",
       "      <td>2.6</td>\n",
       "    </tr>\n",
       "    <tr>\n",
       "      <th>2</th>\n",
       "      <td>4</td>\n",
       "      <td>4</td>\n",
       "      <td>y</td>\n",
       "      <td>8</td>\n",
       "      <td>banking</td>\n",
       "      <td>4</td>\n",
       "      <td>n</td>\n",
       "      <td>68</td>\n",
       "      <td>10.0</td>\n",
       "    </tr>\n",
       "  </tbody>\n",
       "</table>\n",
       "</div>"
      ],
      "text/plain": [
       "   ID_df1  ID2 df1&df2_same_name_df1  df1_value_1 df1_industry  ID_df2  \\\n",
       "0       1    1                     n            5     shipping       1   \n",
       "1       2    2                     y            6     industry       2   \n",
       "2       4    4                     y            8      banking       4   \n",
       "\n",
       "  df1&df2_same_name_df2  df2_value_1  df2_pe_ratio  \n",
       "0                     n           54           2.0  \n",
       "1                     y           62           2.6  \n",
       "2                     n           68          10.0  "
      ]
     },
     "execution_count": 48,
     "metadata": {},
     "output_type": "execute_result"
    }
   ],
   "source": [
    "left_right_merge = pd.merge(df1, df2, left_on='ID2', right_on='ID', suffixes=['_df1', '_df2'])\n",
    "left_right_merge"
   ]
  },
  {
   "cell_type": "code",
   "execution_count": null,
   "id": "4572640a-c35f-47c2-af26-38eeee97bb47",
   "metadata": {},
   "outputs": [],
   "source": []
  },
  {
   "cell_type": "markdown",
   "id": "c8698228-8c5c-4725-b8f2-f1c4c0021b38",
   "metadata": {
    "tags": []
   },
   "source": [
    "## Left and right merges"
   ]
  },
  {
   "cell_type": "code",
   "execution_count": 49,
   "id": "2f574c4a-5e4f-4e2e-8278-78027da21d52",
   "metadata": {},
   "outputs": [
    {
     "data": {
      "text/html": [
       "<div>\n",
       "<style scoped>\n",
       "    .dataframe tbody tr th:only-of-type {\n",
       "        vertical-align: middle;\n",
       "    }\n",
       "\n",
       "    .dataframe tbody tr th {\n",
       "        vertical-align: top;\n",
       "    }\n",
       "\n",
       "    .dataframe thead th {\n",
       "        text-align: right;\n",
       "    }\n",
       "</style>\n",
       "<table border=\"1\" class=\"dataframe\">\n",
       "  <thead>\n",
       "    <tr style=\"text-align: right;\">\n",
       "      <th></th>\n",
       "      <th>ID</th>\n",
       "      <th>ID2</th>\n",
       "      <th>df1&amp;df2_same_name</th>\n",
       "      <th>df1_value_1</th>\n",
       "      <th>df1_industry</th>\n",
       "      <th>df2_value_1</th>\n",
       "      <th>df2_pe_ratio</th>\n",
       "    </tr>\n",
       "  </thead>\n",
       "  <tbody>\n",
       "    <tr>\n",
       "      <th>0</th>\n",
       "      <td>1</td>\n",
       "      <td>1</td>\n",
       "      <td>n</td>\n",
       "      <td>5</td>\n",
       "      <td>shipping</td>\n",
       "      <td>54.0</td>\n",
       "      <td>2.0</td>\n",
       "    </tr>\n",
       "    <tr>\n",
       "      <th>1</th>\n",
       "      <td>2</td>\n",
       "      <td>2</td>\n",
       "      <td>y</td>\n",
       "      <td>6</td>\n",
       "      <td>industry</td>\n",
       "      <td>62.0</td>\n",
       "      <td>2.6</td>\n",
       "    </tr>\n",
       "    <tr>\n",
       "      <th>2</th>\n",
       "      <td>3</td>\n",
       "      <td>7</td>\n",
       "      <td>y</td>\n",
       "      <td>7</td>\n",
       "      <td>shipping</td>\n",
       "      <td>27.0</td>\n",
       "      <td>4.0</td>\n",
       "    </tr>\n",
       "    <tr>\n",
       "      <th>3</th>\n",
       "      <td>4</td>\n",
       "      <td>4</td>\n",
       "      <td>y</td>\n",
       "      <td>8</td>\n",
       "      <td>banking</td>\n",
       "      <td>NaN</td>\n",
       "      <td>NaN</td>\n",
       "    </tr>\n",
       "  </tbody>\n",
       "</table>\n",
       "</div>"
      ],
      "text/plain": [
       "   ID  ID2 df1&df2_same_name  df1_value_1 df1_industry  df2_value_1  \\\n",
       "0   1    1                 n            5     shipping         54.0   \n",
       "1   2    2                 y            6     industry         62.0   \n",
       "2   3    7                 y            7     shipping         27.0   \n",
       "3   4    4                 y            8      banking          NaN   \n",
       "\n",
       "   df2_pe_ratio  \n",
       "0           2.0  \n",
       "1           2.6  \n",
       "2           4.0  \n",
       "3           NaN  "
      ]
     },
     "execution_count": 49,
     "metadata": {},
     "output_type": "execute_result"
    }
   ],
   "source": [
    "left = pd.merge(df1, df2, how='left')\n",
    "left"
   ]
  },
  {
   "cell_type": "markdown",
   "id": "5cbca35b-dd8b-4006-b21b-b2d19f7fe3dc",
   "metadata": {},
   "source": [
    "### Left and right join:\n",
    "* Right Join:\n",
    "Includes all rows from the right DataFrame (df2), and matching rows from the left DataFrame (df1). Non-matching rows from the left DataFrame will have NaN values.\n",
    "Example: If you're primarily interested in the employee data, but still want to include revenue where available.\n",
    "* Left Join:\n",
    "Includes all rows from the left DataFrame (df1), and matching rows from the right DataFrame (df2). Non-matching rows from the right DataFrame will have NaN values.\n",
    "Example: If you want all companies from the revenue data (df1), regardless of whether employee data exists for them."
   ]
  },
  {
   "cell_type": "markdown",
   "id": "9d74fc2b-9576-484d-a714-bca66e2094d5",
   "metadata": {},
   "source": [
    "# Important: <code>merge_asof</code>\n",
    "## What is merge_asof in Pandas?\n",
    "In finance, data alignment based on time (or other ordered data) is a common task, whether you're analyzing stock prices, tracking interest rates, or monitoring the performance of portfolios. Pandas' merge_asof function is specifically designed for this type of data alignment. Unlike a standard merge (which looks for exact matches), merge_asof allows you to perform \"fuzzy\" merging, typically on time series data, where you're matching rows based on the closest previous timestamp (or other ordered key) rather than requiring an exact match."
   ]
  },
  {
   "cell_type": "markdown",
   "id": "d50d8ec9-65c7-4a2b-8f22-d1a45ad559d4",
   "metadata": {},
   "source": [
    "### Key Financial Applications of merge_asof\n",
    "Aligning Stock Prices with Events: Suppose you are analyzing the stock price movement before and after corporate earnings announcements. Stock price data may come in at minute intervals, while earnings announcements happen on specific dates. With merge_asof, you can merge the earnings announcement data with the stock price data, matching each announcement to the nearest prior stock price.\n",
    "\n",
    "Tracking Financial Metrics with Economic Indicators: Imagine you are analyzing how macroeconomic factors like GDP growth or interest rates affect company performance. Economic indicators are usually reported quarterly, while company performance data (e.g., stock returns) may be available daily. You can use merge_asof to align daily stock returns with the closest quarterly GDP report, allowing you to analyze the relationship between them."
   ]
  },
  {
   "cell_type": "markdown",
   "id": "b16ee379-0d51-403a-a751-122106148471",
   "metadata": {},
   "source": [
    "<code>\n",
    "pd.merge_asof(left, right, on='timestamp', by='key_column', tolerance=Timedelta('allowed_difference'), direction='backward')</code>\n",
    "\n",
    "* left: The first DataFrame (e.g., stock prices or daily returns).\n",
    "* right: The second DataFrame (e.g., earnings announcements or quarterly reports).\n",
    "* on: The common column to merge on, typically a timestamp.\n",
    "* by: Optionally, you can group by certain categories (e.g., merging by company ticker).\n",
    "* <b>tolerance</b>: Allows setting a maximum allowable difference between merged rows.\n",
    "* <b>direction</b>: Controls whether you want the closest match to be earlier (backward), later (forward), or either.\n"
   ]
  },
  {
   "cell_type": "code",
   "execution_count": 81,
   "id": "f2bda2b5-d8b8-4e33-a2c6-2dea4252302d",
   "metadata": {},
   "outputs": [
    {
     "name": "stdout",
     "output_type": "stream",
     "text": [
      "   timestamp  price  earnings\n",
      "0 2023-01-01    100       NaN\n",
      "1 2023-01-02    102       1.5\n",
      "2 2023-01-03    101       1.5\n",
      "3 2023-01-04    103       2.0\n"
     ]
    }
   ],
   "source": [
    "# Sample stock prices (daily)\n",
    "prices = pd.DataFrame({\n",
    "    'timestamp': pd.to_datetime(['2023-01-01', '2023-01-02', '2023-01-03', '2023-01-04']),\n",
    "    'price': [100, 102, 101, 103]\n",
    "})\n",
    "\n",
    "# Sample earnings announcements (less frequent)\n",
    "earnings = pd.DataFrame({\n",
    "    'timestamp': pd.to_datetime(['2023-01-02', '2023-01-04']),\n",
    "    'earnings': [1.5, 2.0]\n",
    "})\n",
    "\n",
    "# Merge stock prices with the most recent earnings announcement\n",
    "result = pd.merge_asof(prices, earnings, on='timestamp', direction='backward')\n",
    "print(result)\n"
   ]
  },
  {
   "cell_type": "markdown",
   "id": "21d05cf1-afd3-4c84-bcdf-707560de1f84",
   "metadata": {},
   "source": [
    "Here, you can see that merge_asof aligns each stock price with the most recent earnings announcement, providing a structure that allows financial analysts to compare price movements with corporate events."
   ]
  },
  {
   "cell_type": "markdown",
   "id": "d3de6376-5307-4f10-b5da-eb83bb21948b",
   "metadata": {},
   "source": [
    "## <b>NOTE: We are usually fine with using just <code>merge</code> or <code>concat</code>.</b>\n",
    "But here is some information about join as well"
   ]
  },
  {
   "cell_type": "markdown",
   "id": "02a33452-5c2f-4d6c-844d-8718f89a6d5a",
   "metadata": {},
   "source": [
    "### Joining DataFrames\n",
    "The join() function in pandas allows you to combine two DataFrames based on their index. This method is simpler than merge() if your DataFrames are already indexed in a meaningful way. By default, join() performs a left join, but it supports other join types as well."
   ]
  },
  {
   "cell_type": "markdown",
   "id": "07ace99a-bce8-42cf-8afc-c200d4b77c12",
   "metadata": {},
   "source": [
    "## 10. Grouping and Aggregation (NOT MANDATORY)\n",
    "\n",
    "In many data analysis tasks, especially when working with large datasets, you often need to **group** your data and apply **aggregate functions** to understand trends, patterns, or summaries. This process is commonly used in financial analysis, sales data, and customer segmentation.\n",
    "\n",
    "### **Why is Grouping and Aggregation Important?**\n",
    "\n",
    "- **Summarize Large Datasets**: Aggregation allows you to condense large datasets into meaningful summaries. For example, calculating the total revenue per region or average sales per quarter.\n",
    "- **Detect Patterns**: By grouping data, you can spot trends and patterns, such as understanding which products perform better in different regions or over different time periods.\n",
    "- **Advanced Calculations**: Grouping provides the ability to perform more complex calculations, such as sums, averages, counts, and more, across specific categories or groups.\n",
    "\n",
    "### **What Will We Do?**\n",
    "\n",
    "In this section, we will:\n",
    "1. Use the `.groupby()` function to split data into groups based on one or more columns.\n",
    "2. Apply aggregate functions such as `sum()`, `mean()`, `count()`, and others to these groups.\n",
    "3. Perform **multi-level grouping** and apply multiple aggregation functions at once.\n",
    "4. Learn how to transform and filter grouped data."
   ]
  },
  {
   "cell_type": "code",
   "execution_count": 51,
   "id": "91f28647-4ea2-450b-a0b0-1fdae0eef51b",
   "metadata": {},
   "outputs": [
    {
     "name": "stdout",
     "output_type": "stream",
     "text": [
      "Original DataFrame:\n",
      "        date  stock  price   volume\n",
      "0 2023-01-01   AAPL    150  1000000\n",
      "1 2023-01-02  GOOGL   2500   500000\n",
      "2 2023-01-03   MSFT    300  1200000\n",
      "3 2023-01-04   AAPL    152  1100000\n",
      "4 2023-01-05  GOOGL   2510   520000\n",
      "5 2023-01-06   MSFT    305  1250000\n"
     ]
    }
   ],
   "source": [
    "# Create a sample DataFrame\n",
    "df = pd.DataFrame({\n",
    "    'date': pd.date_range(start='2023-01-01', periods=6),\n",
    "    'stock': ['AAPL', 'GOOGL', 'MSFT', 'AAPL', 'GOOGL', 'MSFT'],\n",
    "    'price': [150, 2500, 300, 152, 2510, 305],\n",
    "    'volume': [1000000, 500000, 1200000, 1100000, 520000, 1250000]\n",
    "})\n",
    "\n",
    "print(\"Original DataFrame:\")\n",
    "print(df)"
   ]
  },
  {
   "cell_type": "markdown",
   "id": "76c44afe-c4be-41c4-9975-2f7c1864cc8c",
   "metadata": {},
   "source": [
    "### Grouping Data with `.groupby()`\n",
    "\n",
    "The `.groupby()` function in pandas allows you to group your data based on one or more columns. Once grouped, you can apply aggregation functions to each group independently.\n",
    "\n",
    "#### **Example: Grouping Sales Data by Region**"
   ]
  },
  {
   "cell_type": "code",
   "execution_count": 52,
   "id": "8661fb18-1e0c-44ba-9e11-095b107b4090",
   "metadata": {},
   "outputs": [
    {
     "name": "stdout",
     "output_type": "stream",
     "text": [
      "\n",
      "Grouped by stock:\n",
      "        price   volume\n",
      "stock                 \n",
      "AAPL    151.0  2100000\n",
      "GOOGL  2505.0  1020000\n",
      "MSFT    302.5  2450000\n"
     ]
    }
   ],
   "source": [
    "# Group by stock and calculate mean price and total volume\n",
    "grouped = df.groupby('stock').agg({'price': 'mean', 'volume': 'sum'})\n",
    "print(\"\\nGrouped by stock:\")\n",
    "print(grouped)"
   ]
  },
  {
   "cell_type": "markdown",
   "id": "bc9b1727-48eb-44ab-bcfe-04f0668cd3ae",
   "metadata": {},
   "source": [
    "### Applying Aggregate Functions\n",
    "Once you have grouped the data, pandas allows you to apply various aggregation functions to summarize the data. Some common functions include:\n",
    "\n",
    "* sum(): Total value for each group.\n",
    "* mean(): Average value for each group.\n",
    "* count(): Number of observations in each group.\n",
    "* min(), max(): Minimum and maximum values for each group."
   ]
  },
  {
   "cell_type": "code",
   "execution_count": 53,
   "id": "450059b3-82ed-4a3f-8a39-aa3bbf155b51",
   "metadata": {},
   "outputs": [
    {
     "name": "stdout",
     "output_type": "stream",
     "text": [
      "\n",
      "Multiple aggregations:\n",
      "        price               volume           \n",
      "         mean   min   max      sum       mean\n",
      "stock                                        \n",
      "AAPL    151.0   150   152  2100000  1050000.0\n",
      "GOOGL  2505.0  2500  2510  1020000   510000.0\n",
      "MSFT    302.5   300   305  2450000  1225000.0\n"
     ]
    }
   ],
   "source": [
    "# Multiple aggregations\n",
    "multi_agg = df.groupby('stock').agg({\n",
    "    'price': ['mean', 'min', 'max'],\n",
    "    'volume': ['sum', 'mean']\n",
    "})\n",
    "print(\"\\nMultiple aggregations:\")\n",
    "print(multi_agg)"
   ]
  },
  {
   "cell_type": "markdown",
   "id": "3a7194fa-2df7-4570-ab47-33d1c34db7ea",
   "metadata": {},
   "source": [
    "### Using difference methods for aggrigation"
   ]
  },
  {
   "cell_type": "code",
   "execution_count": 54,
   "id": "2ad44117-c8c4-41d3-bb05-7abf9379b8a8",
   "metadata": {},
   "outputs": [
    {
     "name": "stdout",
     "output_type": "stream",
     "text": [
      "        Sales  Employees\n",
      "Region                  \n",
      "East      550        5.0\n",
      "West      450        7.5\n"
     ]
    }
   ],
   "source": [
    "data = {\n",
    "    'Region': ['East', 'West', 'East', 'West', 'East'],\n",
    "    'Sales': [100, 200, 150, 250, 300],\n",
    "    'Employees': [5, 7, 6, 8, 4]\n",
    "}\n",
    "\n",
    "df = pd.DataFrame(data)\n",
    "\n",
    "# Aggregating multiple columns (total sales and average employees per region)\n",
    "grouped_data = df.groupby('Region').agg({\n",
    "    'Sales': 'sum',\n",
    "    'Employees': 'mean'\n",
    "})\n",
    "print(grouped_data)"
   ]
  },
  {
   "cell_type": "markdown",
   "id": "20f08bfa-9dfa-4ddf-bbc1-b90bbbca123d",
   "metadata": {},
   "source": [
    "In this case, we use the agg() function to apply different aggregation functions to multiple columns: summing the Sales and calculating the average number of Employees per region.\n",
    "\n"
   ]
  },
  {
   "cell_type": "markdown",
   "id": "fe555d00-c64d-4b91-89b5-f4fb535f0111",
   "metadata": {},
   "source": [
    "### Custom aggregation function (advanced)"
   ]
  },
  {
   "cell_type": "code",
   "execution_count": 55,
   "id": "dea06cc1-12d6-4cab-8c8f-35d1caad084e",
   "metadata": {},
   "outputs": [
    {
     "name": "stdout",
     "output_type": "stream",
     "text": [
      "Original DataFrame:\n",
      "        date  stock  price   volume\n",
      "0 2023-01-01   AAPL    150  1000000\n",
      "1 2023-01-02  GOOGL   2500   500000\n",
      "2 2023-01-03   MSFT    300  1200000\n",
      "3 2023-01-04   AAPL    152  1100000\n",
      "4 2023-01-05  GOOGL   2510   520000\n",
      "5 2023-01-06   MSFT    305  1250000\n"
     ]
    }
   ],
   "source": [
    "# Create a sample DataFrame\n",
    "df = pd.DataFrame({\n",
    "    'date': pd.date_range(start='2023-01-01', periods=6),\n",
    "    'stock': ['AAPL', 'GOOGL', 'MSFT', 'AAPL', 'GOOGL', 'MSFT'],\n",
    "    'price': [150, 2500, 300, 152, 2510, 305],\n",
    "    'volume': [1000000, 500000, 1200000, 1100000, 520000, 1250000]\n",
    "})\n",
    "\n",
    "print(\"Original DataFrame:\")\n",
    "print(df)"
   ]
  },
  {
   "cell_type": "code",
   "execution_count": 56,
   "id": "fd9007f9-6d8f-4935-821b-990c045f138d",
   "metadata": {},
   "outputs": [
    {
     "name": "stdout",
     "output_type": "stream",
     "text": [
      "\n",
      "Custom aggregation:\n",
      "        price               volume\n",
      "         mean price_range      sum\n",
      "stock                             \n",
      "AAPL    151.0           2  2100000\n",
      "GOOGL  2505.0          10  1020000\n",
      "MSFT    302.5           5  2450000\n"
     ]
    }
   ],
   "source": [
    "def price_range(x):\n",
    "    return x.max() - x.min()\n",
    "\n",
    "custom_agg = df.groupby('stock').agg({\n",
    "    'price': ['mean', price_range],\n",
    "    'volume': 'sum'\n",
    "})\n",
    "print(\"\\nCustom aggregation:\")\n",
    "print(custom_agg)"
   ]
  },
  {
   "cell_type": "markdown",
   "id": "d8f93ab1-fe9d-456b-a872-cbd2510fe73c",
   "metadata": {},
   "source": [
    "## 11. Time Series Functionality (NOT MANDATORY)\n",
    "\n",
    "### Time Series Analysis in pandas\n",
    "\n",
    "Time series data represents data points indexed in time order, often used in fields such as finance, economics, and environmental science. Examples include stock prices over time, daily temperatures, or even sales figures tracked hourly.\n",
    "\n",
    "### Why is Time Series Analysis Important?\n",
    "\n",
    "Understanding trends, seasonality, and cyclical patterns in time series data is crucial for making informed decisions. Time series analysis allows you to:\n",
    "\n",
    "* Detect trends: Identify upward or downward trends over time.\n",
    "* Forecast future data: Predict future data points using models built on historical data.\n",
    "* Detect anomalies: Identify irregular spikes or drops in data.\n",
    "\n",
    "pandas provides excellent support for working with time series data, making it easy to resample, shift, and perform rolling-window calculations.\n",
    "\n",
    "### What will we do? In this section, we will:\n",
    "\n",
    "1. Convert columns to datetime format for easy manipulation.\n",
    "2. Explore date-based indexing.\n",
    "3. Use resample() to adjust frequency (e.g., changing daily data to weekly).\n",
    "4. Perform rolling and cumulative operations to analyze moving trends.\n",
    "\n",
    "\n",
    "### Key Concepts:\n",
    "* Datetime Index: pandas allows you to convert columns to datetime objects for easy indexing and slicing of time-based data.\n",
    "* Resampling: Adjusting the frequency of your time series data (e.g., daily to monthly) using aggregation functions like sum(), mean(), etc.\n",
    "* Rolling Window: Calculating moving averages or other statistics over a rolling time window."
   ]
  },
  {
   "cell_type": "code",
   "execution_count": 57,
   "id": "3b5963c5-e169-4b5e-be32-11a9be69c71f",
   "metadata": {},
   "outputs": [
    {
     "name": "stdout",
     "output_type": "stream",
     "text": [
      "Original DataFrame:\n",
      "            price  volume\n",
      "date                     \n",
      "2023-01-01    100    1000\n",
      "2023-01-02    101    1100\n",
      "2023-01-03    103    1050\n",
      "2023-01-04    102     950\n",
      "2023-01-05    105    1200\n",
      "2023-01-06    107    1300\n",
      "2023-01-07    106    1150\n",
      "2023-01-08    108    1250\n",
      "2023-01-09    110    1400\n",
      "2023-01-10    112    1350\n"
     ]
    }
   ],
   "source": [
    "# Create a sample DataFrame with time series data\n",
    "df = pd.DataFrame({\n",
    "    'date': pd.date_range(start='2023-01-01', periods=10, freq='D'),\n",
    "    'price': [100, 101, 103, 102, 105, 107, 106, 108, 110, 112],\n",
    "    'volume': [1000, 1100, 1050, 950, 1200, 1300, 1150, 1250, 1400, 1350]\n",
    "})\n",
    "df.set_index('date', inplace=True)\n",
    "\n",
    "print(\"Original DataFrame:\")\n",
    "print(df)"
   ]
  },
  {
   "cell_type": "markdown",
   "id": "f1871782-43e0-443b-88c8-a09cfe5bcc46",
   "metadata": {},
   "source": [
    "### Resampling"
   ]
  },
  {
   "cell_type": "code",
   "execution_count": 58,
   "id": "68e61bf0-a8f3-4ba5-a365-ce73086cec60",
   "metadata": {},
   "outputs": [
    {
     "name": "stdout",
     "output_type": "stream",
     "text": [
      "\n",
      "Weekly resampled data:\n",
      "                 price       volume\n",
      "date                               \n",
      "2023-01-01  100.000000  1000.000000\n",
      "2023-01-08  104.571429  1142.857143\n",
      "2023-01-15  111.000000  1375.000000\n"
     ]
    }
   ],
   "source": [
    "# Resample to weekly frequency\n",
    "df_weekly = df.resample('W').mean()\n",
    "print(\"\\nWeekly resampled data:\")\n",
    "print(df_weekly)\n"
   ]
  },
  {
   "cell_type": "markdown",
   "id": "2db9848b-a298-4780-a3f1-63d5e9b66292",
   "metadata": {},
   "source": [
    "### Rolling windows"
   ]
  },
  {
   "cell_type": "code",
   "execution_count": 59,
   "id": "1885038d-73a8-48eb-831c-e9b01192616e",
   "metadata": {},
   "outputs": [
    {
     "name": "stdout",
     "output_type": "stream",
     "text": [
      "\n",
      "DataFrame with 3-day rolling average of price:\n",
      "            price  volume  price_rolling_mean\n",
      "date                                         \n",
      "2023-01-01    100    1000                 NaN\n",
      "2023-01-02    101    1100                 NaN\n",
      "2023-01-03    103    1050          101.333333\n",
      "2023-01-04    102     950          102.000000\n",
      "2023-01-05    105    1200          103.333333\n",
      "2023-01-06    107    1300          104.666667\n",
      "2023-01-07    106    1150          106.000000\n",
      "2023-01-08    108    1250          107.000000\n",
      "2023-01-09    110    1400          108.000000\n",
      "2023-01-10    112    1350          110.000000\n"
     ]
    }
   ],
   "source": [
    "# Calculate 3-day rolling average of price\n",
    "df['price_rolling_mean'] = df['price'].rolling(window=3).mean()\n",
    "print(\"\\nDataFrame with 3-day rolling average of price:\")\n",
    "print(df)"
   ]
  },
  {
   "cell_type": "markdown",
   "id": "74da79ff-3df3-4118-b441-0ba9c553bc52",
   "metadata": {},
   "source": [
    "### Date range selection"
   ]
  },
  {
   "cell_type": "code",
   "execution_count": 60,
   "id": "b2da8e7a-f04f-4d2d-ba1b-bc2e4310c10d",
   "metadata": {},
   "outputs": [
    {
     "name": "stdout",
     "output_type": "stream",
     "text": [
      "\n",
      "Data for specific date range:\n",
      "            price  volume  price_rolling_mean\n",
      "date                                         \n",
      "2023-01-03    103    1050          101.333333\n",
      "2023-01-04    102     950          102.000000\n",
      "2023-01-05    105    1200          103.333333\n",
      "2023-01-06    107    1300          104.666667\n",
      "2023-01-07    106    1150          106.000000\n"
     ]
    }
   ],
   "source": [
    "# Select data for a specific date range\n",
    "date_range = df['2023-01-03':'2023-01-07']\n",
    "print(\"\\nData for specific date range:\")\n",
    "print(date_range)"
   ]
  },
  {
   "cell_type": "markdown",
   "id": "8637f243-ddb5-4bae-a0ee-3c47a8d5c8bf",
   "metadata": {},
   "source": [
    "### Shifting data"
   ]
  },
  {
   "cell_type": "code",
   "execution_count": 61,
   "id": "c5f83e18-d297-4b51-9d53-b6e03c19ce48",
   "metadata": {},
   "outputs": [
    {
     "name": "stdout",
     "output_type": "stream",
     "text": [
      "\n",
      "DataFrame with previous day's price:\n",
      "            price  volume  price_rolling_mean  price_previous_day\n",
      "date                                                             \n",
      "2023-01-01    100    1000                 NaN                 NaN\n",
      "2023-01-02    101    1100                 NaN               100.0\n",
      "2023-01-03    103    1050          101.333333               101.0\n",
      "2023-01-04    102     950          102.000000               103.0\n",
      "2023-01-05    105    1200          103.333333               102.0\n",
      "2023-01-06    107    1300          104.666667               105.0\n",
      "2023-01-07    106    1150          106.000000               107.0\n",
      "2023-01-08    108    1250          107.000000               106.0\n",
      "2023-01-09    110    1400          108.000000               108.0\n",
      "2023-01-10    112    1350          110.000000               110.0\n"
     ]
    }
   ],
   "source": [
    "# Shift price data forward by 1 day\n",
    "df['price_previous_day'] = df['price'].shift(1)\n",
    "print(\"\\nDataFrame with previous day's price:\")\n",
    "print(df)"
   ]
  },
  {
   "cell_type": "markdown",
   "id": "c68b7744-85c0-477a-87b0-7bcd7bc3e2eb",
   "metadata": {},
   "source": [
    "### Percentage change"
   ]
  },
  {
   "cell_type": "code",
   "execution_count": 62,
   "id": "4483261c-be0d-4996-99f6-d26cb44ac91c",
   "metadata": {},
   "outputs": [
    {
     "name": "stdout",
     "output_type": "stream",
     "text": [
      "\n",
      "DataFrame with daily percentage change in price:\n",
      "            price  volume  price_rolling_mean  price_previous_day  \\\n",
      "date                                                                \n",
      "2023-01-01    100    1000                 NaN                 NaN   \n",
      "2023-01-02    101    1100                 NaN               100.0   \n",
      "2023-01-03    103    1050          101.333333               101.0   \n",
      "2023-01-04    102     950          102.000000               103.0   \n",
      "2023-01-05    105    1200          103.333333               102.0   \n",
      "2023-01-06    107    1300          104.666667               105.0   \n",
      "2023-01-07    106    1150          106.000000               107.0   \n",
      "2023-01-08    108    1250          107.000000               106.0   \n",
      "2023-01-09    110    1400          108.000000               108.0   \n",
      "2023-01-10    112    1350          110.000000               110.0   \n",
      "\n",
      "            price_pct_change  \n",
      "date                          \n",
      "2023-01-01               NaN  \n",
      "2023-01-02          1.000000  \n",
      "2023-01-03          1.980198  \n",
      "2023-01-04         -0.970874  \n",
      "2023-01-05          2.941176  \n",
      "2023-01-06          1.904762  \n",
      "2023-01-07         -0.934579  \n",
      "2023-01-08          1.886792  \n",
      "2023-01-09          1.851852  \n",
      "2023-01-10          1.818182  \n"
     ]
    }
   ],
   "source": [
    "# Calculate daily percentage change in price\n",
    "df['price_pct_change'] = df['price'].pct_change() * 100\n",
    "print(\"\\nDataFrame with daily percentage change in price:\")\n",
    "print(df)"
   ]
  },
  {
   "cell_type": "markdown",
   "id": "4cb33d76-125f-4487-a4d4-26ee4f6ef42a",
   "metadata": {},
   "source": [
    "## 12. Financial Data Analysis with Pandas\n",
    "\n",
    "### Merging and Joining DataFrames\n",
    "\n",
    "In real-world data analysis, you’ll often need to combine multiple datasets. pandas makes this process straightforward using its merging and joining capabilities. These operations allow you to bring together different pieces of data based on a common column (key).\n",
    "\n",
    "### Why are Merging and Joining Important?\n",
    "\n",
    "Combining datasets is critical when:\n",
    "\n",
    "* You want to enrich your analysis by pulling in additional information.\n",
    "* You are working with data that is split across multiple sources (e.g., customer information in one table and transaction data in another).\n",
    "* You need to integrate related data from external sources (e.g., pulling in economic indicators to compare with sales data).\n",
    "\n",
    "#### What will we do? In this section, we will:\n",
    "1. Use the merge() function to combine DataFrames based on a shared key.\n",
    "2. Explore different types of joins: inner, outer, left, and right.\n",
    "3. Understand how to join DataFrames on multiple columns.\n",
    "4. Learn how to handle overlapping column names in merged datasets.\n",
    "\n",
    "##### Data Types and Conversion\n",
    "\n",
    "When working with pandas DataFrames, it's important to understand and manage data types. This section explores how to check data types, convert between types, and why it matters for analysis and memory efficiency.\n",
    "\n",
    "### Key Concepts:\n",
    "\n",
    "* Merging: Combining two DataFrames based on shared columns.\n",
    "* Types of Joins:\n",
    "    * Inner Join: Only includes rows with matching keys in both DataFrames.\n",
    "    * Outer Join: Includes all rows from both DataFrames, filling in missing values where necessary.\n",
    "    * Left Join: Includes all rows from the left DataFrame, and matching rows from the right DataFrame.\n",
    "    * Right Join: Includes all rows from the right DataFrame, and matching rows from the left DataFrame.\n"
   ]
  },
  {
   "cell_type": "code",
   "execution_count": 75,
   "id": "a18863a1-2dc3-4f1f-8097-598bb27bec78",
   "metadata": {},
   "outputs": [
    {
     "name": "stdout",
     "output_type": "stream",
     "text": [
      "Original DataFrame:\n",
      "            price\n",
      "date             \n",
      "2023-01-01    100\n",
      "2023-01-02    101\n",
      "2023-01-03    103\n",
      "2023-01-04    102\n",
      "2023-01-05    105\n",
      "2023-01-06    107\n",
      "2023-01-07    106\n",
      "2023-01-08    108\n",
      "2023-01-09    110\n",
      "2023-01-10    112\n"
     ]
    }
   ],
   "source": [
    "# Create a sample DataFrame with stock data\n",
    "df = pd.DataFrame({\n",
    "    'date': pd.date_range(start='2023-01-01', periods=10, freq='D'),\n",
    "    'price': [100, 101, 103, 102, 105, 107, 106, 108, 110, 112]\n",
    "})\n",
    "df.set_index('date', inplace=True)\n",
    "\n",
    "print(\"Original DataFrame:\")\n",
    "print(df)"
   ]
  },
  {
   "cell_type": "markdown",
   "id": "35b416fd-02a1-4fef-bc40-36924d43ed39",
   "metadata": {},
   "source": [
    "### Calculating returns"
   ]
  },
  {
   "cell_type": "code",
   "execution_count": 76,
   "id": "6478f11f-8d58-4bdd-a4e1-fe5a4ac1acbe",
   "metadata": {},
   "outputs": [
    {
     "name": "stdout",
     "output_type": "stream",
     "text": [
      "\n",
      "DataFrame with returns:\n",
      "            price  daily_return  cumulative_return\n",
      "date                                              \n",
      "2023-01-01    100           NaN                NaN\n",
      "2023-01-02    101      0.010000               0.01\n",
      "2023-01-03    103      0.019802               0.03\n",
      "2023-01-04    102     -0.009709               0.02\n",
      "2023-01-05    105      0.029412               0.05\n",
      "2023-01-06    107      0.019048               0.07\n",
      "2023-01-07    106     -0.009346               0.06\n",
      "2023-01-08    108      0.018868               0.08\n",
      "2023-01-09    110      0.018519               0.10\n",
      "2023-01-10    112      0.018182               0.12\n"
     ]
    }
   ],
   "source": [
    "# Calculate daily returns\n",
    "df['daily_return'] = df['price'].pct_change()\n",
    "\n",
    "# Calculate cumulative returns\n",
    "df['cumulative_return'] = (1 + df['daily_return']).cumprod() - 1\n",
    "\n",
    "print(\"\\nDataFrame with returns:\")\n",
    "print(df)"
   ]
  },
  {
   "cell_type": "code",
   "execution_count": 77,
   "id": "053ea6b4-fab2-4805-a7a4-b1348f9792dc",
   "metadata": {},
   "outputs": [
    {
     "data": {
      "text/html": [
       "<div>\n",
       "<style scoped>\n",
       "    .dataframe tbody tr th:only-of-type {\n",
       "        vertical-align: middle;\n",
       "    }\n",
       "\n",
       "    .dataframe tbody tr th {\n",
       "        vertical-align: top;\n",
       "    }\n",
       "\n",
       "    .dataframe thead th {\n",
       "        text-align: right;\n",
       "    }\n",
       "</style>\n",
       "<table border=\"1\" class=\"dataframe\">\n",
       "  <thead>\n",
       "    <tr style=\"text-align: right;\">\n",
       "      <th></th>\n",
       "      <th>price</th>\n",
       "      <th>daily_return</th>\n",
       "      <th>cumulative_return</th>\n",
       "      <th>ticker</th>\n",
       "    </tr>\n",
       "    <tr>\n",
       "      <th>date</th>\n",
       "      <th></th>\n",
       "      <th></th>\n",
       "      <th></th>\n",
       "      <th></th>\n",
       "    </tr>\n",
       "  </thead>\n",
       "  <tbody>\n",
       "    <tr>\n",
       "      <th>2023-01-01</th>\n",
       "      <td>100</td>\n",
       "      <td>NaN</td>\n",
       "      <td>NaN</td>\n",
       "      <td>AAPL</td>\n",
       "    </tr>\n",
       "    <tr>\n",
       "      <th>2023-01-02</th>\n",
       "      <td>101</td>\n",
       "      <td>0.010000</td>\n",
       "      <td>0.01</td>\n",
       "      <td>AAPL</td>\n",
       "    </tr>\n",
       "    <tr>\n",
       "      <th>2023-01-03</th>\n",
       "      <td>103</td>\n",
       "      <td>0.019802</td>\n",
       "      <td>0.03</td>\n",
       "      <td>AAPL</td>\n",
       "    </tr>\n",
       "    <tr>\n",
       "      <th>2023-01-04</th>\n",
       "      <td>102</td>\n",
       "      <td>-0.009709</td>\n",
       "      <td>0.02</td>\n",
       "      <td>AAPL</td>\n",
       "    </tr>\n",
       "    <tr>\n",
       "      <th>2023-01-05</th>\n",
       "      <td>105</td>\n",
       "      <td>0.029412</td>\n",
       "      <td>0.05</td>\n",
       "      <td>AAPL</td>\n",
       "    </tr>\n",
       "    <tr>\n",
       "      <th>2023-01-06</th>\n",
       "      <td>107</td>\n",
       "      <td>0.019048</td>\n",
       "      <td>0.07</td>\n",
       "      <td>AAPL</td>\n",
       "    </tr>\n",
       "    <tr>\n",
       "      <th>2023-01-07</th>\n",
       "      <td>106</td>\n",
       "      <td>-0.009346</td>\n",
       "      <td>0.06</td>\n",
       "      <td>AAPL</td>\n",
       "    </tr>\n",
       "    <tr>\n",
       "      <th>2023-01-08</th>\n",
       "      <td>108</td>\n",
       "      <td>0.018868</td>\n",
       "      <td>0.08</td>\n",
       "      <td>AAPL</td>\n",
       "    </tr>\n",
       "    <tr>\n",
       "      <th>2023-01-09</th>\n",
       "      <td>110</td>\n",
       "      <td>0.018519</td>\n",
       "      <td>0.10</td>\n",
       "      <td>AAPL</td>\n",
       "    </tr>\n",
       "    <tr>\n",
       "      <th>2023-01-10</th>\n",
       "      <td>112</td>\n",
       "      <td>0.018182</td>\n",
       "      <td>0.12</td>\n",
       "      <td>AAPL</td>\n",
       "    </tr>\n",
       "  </tbody>\n",
       "</table>\n",
       "</div>"
      ],
      "text/plain": [
       "            price  daily_return  cumulative_return ticker\n",
       "date                                                     \n",
       "2023-01-01    100           NaN                NaN   AAPL\n",
       "2023-01-02    101      0.010000               0.01   AAPL\n",
       "2023-01-03    103      0.019802               0.03   AAPL\n",
       "2023-01-04    102     -0.009709               0.02   AAPL\n",
       "2023-01-05    105      0.029412               0.05   AAPL\n",
       "2023-01-06    107      0.019048               0.07   AAPL\n",
       "2023-01-07    106     -0.009346               0.06   AAPL\n",
       "2023-01-08    108      0.018868               0.08   AAPL\n",
       "2023-01-09    110      0.018519               0.10   AAPL\n",
       "2023-01-10    112      0.018182               0.12   AAPL"
      ]
     },
     "execution_count": 77,
     "metadata": {},
     "output_type": "execute_result"
    }
   ],
   "source": [
    "df['ticker'] = \"AAPL\"\n",
    "df"
   ]
  },
  {
   "cell_type": "markdown",
   "id": "3d2cc919-f055-4989-bc7c-48d9f33c1cb9",
   "metadata": {},
   "source": [
    "### Moving averages"
   ]
  },
  {
   "cell_type": "code",
   "execution_count": 65,
   "id": "1c963efa-036f-4232-b679-4daab9473ded",
   "metadata": {},
   "outputs": [
    {
     "name": "stdout",
     "output_type": "stream",
     "text": [
      "\n",
      "DataFrame with moving averages:\n",
      "            price  daily_return  cumulative_return         MA3         MA7\n",
      "date                                                                      \n",
      "2023-01-01    100           NaN                NaN         NaN         NaN\n",
      "2023-01-02    101      0.010000               0.01         NaN         NaN\n",
      "2023-01-03    103      0.019802               0.03  101.333333         NaN\n",
      "2023-01-04    102     -0.009709               0.02  102.000000         NaN\n",
      "2023-01-05    105      0.029412               0.05  103.333333         NaN\n",
      "2023-01-06    107      0.019048               0.07  104.666667         NaN\n",
      "2023-01-07    106     -0.009346               0.06  106.000000  103.428571\n",
      "2023-01-08    108      0.018868               0.08  107.000000  104.571429\n",
      "2023-01-09    110      0.018519               0.10  108.000000  105.857143\n",
      "2023-01-10    112      0.018182               0.12  110.000000  107.142857\n"
     ]
    }
   ],
   "source": [
    "# Calculate 3-day and 7-day moving averages\n",
    "df['MA3'] = df['price'].rolling(window=3).mean()\n",
    "df['MA7'] = df['price'].rolling(window=7).mean()\n",
    "\n",
    "print(\"\\nDataFrame with moving averages:\")\n",
    "print(df)"
   ]
  },
  {
   "cell_type": "markdown",
   "id": "d4e98331-74fa-47f8-8759-60b3cb8123f9",
   "metadata": {},
   "source": [
    "### Volatility calculation"
   ]
  },
  {
   "cell_type": "code",
   "execution_count": 66,
   "id": "36e957b1-b5ca-4732-af0a-42e193ddb063",
   "metadata": {},
   "outputs": [
    {
     "name": "stdout",
     "output_type": "stream",
     "text": [
      "\n",
      "DataFrame with volatility:\n",
      "            price  daily_return  cumulative_return         MA3         MA7  \\\n",
      "date                                                                         \n",
      "2023-01-01    100           NaN                NaN         NaN         NaN   \n",
      "2023-01-02    101      0.010000               0.01         NaN         NaN   \n",
      "2023-01-03    103      0.019802               0.03  101.333333         NaN   \n",
      "2023-01-04    102     -0.009709               0.02  102.000000         NaN   \n",
      "2023-01-05    105      0.029412               0.05  103.333333         NaN   \n",
      "2023-01-06    107      0.019048               0.07  104.666667         NaN   \n",
      "2023-01-07    106     -0.009346               0.06  106.000000  103.428571   \n",
      "2023-01-08    108      0.018868               0.08  107.000000  104.571429   \n",
      "2023-01-09    110      0.018519               0.10  108.000000  105.857143   \n",
      "2023-01-10    112      0.018182               0.12  110.000000  107.142857   \n",
      "\n",
      "            volatility  \n",
      "date                    \n",
      "2023-01-01         NaN  \n",
      "2023-01-02         NaN  \n",
      "2023-01-03         NaN  \n",
      "2023-01-04         NaN  \n",
      "2023-01-05         NaN  \n",
      "2023-01-06    0.234700  \n",
      "2023-01-07    0.288082  \n",
      "2023-01-08    0.286117  \n",
      "2023-01-09    0.230548  \n",
      "2023-01-10    0.198849  \n"
     ]
    }
   ],
   "source": [
    "# Calculate 5-day rolling standard deviation of returns\n",
    "df['volatility'] = df['daily_return'].rolling(window=5).std() * np.sqrt(252)  # Annualized\n",
    "\n",
    "print(\"\\nDataFrame with volatility:\")\n",
    "print(df)"
   ]
  },
  {
   "cell_type": "markdown",
   "id": "e5e1164d-b906-4e78-9d92-2acfab6dd243",
   "metadata": {},
   "source": [
    "### Correlation matrix"
   ]
  },
  {
   "cell_type": "code",
   "execution_count": 67,
   "id": "d731c4bc-1b43-4c63-b944-e56200fa5ce6",
   "metadata": {},
   "outputs": [
    {
     "name": "stdout",
     "output_type": "stream",
     "text": [
      "\n",
      "Correlation matrix:\n",
      "           AAPL     GOOGL      MSFT\n",
      "AAPL   1.000000 -0.096272 -0.120704\n",
      "GOOGL -0.096272  1.000000  0.980456\n",
      "MSFT  -0.120704  0.980456  1.000000\n"
     ]
    }
   ],
   "source": [
    "# Create a DataFrame with multiple stocks\n",
    "multi_stock = pd.DataFrame({\n",
    "    'date': pd.date_range(start='2023-01-01', periods=10, freq='D'),\n",
    "    'AAPL': [100, 101, 103, 102, 105, 107, 106, 108, 110, 112],\n",
    "    'GOOGL': [250, 251, 250, 252, 251, 253, 252, 254, 255, 256],\n",
    "    'MSFT': [300, 302, 301, 305, 304, 308, 307, 310, 312, 315]\n",
    "})\n",
    "multi_stock.set_index('date', inplace=True)\n",
    "\n",
    "# Calculate correlation matrix\n",
    "correlation_matrix = multi_stock.pct_change().corr()\n",
    "\n",
    "print(\"\\nCorrelation matrix:\")\n",
    "print(correlation_matrix)"
   ]
  },
  {
   "cell_type": "markdown",
   "id": "b14de82e-0706-45da-a0fe-6a913e59adb7",
   "metadata": {},
   "source": [
    "### Plotting the correlation matrix"
   ]
  },
  {
   "cell_type": "code",
   "execution_count": 68,
   "id": "8afeaadc-a35c-4814-aa4a-5d76087014ff",
   "metadata": {},
   "outputs": [
    {
     "data": {
      "image/png": "[encoded data removed]",
      "text/plain": [
       "<Figure size 500x400 with 2 Axes>"
      ]
     },
     "metadata": {},
     "output_type": "display_data"
    }
   ],
   "source": [
    "import matplotlib.pyplot as plt\n",
    "import seaborn as sns\n",
    "\n",
    "\n",
    "plt.figure(figsize=(5, 4))\n",
    "sns.heatmap(correlation_matrix, annot=True, cmap='coolwarm', vmin=-1, vmax=1, center=0)\n",
    "plt.title('Correlation Matrix of Stock Returns')\n",
    "plt.tight_layout()\n",
    "plt.show()"
   ]
  },
  {
   "cell_type": "markdown",
   "id": "c6ae66e1-104a-4d56-9d0b-9061f96cd417",
   "metadata": {},
   "source": [
    "### Plotting the stock prices"
   ]
  },
  {
   "cell_type": "code",
   "execution_count": 69,
   "id": "c26613c8-49ee-4d03-b4b4-41735b8d7fd4",
   "metadata": {},
   "outputs": [
    {
     "data": {
      "image/png": "[encoded data removed]",
      "text/plain": [
       "<Figure size 1200x600 with 1 Axes>"
      ]
     },
     "metadata": {},
     "output_type": "display_data"
    }
   ],
   "source": [
    "plt.figure(figsize=(12, 6))\n",
    "for column in multi_stock.columns:\n",
    "    plt.plot(multi_stock.index, multi_stock[column], label=column)\n",
    "plt.title('Stock Prices Over Time')\n",
    "plt.xlabel('Date')\n",
    "plt.ylabel('Price')\n",
    "plt.legend()\n",
    "plt.tight_layout()\n",
    "plt.show()"
   ]
  },
  {
   "cell_type": "markdown",
   "id": "0b53f4c3-c3ab-4f6e-8909-7dc1bc55e9a5",
   "metadata": {},
   "source": [
    "## 13. Handling Categorical Data\n",
    "\n",
    "### Handling Categorical Data in pandas\n",
    "\n",
    "Categorical data refers to variables that can take on one of a limited, fixed number of possible values (categories). Examples include gender (male/female), product categories (electronics, furniture, clothing), or customer segments (high-value, low-value).\n",
    "\n",
    "When evaluating companies in the finance domain, it's common to work with categorical data such as sector classifications (e.g., Tech, Finance, Healthcare), credit ratings (e.g., AAA, BBB, CCC), or risk levels (e.g., Low, Medium, High). Converting these columns to the categorical data type in pandas can greatly improve memory usage and performance.\n",
    "\n",
    "\n",
    "### Why is Handling Categorical Data Important?\n",
    "\n",
    "Working with categorical data is crucial because it can significantly reduce memory usage and improve performance when working with large datasets. Additionally, correctly handling categorical variables is essential when performing statistical analysis or building machine learning models.\n",
    "\n",
    "### What will we do? In this section, we will:\n",
    "1. Convert columns containing sectors and credit ratings to the categorical data type.\n",
    "2. Work with ordered categories (e.g., credit ratings) to understand their hierarchy and perform advanced comparisons.\n",
    "3. Rename categories (e.g., simplifying or aggregating sectors) and explore how to handle missing categories.\n",
    "\n",
    "### Key Concepts:\n",
    "* Categorical Data Type: This pandas data type stores data more efficiently by encoding categorical values as integers.\n",
    "* Memory Efficiency: Converting columns to categorical data types can significantly reduce memory usage, especially in large datasets.\n",
    "* Category Ordering: Some categorical variables have an inherent order (e.g., low, medium, high). You can enforce this order in pandas."
   ]
  },
  {
   "cell_type": "code",
   "execution_count": 70,
   "id": "b9772d0c-5219-4b4c-87f1-6bc941df2673",
   "metadata": {},
   "outputs": [
    {
     "name": "stdout",
     "output_type": "stream",
     "text": [
      "     Company      Sector Credit Rating Risk Level\n",
      "0  Company A        Tech           AAA        Low\n",
      "1  Company B     Finance           BBB     Medium\n",
      "2  Company C  Healthcare           CCC       High\n",
      "3  Company D        Tech           BBB        Low\n"
     ]
    }
   ],
   "source": [
    "# Example DataFrame\n",
    "data = {\n",
    "    'Company': ['Company A', 'Company B', 'Company C', 'Company D'],\n",
    "    'Sector': ['Tech', 'Finance', 'Healthcare', 'Tech'],\n",
    "    'Credit Rating': ['AAA', 'BBB', 'CCC', 'BBB'],\n",
    "    'Risk Level': ['Low', 'Medium', 'High', 'Low']\n",
    "}\n",
    "\n",
    "df = pd.DataFrame(data)\n",
    "print(df)"
   ]
  },
  {
   "cell_type": "code",
   "execution_count": 71,
   "id": "4f563b0b-e316-419b-8c95-7fdf10a6c38c",
   "metadata": {},
   "outputs": [
    {
     "name": "stdout",
     "output_type": "stream",
     "text": [
      "<class 'pandas.core.frame.DataFrame'>\n",
      "RangeIndex: 4 entries, 0 to 3\n",
      "Data columns (total 4 columns):\n",
      " #   Column         Non-Null Count  Dtype   \n",
      "---  ------         --------------  -----   \n",
      " 0   Company        4 non-null      object  \n",
      " 1   Sector         4 non-null      category\n",
      " 2   Credit Rating  4 non-null      category\n",
      " 3   Risk Level     4 non-null      category\n",
      "dtypes: category(3), object(1)\n",
      "memory usage: 568.0+ bytes\n",
      "None\n"
     ]
    }
   ],
   "source": [
    "# Convert to categorical data types\n",
    "df['Sector'] = df['Sector'].astype('category')\n",
    "df['Credit Rating'] = df['Credit Rating'].astype('category')\n",
    "df['Risk Level'] = df['Risk Level'].astype('category')\n",
    "\n",
    "# Check the memory usage before and after\n",
    "print(df.info())  # Reduced memory usage due to conversion\n"
   ]
  },
  {
   "cell_type": "code",
   "execution_count": 72,
   "id": "84453f77-8998-4fdf-bf34-04ec7556fe52",
   "metadata": {},
   "outputs": [
    {
     "name": "stdout",
     "output_type": "stream",
     "text": [
      "     Company Sector Credit Rating Risk Level\n",
      "0  Company A   Tech           AAA        Low\n"
     ]
    }
   ],
   "source": [
    "# Define the order of the categories for Credit Rating\n",
    "credit_order = ['CCC', 'BBB', 'AAA']\n",
    "\n",
    "df['Credit Rating'] = pd.Categorical(df['Credit Rating'], categories=credit_order, ordered=True)\n",
    "\n",
    "# Now, comparisons between ratings work as expected\n",
    "print(df[df['Credit Rating'] > 'BBB'])  # This will return companies with ratings better than BBB"
   ]
  },
  {
   "cell_type": "code",
   "execution_count": 73,
   "id": "41afba60-42cd-4d1e-a77e-bf657ae899d4",
   "metadata": {},
   "outputs": [
    {
     "name": "stdout",
     "output_type": "stream",
     "text": [
      "     Company              Sector Credit Rating Risk Level\n",
      "0  Company A                Tech           AAA        Low\n",
      "1  Company B  Financial Services           BBB     Medium\n",
      "2  Company C          Healthcare           CCC       High\n",
      "3  Company D                Tech           BBB        Low\n"
     ]
    }
   ],
   "source": [
    "# Rename or aggregate sectors\n",
    "df['Sector'] = df['Sector'].cat.rename_categories({'Finance': 'Financial Services'})\n",
    "\n",
    "# Adding missing categories\n",
    "df['Sector'] = df['Sector'].cat.add_categories(['Energy', 'Real Estate'])\n",
    "print(df)"
   ]
  },
  {
   "cell_type": "code",
   "execution_count": null,
   "id": "b395ae0f-4017-4298-8f3a-3691a08e93e9",
   "metadata": {},
   "outputs": [],
   "source": []
  },
  {
   "cell_type": "code",
   "execution_count": null,
   "id": "adebd038-45f1-4c1e-975d-b0d6ab1cef03",
   "metadata": {},
   "outputs": [],
   "source": []
  },
  {
   "cell_type": "code",
   "execution_count": null,
   "id": "887ec9a2-32ca-44d6-af0d-345e3038f1e7",
   "metadata": {},
   "outputs": [],
   "source": []
  }
 ],
 "metadata": {
  "kernelspec": {
   "display_name": "Python 3 (ipykernel)",
   "language": "python",
   "name": "python3"
  },
  "language_info": {
   "codemirror_mode": {
    "name": "ipython",
    "version": 3
   },
   "file_extension": ".py",
   "mimetype": "text/x-python",
   "name": "python",
   "nbconvert_exporter": "python",
   "pygments_lexer": "ipython3",
   "version": "3.8.6"
  }
 },
 "nbformat": 4,
 "nbformat_minor": 5
}
